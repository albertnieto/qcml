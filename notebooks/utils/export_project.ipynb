{
 "cells": [
  {
   "cell_type": "markdown",
   "id": "06eadea5-71bb-4a86-9af2-e6489ba2cc47",
   "metadata": {},
   "source": [
    "# Exporting a Project in Jupyter Notebook\n",
    "\n",
    "In this notebook, we'll cover different methods to export a project. This includes using `tar` with and without excludes. We will also provide examples for creating a zip archive using console commands.\n",
    "\n",
    "## Using `tar`\n",
    "\n",
    "This method creates a tarball without excluding any directories."
   ]
  },
  {
   "cell_type": "code",
   "execution_count": null,
   "id": "768cb13f-0b85-4380-8d99-286a76cd10de",
   "metadata": {},
   "outputs": [],
   "source": [
    "!tar -cvzf project_full.tar.gz ."
   ]
  },
  {
   "cell_type": "markdown",
   "id": "629cb374-975c-47e6-a15a-18c392b8ac1e",
   "metadata": {
    "tags": []
   },
   "source": [
    "## Using `tar` with Excludes\n",
    "\n",
    "This method creates a tarball (.tar.gz file) while excluding specific directories."
   ]
  },
  {
   "cell_type": "code",
   "execution_count": null,
   "id": "b4dab028-4c45-4690-bbf5-54243125fc8c",
   "metadata": {
    "tags": []
   },
   "outputs": [],
   "source": [
    "!tar -cvzf qic.tar.gz --exclude='results' --exclude='datasets' --exclude='_old' --exclude='.ipynb_checkpoints' --exclude='arqa_dataset' --exclude='logs' --exclude='mnist_original' --exclude='quantum-architectures' ."
   ]
  },
  {
   "cell_type": "markdown",
   "id": "a2df8dd7-105d-43a6-a985-6c6194444bd8",
   "metadata": {
    "tags": []
   },
   "source": [
    "## Creating a Zip Archive Using Console Commands\n",
    "\n",
    "To create a zip archive, you can use the `zip` command in your console."
   ]
  },
  {
   "cell_type": "code",
   "execution_count": null,
   "id": "8c5e80dd-ae88-4283-b808-9cd9ff1156d5",
   "metadata": {},
   "outputs": [],
   "source": [
    "!zip -r qic.zip ."
   ]
  },
  {
   "cell_type": "markdown",
   "id": "90710df7-32fe-4b8a-a529-17f0ed47aceb",
   "metadata": {},
   "source": [
    "### Zip with Excludes\n",
    "\n",
    "To exclude specific directories while creating the zip archive, you can use the `-x` option:"
   ]
  },
  {
   "cell_type": "code",
   "execution_count": null,
   "id": "b22aeebf-9cf4-410d-8b74-fec380d5d0e8",
   "metadata": {},
   "outputs": [],
   "source": [
    "!zip -r project.zip . -x \"results/*\" -x \"datasets/*\" -x \"_old/*\" -x \".ipynb_checkpoints/*\" -x \".kaggle/*\""
   ]
  }
 ],
 "metadata": {
  "kernelspec": {
   "display_name": "Python 3 (ipykernel)",
   "language": "python",
   "name": "python3"
  },
  "language_info": {
   "codemirror_mode": {
    "name": "ipython",
    "version": 3
   },
   "file_extension": ".py",
   "mimetype": "text/x-python",
   "name": "python",
   "nbconvert_exporter": "python",
   "pygments_lexer": "ipython3",
   "version": "3.10.12"
  }
 },
 "nbformat": 4,
 "nbformat_minor": 5
}
