{
 "cells": [
  {
   "cell_type": "markdown",
   "id": "850e127b-6120-4f9e-a70a-94c8e396c9c7",
   "metadata": {},
   "source": [
    "# Software versions"
   ]
  },
  {
   "cell_type": "markdown",
   "id": "a8883fb6-4d35-41ce-a698-95f154d374e2",
   "metadata": {},
   "source": [
    "## Qiskit version table"
   ]
  },
  {
   "cell_type": "markdown",
   "id": "9a3c1104-c291-417e-8ec2-ef6e1077304a",
   "metadata": {},
   "source": [
    "In order to check Qiskit dashboard, please first login to IBM Quantum."
   ]
  },
  {
   "cell_type": "code",
   "execution_count": null,
   "id": "fe6b2de6-bc21-4ae8-8827-8515a378448b",
   "metadata": {
    "tags": []
   },
   "outputs": [],
   "source": [
    "from qiskit_ibm_provider import IBMProvider\n",
    "import qiskit_ibm_provider.jupyter\n",
    "\n",
    "%ibm_quantum_dashboard"
   ]
  },
  {
   "cell_type": "markdown",
   "id": "ee7fb59c-bdcc-4e33-9e6a-6e16e6b78022",
   "metadata": {},
   "source": [
    "## Other dependencies"
   ]
  },
  {
   "cell_type": "code",
   "execution_count": null,
   "id": "918eec9e-80d1-4a2c-946f-4cb768e311c6",
   "metadata": {
    "tags": []
   },
   "outputs": [],
   "source": [
    "from importlib.metadata import version\n",
    "\n",
    "packages = [\n",
    "    \"qiskit\",\n",
    "    \"pennylane\",\n",
    "    \"pennylane-qiskit\",\n",
    "    \"tensorflow\",\n",
    "    \"tensorflow_quantum\",\n",
    "    \"jax\",\n",
    "    \"numpy\",\n",
    "    \"cirq\",\n",
    "    \"matplotlib\",\n",
    "    \"seaborn\",\n",
    "    \"sympy\",\n",
    "    \"scipy\",\n",
    "]\n",
    "\n",
    "{name: version(name) for name in sorted(packages)}"
   ]
  },
  {
   "cell_type": "markdown",
   "id": "23be2c21-e503-422a-8788-c61092f4c5ad",
   "metadata": {},
   "source": [
    "# Installation Utilities"
   ]
  },
  {
   "cell_type": "markdown",
   "id": "94776a32-715d-40fd-8244-71ae13432f44",
   "metadata": {},
   "source": [
    "Install requierements.txt"
   ]
  },
  {
   "cell_type": "code",
   "execution_count": null,
   "id": "635b6961-2b4a-4da9-b82b-05f62d4f7955",
   "metadata": {},
   "outputs": [],
   "source": [
    "!pip install -r requirements.txt"
   ]
  },
  {
   "cell_type": "markdown",
   "id": "f7dae668-615d-4d12-bf08-a97f9c07dd69",
   "metadata": {},
   "source": [
    "Save current libraries used in pip into a requierements file."
   ]
  },
  {
   "cell_type": "code",
   "execution_count": 1,
   "id": "efe459f4-19b1-42c1-bac9-467886bb759a",
   "metadata": {
    "tags": []
   },
   "outputs": [],
   "source": [
    "!pip freeze > requirements.txt"
   ]
  },
  {
   "cell_type": "markdown",
   "id": "9d08bdd8-3ed4-44e0-ad60-5a07e6bee2b9",
   "metadata": {},
   "source": [
    "Print current libraries."
   ]
  },
  {
   "cell_type": "code",
   "execution_count": 1,
   "id": "abe4b1d9-53c4-4f7a-beea-19afa72c60ea",
   "metadata": {
    "tags": []
   },
   "outputs": [
    {
     "name": "stdout",
     "output_type": "stream",
     "text": [
      "alembic==1.13.2\n",
      "annotated-types==0.7.0\n",
      "ansicolors==1.1.8\n",
      "anyio==4.4.0\n",
      "appdirs==1.4.4\n",
      "argon2-cffi==23.1.0\n",
      "argon2-cffi-bindings==21.2.0\n",
      "arrow==1.3.0\n",
      "asttokens==2.4.1\n",
      "astunparse==1.6.3\n",
      "async-lru==2.0.4\n",
      "attrs==23.2.0\n",
      "autograd==1.6.2\n",
      "autoray==0.6.12\n",
      "Babel==2.15.0\n",
      "beautifulsoup4==4.12.3\n",
      "bleach==6.1.0\n",
      "blinker==1.4\n",
      "build==1.2.1\n",
      "CacheControl==0.14.0\n",
      "cachetools==5.3.3\n",
      "certifi==2024.7.4\n",
      "certipy==0.1.3\n",
      "cffi==1.16.0\n",
      "charset-normalizer==3.3.2\n",
      "cleo==2.1.0\n",
      "click==8.1.7\n",
      "cloudpickle==3.0.0\n",
      "cmake==3.30.0\n",
      "comm==0.2.2\n",
      "contourpy==1.2.1\n",
      "crashtest==0.4.1\n",
      "cryptography==42.0.8\n",
      "cuquantum-cu12==24.3.0.post1\n",
      "custatevec-cu12==1.6.0.post1\n",
      "cutensor-cu12==2.0.1\n",
      "cutensornet-cu12==2.4.0.post1\n",
      "cycler==0.12.1\n",
      "dask==2024.7.1\n",
      "dask-expr==1.1.9\n",
      "dbus-python==1.2.18\n",
      "debugpy==1.8.2\n",
      "decorator==5.1.1\n",
      "defusedxml==0.7.1\n",
      "dill==0.3.8\n",
      "distlib==0.3.8\n",
      "distributed==2024.7.1\n",
      "distro==1.7.0\n",
      "distro-info==1.1+ubuntu0.2\n",
      "dulwich==0.21.7\n",
      "entrypoints==0.4\n",
      "exceptiongroup==1.2.2\n",
      "executing==2.0.1\n",
      "expecttest==0.2.1\n",
      "fastjsonschema==2.20.0\n",
      "filelock==3.15.4\n",
      "fonttools==4.53.1\n",
      "fqdn==1.5.1\n",
      "fsspec==2024.6.1\n",
      "future==1.0.0\n",
      "greenlet==3.0.3\n",
      "h11==0.14.0\n",
      "httpcore==1.0.5\n",
      "httplib2==0.20.2\n",
      "httpx==0.27.0\n",
      "hypothesis==6.108.2\n",
      "idna==3.7\n",
      "importlib_metadata==8.0.0\n",
      "installer==0.7.0\n",
      "ipykernel==6.29.5\n",
      "ipython==8.26.0\n",
      "isoduration==20.11.0\n",
      "jaraco.classes==3.4.0\n",
      "jax==0.4.30\n",
      "jax-cuda12-pjrt==0.4.30\n",
      "jax-cuda12-plugin==0.4.30\n",
      "jaxlib==0.4.30\n",
      "jedi==0.19.1\n",
      "jeepney==0.7.1\n",
      "Jinja2==3.1.4\n",
      "joblib==1.4.2\n",
      "json5==0.9.25\n",
      "jsonpointer==3.0.0\n",
      "jsonschema==4.23.0\n",
      "jsonschema-specifications==2023.12.1\n",
      "jupyter-events==0.10.0\n",
      "jupyter-lsp==2.2.5\n",
      "jupyter_client==8.6.2\n",
      "jupyter_core==5.7.2\n",
      "jupyter_server==2.14.2\n",
      "jupyter_server_terminals==0.5.3\n",
      "jupyterhub==5.0.0\n",
      "jupyterlab==4.2.3\n",
      "jupyterlab_pygments==0.3.0\n",
      "jupyterlab_server==2.27.3\n",
      "kaggle==1.6.17\n",
      "keyring==24.3.1\n",
      "kiwisolver==1.4.5\n",
      "lark==1.1.9\n",
      "launchpadlib==1.10.16\n",
      "lazr.restfulclient==0.14.4\n",
      "lazr.uri==1.0.6\n",
      "locket==1.0.0\n",
      "Mako==1.3.5\n",
      "markdown-it-py==3.0.0\n",
      "MarkupSafe==2.1.5\n",
      "matplotlib==3.9.1\n",
      "matplotlib-inline==0.1.7\n",
      "mdurl==0.1.2\n",
      "mistune==3.0.2\n",
      "ml-dtypes==0.4.0\n",
      "more-itertools==8.10.0\n",
      "mpmath==1.3.0\n",
      "msgpack==1.0.8\n",
      "nbclient==0.10.0\n",
      "nbconvert==7.16.4\n",
      "nbformat==5.10.4\n",
      "nest-asyncio==1.6.0\n",
      "networkx==3.3\n",
      "ninja==1.11.1.1\n",
      "notebook_shim==0.2.4\n",
      "numpy==1.26.4\n",
      "nvidia-cublas-cu12==12.1.3.1\n",
      "nvidia-cuda-cupti-cu12==12.1.105\n",
      "nvidia-cuda-nvcc-cu12==12.5.82\n",
      "nvidia-cuda-nvrtc-cu12==12.1.105\n",
      "nvidia-cuda-runtime-cu12==12.1.105\n",
      "nvidia-cudnn-cu12==8.9.2.26\n",
      "nvidia-cufft-cu12==11.0.2.54\n",
      "nvidia-curand-cu12==10.3.2.106\n",
      "nvidia-cusolver-cu12==11.4.5.107\n",
      "nvidia-cusparse-cu12==12.1.0.106\n",
      "nvidia-nccl-cu12==2.20.5\n",
      "nvidia-nvjitlink-cu12==12.5.82\n",
      "nvidia-nvtx-cu12==12.1.105\n",
      "oauthlib==3.2.0\n",
      "opencv-python==4.10.0.84\n",
      "opencv-python-headless==4.10.0.84\n",
      "opt-einsum==3.3.0\n",
      "optree==0.12.1\n",
      "overrides==7.7.0\n",
      "packaging==24.1\n",
      "pamela==1.1.0\n",
      "pandas==2.2.2\n",
      "pandocfilters==1.5.1\n",
      "papermill==2.6.0\n",
      "parso==0.8.4\n",
      "partd==1.4.2\n",
      "pbr==6.0.0\n",
      "PennyLane==0.37.0\n",
      "PennyLane_Lightning==0.37.0\n",
      "PennyLane_Lightning_GPU==0.37.0\n",
      "pexpect==4.9.0\n",
      "pillow==10.4.0\n",
      "pkginfo==1.11.1\n",
      "platformdirs==4.2.2\n",
      "poetry==1.8.3\n",
      "poetry-core==1.9.0\n",
      "poetry-plugin-export==1.8.0\n",
      "prometheus_client==0.20.0\n",
      "prompt_toolkit==3.0.47\n",
      "psutil==6.0.0\n",
      "ptyprocess==0.7.0\n",
      "pure-eval==0.2.2\n",
      "pyarrow==17.0.0\n",
      "pycparser==2.22\n",
      "pydantic==2.8.2\n",
      "pydantic_core==2.20.1\n",
      "pydot==2.0.0\n",
      "Pygments==2.18.0\n",
      "PyGObject==3.42.1\n",
      "PyJWT==2.3.0\n",
      "pylatexenc==2.10\n",
      "pyOpenSSL==24.1.0\n",
      "pyparsing==3.1.2\n",
      "pyproject_hooks==1.1.0\n",
      "python-apt==2.4.0+ubuntu3\n",
      "python-dateutil==2.9.0.post0\n",
      "python-json-logger==2.0.7\n",
      "python-slugify==8.0.4\n",
      "pytz==2024.1\n",
      "PyYAML==6.0.1\n",
      "pyzmq==26.0.3\n",
      "qiskit==1.1.1\n",
      "qiskit-aer-gpu==0.14.2\n",
      "rapidfuzz==3.9.4\n",
      "referencing==0.35.1\n",
      "requests==2.32.3\n",
      "requests-toolbelt==1.0.0\n",
      "rfc3339-validator==0.1.4\n",
      "rfc3986-validator==0.1.1\n",
      "rich==13.7.1\n",
      "rpds-py==0.19.0\n",
      "rustworkx==0.15.1\n",
      "scikit-learn==1.5.1\n",
      "scipy==1.14.0\n",
      "seaborn==0.13.2\n",
      "SecretStorage==3.3.1\n",
      "semantic-version==2.10.0\n",
      "Send2Trash==1.8.3\n",
      "shellingham==1.5.4\n",
      "six==1.16.0\n",
      "sniffio==1.3.1\n",
      "sortedcontainers==2.4.0\n",
      "soupsieve==2.5\n",
      "SQLAlchemy==2.0.31\n",
      "stack-data==0.6.3\n",
      "stevedore==5.2.0\n",
      "symengine==0.11.0\n",
      "sympy==1.12.1\n",
      "tblib==3.0.0\n",
      "tenacity==8.5.0\n",
      "terminado==0.18.1\n",
      "text-unidecode==1.3\n",
      "threadpoolctl==3.5.0\n",
      "tifffile==2024.7.24\n",
      "tinycss2==1.3.0\n",
      "toml==0.10.2\n",
      "tomli==2.0.1\n",
      "tomlkit==0.13.0\n",
      "toolz==0.12.1\n",
      "# Editable install with no version control (torch==2.3.1)\n",
      "-e /home/jovyan/.local/lib/python3.10/site-packages\n",
      "torchvision==0.18.1\n",
      "tornado==6.4.1\n",
      "tqdm==4.66.4\n",
      "traitlets==5.14.3\n",
      "triton==2.3.1\n",
      "trove-classifiers==2024.7.2\n",
      "types-dataclasses==0.6.6\n",
      "types-python-dateutil==2.9.0.20240316\n",
      "typing_extensions==4.12.2\n",
      "tzdata==2024.1\n",
      "unattended-upgrades==0.1\n",
      "uri-template==1.3.0\n",
      "urllib3==2.2.2\n",
      "virtualenv==20.26.3\n",
      "wadllib==1.3.6\n",
      "wcwidth==0.2.13\n",
      "webcolors==24.6.0\n",
      "webencodings==0.5.1\n",
      "websocket-client==1.8.0\n",
      "zict==3.0.0\n",
      "zipp==1.0.0\n"
     ]
    }
   ],
   "source": [
    "!pip freeze"
   ]
  },
  {
   "cell_type": "markdown",
   "id": "46f804dd-2404-4063-b49c-a79122b8c637",
   "metadata": {},
   "source": [
    "Check errors in dependencies."
   ]
  },
  {
   "cell_type": "code",
   "execution_count": 2,
   "id": "db436225-0ea7-453f-a025-d07f128351cb",
   "metadata": {
    "tags": []
   },
   "outputs": [
    {
     "name": "stdout",
     "output_type": "stream",
     "text": [
      "pygobject 3.42.1 requires pycairo, which is not installed.\n",
      "ninja 1.11.1.1 is not supported on this platform\n"
     ]
    }
   ],
   "source": [
    "!pip check"
   ]
  },
  {
   "cell_type": "code",
   "execution_count": 3,
   "id": "d46ce587-13f0-4456-8958-fae27c699777",
   "metadata": {},
   "outputs": [
    {
     "name": "stdout",
     "output_type": "stream",
     "text": [
      "Defaulting to user installation because normal site-packages is not writeable\n",
      "Collecting pycairo\n",
      "  Downloading pycairo-1.26.1.tar.gz (346 kB)\n",
      "  Installing build dependencies ... \u001b[?25ldone\n",
      "\u001b[?25h  Getting requirements to build wheel ... \u001b[?25ldone\n",
      "\u001b[?25h  Preparing metadata (pyproject.toml) ... \u001b[?25ldone\n",
      "\u001b[?25hBuilding wheels for collected packages: pycairo\n",
      "  Building wheel for pycairo (pyproject.toml) ... \u001b[?25lerror\n",
      "  \u001b[1;31merror\u001b[0m: \u001b[1msubprocess-exited-with-error\u001b[0m\n",
      "  \n",
      "  \u001b[31m×\u001b[0m \u001b[32mBuilding wheel for pycairo \u001b[0m\u001b[1;32m(\u001b[0m\u001b[32mpyproject.toml\u001b[0m\u001b[1;32m)\u001b[0m did not run successfully.\n",
      "  \u001b[31m│\u001b[0m exit code: \u001b[1;36m1\u001b[0m\n",
      "  \u001b[31m╰─>\u001b[0m \u001b[31m[15 lines of output]\u001b[0m\n",
      "  \u001b[31m   \u001b[0m running bdist_wheel\n",
      "  \u001b[31m   \u001b[0m running build\n",
      "  \u001b[31m   \u001b[0m running build_py\n",
      "  \u001b[31m   \u001b[0m creating build\n",
      "  \u001b[31m   \u001b[0m creating build/lib.linux-x86_64-cpython-310\n",
      "  \u001b[31m   \u001b[0m creating build/lib.linux-x86_64-cpython-310/cairo\n",
      "  \u001b[31m   \u001b[0m copying cairo/__init__.py -> build/lib.linux-x86_64-cpython-310/cairo\n",
      "  \u001b[31m   \u001b[0m copying cairo/__init__.pyi -> build/lib.linux-x86_64-cpython-310/cairo\n",
      "  \u001b[31m   \u001b[0m copying cairo/py.typed -> build/lib.linux-x86_64-cpython-310/cairo\n",
      "  \u001b[31m   \u001b[0m running build_ext\n",
      "  \u001b[31m   \u001b[0m Package cairo was not found in the pkg-config search path.\n",
      "  \u001b[31m   \u001b[0m Perhaps you should add the directory containing `cairo.pc'\n",
      "  \u001b[31m   \u001b[0m to the PKG_CONFIG_PATH environment variable\n",
      "  \u001b[31m   \u001b[0m No package 'cairo' found\n",
      "  \u001b[31m   \u001b[0m Command '['pkg-config', '--print-errors', '--exists', 'cairo >= 1.15.10']' returned non-zero exit status 1.\n",
      "  \u001b[31m   \u001b[0m \u001b[31m[end of output]\u001b[0m\n",
      "  \n",
      "  \u001b[1;35mnote\u001b[0m: This error originates from a subprocess, and is likely not a problem with pip.\n",
      "\u001b[31m  ERROR: Failed building wheel for pycairo\u001b[0m\u001b[31m\n",
      "\u001b[0m\u001b[?25hFailed to build pycairo\n",
      "\u001b[31mERROR: ERROR: Failed to build installable wheels for some pyproject.toml based projects (pycairo)\u001b[0m\u001b[31m\n",
      "\u001b[0m"
     ]
    }
   ],
   "source": [
    "!pip install pycairo"
   ]
  },
  {
   "cell_type": "code",
   "execution_count": null,
   "id": "98bfcbe9-ee51-488d-9186-d6c57f231013",
   "metadata": {},
   "outputs": [],
   "source": []
  }
 ],
 "metadata": {
  "kernelspec": {
   "display_name": "Python 3 (ipykernel)",
   "language": "python",
   "name": "python3"
  },
  "language_info": {
   "codemirror_mode": {
    "name": "ipython",
    "version": 3
   },
   "file_extension": ".py",
   "mimetype": "text/x-python",
   "name": "python",
   "nbconvert_exporter": "python",
   "pygments_lexer": "ipython3",
   "version": "3.10.12"
  }
 },
 "nbformat": 4,
 "nbformat_minor": 5
}
