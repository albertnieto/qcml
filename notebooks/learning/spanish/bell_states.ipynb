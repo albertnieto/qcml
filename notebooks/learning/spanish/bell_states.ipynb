{
 "cells": [
  {
   "cell_type": "markdown",
   "id": "86320c87",
   "metadata": {},
   "source": [
    "# Información del Documento\n",
    "\n",
    "Este documento forma parte de los recursos del Máster en Computación Cuántica en la Universidad Internacional de La Rioja (UNIR).\n"
   ]
  },
  {
   "cell_type": "markdown",
   "id": "9b19b905",
   "metadata": {},
   "source": [
    "## Detalles del Cuaderno\n",
    "\n",
    "- **Asignatura:** Computación Cuántica\n",
    "- **Autores:** Albert Nieto Morales, Javier Hernanz Zajara\n",
    "- **Fecha:** 2023-12-29"
   ]
  },
  {
   "cell_type": "markdown",
   "id": "1d1d3eb7",
   "metadata": {},
   "source": [
    "## Disponibilidad\n",
    "\n",
    "Este cuaderno y otros recursos relacionados están disponibles en [el repositorio en GitHub](https://github.com/albertnieto/mucomcu04)."
   ]
  },
  {
   "cell_type": "markdown",
   "id": "8039cbee",
   "metadata": {},
   "source": [
    "## Nota Importante\n",
    "\n",
    "Este material educativo se enfoca en la Computación Cuántica y ha sido desarrollado como parte del programa de Máster en Computación Cuántica en UNIR. La información proporcionada en este documento puede estar sujeta a actualizaciones. Se recomienda verificar la fecha de la última actualización para asegurarse de contar con la información más reciente."
   ]
  },
  {
   "cell_type": "markdown",
   "id": "4f09f754",
   "metadata": {},
   "source": [
    "# Enunciado y librerías"
   ]
  },
  {
   "cell_type": "markdown",
   "id": "e60ad762",
   "metadata": {},
   "source": [
    "## Enunciado\n",
    "\n",
    "A través de esta actividad podrás adquirir las competencias necesarias para utilizar las puertas cuánticas básicas, así como la evolución del estado cuántico, los estados de Bell y la implementación de un incrementador."
   ]
  },
  {
   "cell_type": "markdown",
   "id": "669ebfad",
   "metadata": {
    "tags": []
   },
   "source": [
    "## Librerías\n",
    "\n",
    "Los paquetes necesarios para realizar la actividad son:\n",
    "\n",
    "- `qiskit`: La biblioteca principal de Qiskit.\n",
    "- `qiskit_ibm_provider`: Proporciona acceso a los servicios en la nube de IBM Quantum.\n",
    "- `qiskit-aer`: Proporciona acceso a simuladores cuánticos."
   ]
  },
  {
   "cell_type": "code",
   "execution_count": 1,
   "id": "efe160e5",
   "metadata": {},
   "outputs": [],
   "source": [
    "%%capture\n",
    "%pip install qiskit\n",
    "%pip install qiskit_ibm_provider\n",
    "%pip install qiskit-aer"
   ]
  },
  {
   "cell_type": "code",
   "execution_count": 2,
   "id": "9dab389e-3674-47e1-901d-81a26bf9f874",
   "metadata": {
    "tags": []
   },
   "outputs": [],
   "source": [
    "# Importing standard Qiskit libraries\n",
    "from qiskit import QuantumRegister, ClassicalRegister, QuantumCircuit, QuantumCircuit, transpile, Aer\n",
    "from qiskit_ibm_provider import IBMProvider\n",
    "from qiskit.tools.jupyter import *\n",
    "from qiskit.visualization import *\n",
    "from qiskit.circuit.library import C3XGate\n",
    "\n",
    "# Importing matplotlib\n",
    "import matplotlib.pyplot as plt\n",
    "\n",
    "# Importing Numpy, Cmath and math\n",
    "import numpy as np\n",
    "import os, math, cmath\n",
    "from numpy import pi\n",
    "\n",
    "# Other imports\n",
    "from IPython.display import display, Math, Latex"
   ]
  },
  {
   "cell_type": "markdown",
   "id": "2bb2db2c",
   "metadata": {},
   "source": [
    "Cargamos y actualizamos el entorno con las variables de entorno guardadas en `config.env`."
   ]
  },
  {
   "cell_type": "code",
   "execution_count": 3,
   "id": "5550692a",
   "metadata": {},
   "outputs": [],
   "source": [
    "# Specify the path to your env file\n",
    "env_file_path = 'config.env'\n",
    "\n",
    "# Load environment variables from the file\n",
    "os.environ.update(line.strip().split('=', 1) for line in open(env_file_path) if '=' in line and not line.startswith('#'))\n",
    "\n",
    "# Load IBM Provider API KEY\n",
    "IBMP_API_KEY = os.environ.get('IBMP_API_KEY')"
   ]
  },
  {
   "cell_type": "markdown",
   "id": "ec20b260",
   "metadata": {},
   "source": [
    "Luego, extraemos la clave de API de IBM Quantum Provider y se guarda en la variable `IBMP_API_KEY`."
   ]
  },
  {
   "cell_type": "code",
   "execution_count": 4,
   "id": "77e60167-0c41-45e8-ae58-5e1b30338f4c",
   "metadata": {},
   "outputs": [],
   "source": [
    "# Loading your IBM Quantum account(s)\n",
    "IBMProvider.save_account(IBMP_API_KEY, overwrite=True)\n",
    "\n",
    "# Run the quantum circuit on a statevector simulator backend\n",
    "backend = Aer.get_backend('statevector_simulator')"
   ]
  },
  {
   "cell_type": "markdown",
   "id": "e51a75ac",
   "metadata": {
    "tags": []
   },
   "source": [
    "# Ejercicio 1\n",
    "Implementar cuatro circuitos cuánticos de forma que cada uno de ellos haga evolucionar el estado del sistema a cada uno de los cuatro estados de Bell. Describe la evolución del sistema paso a paso de dos formas: con notación de Dirac y en forma matricial. Finalmente, implementa los circuitos utilizando QISKIt Quantum Lab y verifica que los resultados son los esperados."
   ]
  },
  {
   "cell_type": "markdown",
   "id": "741d45da-4273-496c-944b-460cdf88e56d",
   "metadata": {
    "tags": []
   },
   "source": [
    "## ¿Qué son los estados de Bell?\n",
    "\n",
    "En computación cuántica, los Estados de Bell son un conjunto de cuatro estados cuánticos maximamente entrelazados. Estos estados, también conocidos como \"pares EPR\" o \"qubits entrelazados\", son generados mediante una serie de operaciones cuánticas específicas. Los cuatro Estados de Bell se denotan como:\n",
    "\n",
    "$$ |\\Phi^+\\rangle = \\frac{1}{\\sqrt 2}(|0\\rangle_A \\otimes |0\\rangle_B+|1\\rangle_A \\otimes |1\\rangle_B) = \\frac{|00\\rangle + |11\\rangle}{\\sqrt 2}  = \\frac{1}{\\sqrt 2} |00\\rangle + \\frac{1}{\\sqrt 2} |11\\rangle = \\frac{1}{\\sqrt 2} ( |00\\rangle + |11\\rangle ) $$\n",
    "\n",
    "$$ |\\Phi^-\\rangle = \\frac{1}{\\sqrt 2}(|0\\rangle_A \\otimes |0\\rangle_B - |1\\rangle_A \\otimes |1\\rangle_B)  = \\frac{|00\\rangle - |11\\rangle}{\\sqrt 2}  = \\frac{1}{\\sqrt 2} |00\\rangle - \\frac{1}{\\sqrt 2} |11\\rangle = \\frac{1}{\\sqrt 2} ( |00\\rangle - |11\\rangle ) $$\n",
    "\n",
    "$$ |\\Psi^+ \\rangle = \\frac{1}{\\sqrt 2}(|0\\rangle_A \\otimes |1\\rangle_B+|1\\rangle_A \\otimes |0\\rangle_B)  = \\frac{|01\\rangle + |10\\rangle}{\\sqrt 2}  = \\frac{1}{\\sqrt 2} |01\\rangle + \\frac{1}{\\sqrt 2} |10\\rangle = \\frac{1}{\\sqrt 2} ( |01\\rangle + |10\\rangle ) $$\n",
    "\n",
    "$$ |\\Psi^- \\rangle = \\frac{1}{\\sqrt 2}(|0\\rangle_A \\otimes |1\\rangle_B - |1\\rangle_A \\otimes |0\\rangle_B) = \\frac{|01\\rangle - |10\\rangle}{\\sqrt 2} = \\frac{1}{\\sqrt 2} |01\\rangle - \\frac{1}{\\sqrt 2} |10\\rangle = \\frac{1}{\\sqrt 2} ( |01\\rangle - |10\\rangle ) $$"
   ]
  },
  {
   "cell_type": "markdown",
   "id": "d0e55add",
   "metadata": {
    "tags": []
   },
   "source": [
    "## Estado de Bell $|\\Phi^+\\rangle$\n",
    "\n",
    "El objetivo es llegar al estado \n",
    "$|\\Phi^+\\rangle = \\frac{1}{\\sqrt{2}}(|00\\rangle + |11\\rangle)$ partiendo del estado base $|00\\rangle$"
   ]
  },
  {
   "cell_type": "markdown",
   "id": "54be8a62-558e-41e6-b6f6-dd68a4bc31d4",
   "metadata": {},
   "source": [
    "#### Desarrollo usando notación de Dirac\n",
    "\n",
    "1. Iniciamos con dos qubits $|A\\rangle$ y $|B\\rangle$ inicializados a $|0\\rangle$, representados también como $|0\\rangle_A$ y $|0\\rangle_B$.\n",
    "\n",
    "2. Aplicamos una puerta Hadamard sobre $|0\\rangle_A$ tal que: \n",
    "\n",
    "   $$\\langle H|A\\rangle$$\n",
    "   \n",
    "   Lo cual es equivalente a \n",
    "\n",
    "   $$\\frac{1}{\\sqrt{2}} \\left( |0\\rangle_A + |1\\rangle_A \\right)$$\n",
    "\n",
    "3. Dado que tenemos 2 qubits en nuestro sistema, representamos el producto tensorial como:\n",
    "\n",
    "   $$\\langle H|A\\rangle \\otimes |B\\rangle$$\n",
    "\n",
    "   Equivalente a \n",
    "\n",
    "   $$\\frac{1}{\\sqrt{2}} \\left( |00\\rangle + |10\\rangle \\right)$$\n",
    "\n",
    "4. Finalmente, realizamos la operación CNOT en $|B\\rangle$ controlado por $|A\\rangle$:\n",
    "\n",
    "   $$\\langle \\text{CNOT} | \\left( \\langle H|A\\rangle \\otimes |B\\rangle \\right) \\rangle$$\n",
    "   \n",
    "   Resultando en \n",
    "\n",
    "   $$\\frac{1}{\\sqrt{2}} \\left( |00\\rangle + |11\\rangle \\right)$$\n"
   ]
  },
  {
   "cell_type": "markdown",
   "id": "180d60d2-b1cb-4e77-b560-b1c4bca1a77d",
   "metadata": {
    "tags": []
   },
   "source": [
    "### Desarrollo utilizando Notación Matricial\n",
    "\n",
    "1. **Definición de Qubits y Puertas Cuánticas:**\n",
    "   - Definimos los qubits $|0\\rangle_A = |0\\rangle_B = \\begin{bmatrix} 1 \\\\ 0 \\end{bmatrix}$.\n",
    "   - La puerta Hadamard se expresa como $H = \\frac{1}{\\sqrt{2}}\\begin{bmatrix} 1 & 1 \\\\ 1 & -1 \\end{bmatrix}$.\n",
    "   - La puerta CNOT se representa como $\\text{CNOT} = \\begin{bmatrix} 1 & 0 & 0 & 0 \\\\ 0 & 1 & 0 & 0 \\\\ 0 & 0 & 0 & 1 \\\\ 0 & 0 & 1 & 0 \\end{bmatrix}$.\n",
    "\n",
    "2. **Aplicación de la Puerta Hadamard a $|A\\rangle$:**\n",
    "   - Aplicamos la puerta Hadamard a $|A\\rangle$ de la siguiente manera:\n",
    "     $$\n",
    "     \\frac{1}{\\sqrt{2}}\\begin{bmatrix} 1 & 1 \\\\ 1 & -1 \\end{bmatrix} \\begin{bmatrix} 1 \\\\ 0 \\end{bmatrix} = \\frac{1}{\\sqrt{2}} \\begin{bmatrix} 1 \\\\ 1 \\end{bmatrix}\n",
    "     $$\n",
    "\n",
    "3. **Cálculo del Estado del Sistema con $|B\\rangle$:**\n",
    "   - Calculamos el estado del sistema considerando $|B\\rangle$ mediante el producto tensorial:\n",
    "     $$\n",
    "     \\frac{1}{\\sqrt{2}} \\begin{bmatrix} 1 \\\\ 1 \\end{bmatrix} \\otimes \\begin{bmatrix} 1 \\\\ 0 \\end{bmatrix} = \\frac{1}{\\sqrt{2}} \\begin{bmatrix} 1 \\\\ 0 \\\\ 1 \\\\ 0 \\end{bmatrix}\n",
    "     $$\n",
    "\n",
    "4. **Aplicación de la Puerta CNOT entre Qubits:**\n",
    "   - Finalmente, aplicamos la puerta CNOT entre ambos qubits:\n",
    "     $$\n",
    "     \\frac{1}{\\sqrt{2}} \\begin{bmatrix} 1 & 0 & 0 & 0 \\\\ 0 & 1 & 0 & 0 \\\\ 0 & 0 & 0 & 1 \\\\ 0 & 0 & 1 & 0 \\end{bmatrix} \\begin{bmatrix} 1 \\\\ 0 \\\\ 1 \\\\ 0 \\end{bmatrix} = \\frac{1}{\\sqrt{2}} \\begin{bmatrix} 1 \\\\ 0 \\\\ 0 \\\\ 1 \\end{bmatrix}\n",
    "     $$\n",
    "     Este resultado corresponde a la representación matricial del estado deseado.\n"
   ]
  },
  {
   "cell_type": "markdown",
   "id": "51db72c4-db83-463b-9515-67aa70cbdb52",
   "metadata": {},
   "source": [
    "### Implementación y comprobación\n",
    "A continuación, se implementan los circuito descrito anteriormente y se verifica haciendo uso de Qiskit."
   ]
  },
  {
   "cell_type": "code",
   "execution_count": 5,
   "id": "48134505-4d6a-42ec-94e8-2292ae879b1e",
   "metadata": {
    "tags": []
   },
   "outputs": [
    {
     "name": "stderr",
     "output_type": "stream",
     "text": [
      "/opt/conda/lib/python3.10/site-packages/qiskit/visualization/circuit/matplotlib.py:282: UserWarning: Style JSON file 'iqp.json' not found in any of these locations: /opt/conda/lib/python3.10/site-packages/qiskit/visualization/circuit/styles/iqp.json, iqp.json. Will use default style.\n",
      "  self._style, def_font_ratio = load_style(self._style)\n"
     ]
    },
    {
     "data": {
      "image/png": "[encoded data removed]",
      "text/plain": [
       "<Figure size 287.294x284.278 with 1 Axes>"
      ]
     },
     "execution_count": 5,
     "metadata": {},
     "output_type": "execute_result"
    }
   ],
   "source": [
    "qc_b1 = QuantumCircuit(2, 2)\n",
    "qc_b1.h(0)\n",
    "qc_b1.cx(0, 1)\n",
    "qc_b1.draw(output='mpl', style=\"iqp\")"
   ]
  },
  {
   "cell_type": "code",
   "execution_count": 6,
   "id": "483165b4",
   "metadata": {},
   "outputs": [
    {
     "data": {
      "text/latex": [
       "$$|\\Phi^+\\rangle = \\frac{\\sqrt{2}}{2} |00\\rangle+\\frac{\\sqrt{2}}{2} |11\\rangle$$"
      ],
      "text/plain": [
       "<IPython.core.display.Latex object>"
      ]
     },
     "execution_count": 6,
     "metadata": {},
     "output_type": "execute_result"
    }
   ],
   "source": [
    "sv = backend.run(qc_b1).result().get_statevector()\n",
    "sv.draw(output='latex', prefix = \"|\\Phi^+\\\\rangle = \")"
   ]
  },
  {
   "cell_type": "markdown",
   "id": "db999052",
   "metadata": {
    "tags": []
   },
   "source": [
    "## Estado de Bell $|\\Phi^-\\rangle$\n",
    "\n",
    "El objetivo es llegar al estado \n",
    "$|\\Phi^-\\rangle = \\frac{1}{\\sqrt{2}}(|00\\rangle - |11\\rangle)$ partiendo del estado base $|00\\rangle$"
   ]
  },
  {
   "cell_type": "markdown",
   "id": "49a9de8e-1c4c-4629-9cd4-01deb35d97fc",
   "metadata": {},
   "source": [
    "### Desarrollo usando notación de Dirac\n",
    "\n",
    "1. Partimos de dos qubits $|A\\rangle$ y $|B\\rangle$ inicializados a $|0\\rangle$, ilustrados también como $|0\\rangle_A$ y $|0\\rangle_B$.\n",
    "\n",
    "2. Aplicamos una puerta Pauli X (X) sobre $|0\\rangle_A$ tal que: \n",
    "\n",
    "   $$\\langle X|A\\rangle$$ \n",
    "\n",
    "   Equivalente a $$|1\\rangle_A$$\n",
    "\n",
    "3. A continuación, aplicamos una puerta Hadamard (H) sobre $|0\\rangle_A$ tal que: \n",
    "\n",
    "   $$\\langle H|X|A\\rangle$$ \n",
    "\n",
    "   Equivalente a \n",
    "\n",
    "   $$\\frac{1}{\\sqrt{2}}(|0\\rangle_A - |1\\rangle_A)$$\n",
    "\n",
    "4. Dado que tenemos 2 qubits en nuestro sistema, representamos el producto tensorial como:\n",
    "\n",
    "   $$\\langle H|X|A\\rangle \\otimes |B\\rangle$$\n",
    "\n",
    "   Equivalente a \n",
    "\n",
    "   $$\\frac{1}{\\sqrt{2}}(|00\\rangle - |10\\rangle)$$\n",
    "\n",
    "5. Por último, necesitamos realizar la operación CNOT en $|B\\rangle$ controlado por $|A\\rangle$, por lo que tendríamos: \n",
    "\n",
    "   $$\\langle \\text{CNOT} | (\\langle H|X|A\\rangle \\otimes |B\\rangle)\\rangle$$\n",
    "\n",
    "   Equivalente a \n",
    "\n",
    "   $$\\frac{1}{\\sqrt{2}}(|00\\rangle - |11\\rangle)$$\n"
   ]
  },
  {
   "cell_type": "markdown",
   "id": "d1cd2c22-f6a3-45f0-b5e2-683a5aac8f7b",
   "metadata": {},
   "source": [
    "### Desarrollo usando Notación Matricial\n",
    "\n",
    "1. **Definición de Qubits y Puertas Cuánticas:**\n",
    "   - Definimos los qubits $|0\\rangle_A = |0\\rangle_B = \\begin{bmatrix} 1 \\\\ 0 \\end{bmatrix}$.\n",
    "   - La puerta Hadamard se expresa como $H = \\frac{1}{\\sqrt{2}}\\begin{bmatrix} 1 & 1 \\\\ 1 & -1 \\end{bmatrix}$.\n",
    "   - La puerta CNOT se representa como $\\text{CNOT} = \\begin{bmatrix} 1 & 0 & 0 & 0 \\\\ 0 & 1 & 0 & 0 \\\\ 0 & 0 & 0 & 1 \\\\ 0 & 0 & 1 & 0 \\end{bmatrix}$.\n",
    "   - La puerta X (Pauli X) se define como $X = \\begin{bmatrix} 0 & 1 \\\\ 1 & 0 \\end{bmatrix}$.\n",
    "\n",
    "2. **Aplicación de Puertas X y Hadamard a $|A\\rangle$:**\n",
    "   - Aplicamos la puerta X y, a continuación, la Hadamard sobre $|A\\rangle$ de la siguiente manera:\n",
    "     $$\n",
    "     \\frac{1}{\\sqrt{2}}\\begin{bmatrix} 1 & 1 \\\\ 1 & -1 \\end{bmatrix} \n",
    "     \\begin{bmatrix} 0 & 1 \\\\ 1 & 0 \\end{bmatrix}\n",
    "     \\begin{bmatrix} 1 \\\\ 0 \\end{bmatrix} = \\frac{1}{\\sqrt{2}} \\begin{bmatrix} 1 \\\\ -1 \\end{bmatrix}\n",
    "     $$\n",
    "\n",
    "3. **Cálculo del Estado del Sistema con $|B\\rangle$:**\n",
    "   - Calculamos el estado del sistema considerando $|B\\rangle$ mediante el producto tensorial:\n",
    "     $$\n",
    "     \\frac{1}{\\sqrt{2}} \\begin{bmatrix} 1 \\\\ -1 \\end{bmatrix} \\otimes \\begin{bmatrix} 1 \\\\ 0 \\end{bmatrix} = \\frac{1}{\\sqrt{2}} \\begin{bmatrix} 1 \\\\ 0 \\\\ -1 \\\\ 0 \\end{bmatrix}\n",
    "     $$\n",
    "\n",
    "4. **Aplicación de la Puerta CNOT entre Qubits:**\n",
    "   - Finalmente, aplicamos la puerta CNOT entre ambos qubits:\n",
    "     $$\n",
    "     \\frac{1}{\\sqrt{2}} \\begin{bmatrix} 1 & 0 & 0 & 0 \\\\ 0 & 1 & 0 & 0 \\\\ 0 & 0 & 0 & 1 \\\\ 0 & 0 & 1 & 0 \\end{bmatrix} \n",
    "     \\begin{bmatrix} 1 \\\\ 0 \\\\ -1 \\\\ 0 \\end{bmatrix} = \\frac{1}{\\sqrt{2}} \\begin{bmatrix} 1 \\\\ 0 \\\\ 0 \\\\ -1 \\end{bmatrix}\n",
    "     $$\n",
    "     Este resultado corresponde a la representación matricial del estado buscado.\n"
   ]
  },
  {
   "cell_type": "markdown",
   "id": "0fe90604-dd9e-48ee-8f7a-84a137f85d94",
   "metadata": {},
   "source": [
    "### Implementación y comprobación\n",
    "A continuación, se implementan los circuito descrito anteriormente y se verifica haciendo uso de Qiskit."
   ]
  },
  {
   "cell_type": "code",
   "execution_count": 7,
   "id": "906f0901-0966-400a-8852-0cb48f8b65fa",
   "metadata": {
    "tags": []
   },
   "outputs": [
    {
     "name": "stderr",
     "output_type": "stream",
     "text": [
      "/opt/conda/lib/python3.10/site-packages/qiskit/visualization/circuit/matplotlib.py:282: UserWarning: Style JSON file 'iqp.json' not found in any of these locations: /opt/conda/lib/python3.10/site-packages/qiskit/visualization/circuit/styles/iqp.json, iqp.json. Will use default style.\n",
      "  self._style, def_font_ratio = load_style(self._style)\n"
     ]
    },
    {
     "data": {
      "image/png": "[encoded data removed]",
      "text/plain": [
       "<Figure size 370.906x284.278 with 1 Axes>"
      ]
     },
     "execution_count": 7,
     "metadata": {},
     "output_type": "execute_result"
    }
   ],
   "source": [
    "qc_b2 = QuantumCircuit(2, 2)\n",
    "qc_b2.x(0)\n",
    "qc_b2.h(0)\n",
    "qc_b2.cx(0, 1)\n",
    "qc_b2.draw(output='mpl', style=\"iqp\")"
   ]
  },
  {
   "cell_type": "code",
   "execution_count": 8,
   "id": "f167a3b1",
   "metadata": {},
   "outputs": [
    {
     "data": {
      "text/latex": [
       "$$|\\Phi^-\\rangle = \\frac{\\sqrt{2}}{2} |00\\rangle- \\frac{\\sqrt{2}}{2} |11\\rangle$$"
      ],
      "text/plain": [
       "<IPython.core.display.Latex object>"
      ]
     },
     "execution_count": 8,
     "metadata": {},
     "output_type": "execute_result"
    }
   ],
   "source": [
    "sv = backend.run(qc_b2).result().get_statevector()\n",
    "sv.draw(output='latex', prefix = \"|\\Phi^-\\\\rangle = \")"
   ]
  },
  {
   "cell_type": "markdown",
   "id": "10e3bde1",
   "metadata": {},
   "source": [
    "De la misma manera, conseguimos el mismo estado con la combinación de las puertas H, CNOT y Z. Las comprobaciones con el desarrollo matricial y en notación de Dirac se puede encontrar en el apéndice."
   ]
  },
  {
   "cell_type": "code",
   "execution_count": 9,
   "id": "3b4857ed",
   "metadata": {},
   "outputs": [
    {
     "data": {
      "image/png": "[encoded data removed]",
      "text/plain": [
       "<Figure size 370.906x284.278 with 1 Axes>"
      ]
     },
     "execution_count": 9,
     "metadata": {},
     "output_type": "execute_result"
    }
   ],
   "source": [
    "qc_b2 = QuantumCircuit(2, 2)\n",
    "qc_b2.h(0)\n",
    "qc_b2.cx(0, 1)\n",
    "qc_b2.z(0)\n",
    "qc_b2.draw(output='mpl', style=\"iqp\")"
   ]
  },
  {
   "cell_type": "code",
   "execution_count": 10,
   "id": "4b7fa90b",
   "metadata": {},
   "outputs": [
    {
     "data": {
      "text/latex": [
       "$$|\\Phi^-\\rangle = \\frac{\\sqrt{2}}{2} |00\\rangle- \\frac{\\sqrt{2}}{2} |11\\rangle$$"
      ],
      "text/plain": [
       "<IPython.core.display.Latex object>"
      ]
     },
     "execution_count": 10,
     "metadata": {},
     "output_type": "execute_result"
    }
   ],
   "source": [
    "sv = backend.run(qc_b2).result().get_statevector()\n",
    "sv.draw(output='latex', prefix = \"|\\Phi^-\\\\rangle = \")"
   ]
  },
  {
   "cell_type": "markdown",
   "id": "ee224f0e-8c43-43c1-9a6d-a56d6c0f7e75",
   "metadata": {
    "tags": []
   },
   "source": [
    "## Estado de Bell $|\\Psi^+\\rangle$\n",
    "\n",
    "El objetivo es llegar al estado \n",
    "$|\\Psi^+\\rangle = \\frac{1}{\\sqrt{2}}(|01\\rangle + |10\\rangle)$ partiendo del estado base $|00\\rangle$"
   ]
  },
  {
   "cell_type": "markdown",
   "id": "7a485f26-e3f0-4b5c-87fb-9a7b3c8b06a1",
   "metadata": {
    "tags": []
   },
   "source": [
    "### Desarrollo usando notación de Dirac\n",
    "\n",
    "1. Partimos de dos qubits $|A\\rangle$ y $|B\\rangle$ inicializados a $|0\\rangle$, ilustrados también como $|0\\rangle_A$ y $|0\\rangle_B$.\n",
    "\n",
    "2. Aplicamos una puerta Pauli X (X) sobre $|0\\rangle_B$ tal que: \n",
    "\n",
    "   $$\\langle X|B\\rangle$$ \n",
    "\n",
    "   Equivalente a $$|1\\rangle_B$$\n",
    "\n",
    "3. En paralelo, aplicamos una puerta Hadamard (H) sobre $|0\\rangle_A$ tal que: \n",
    "\n",
    "   $$\\langle H|A\\rangle$$ \n",
    "\n",
    "   Equivalente a \n",
    "\n",
    "   $$\\frac{1}{\\sqrt{2}}(|0\\rangle_A + |1\\rangle_A)$$\n",
    "\n",
    "4. Dado que tenemos 2 qubits en nuestro sistema, representamos el producto tensorial como:\n",
    "\n",
    "   $$\\langle H|A\\rangle \\otimes \\langle X|B\\rangle$$\n",
    "\n",
    "   Equivalente a \n",
    "\n",
    "   $$\\frac{1}{\\sqrt{2}}(|01\\rangle + |11\\rangle)$$\n",
    "\n",
    "5. Por último, necesitamos realizar la operación CNOT en $|B\\rangle$ controlado por $|A\\rangle$, por lo que tendríamos: \n",
    "\n",
    "   $$\\langle \\text{CNOT} | (\\langle H|A\\rangle \\otimes \\langle X|B\\rangle)\\rangle$$\n",
    "\n",
    "   Equivalente a \n",
    "\n",
    "   $$\\frac{1}{\\sqrt{2}}(|01\\rangle + |10\\rangle)$$\n"
   ]
  },
  {
   "cell_type": "markdown",
   "id": "56d00afc-d95a-4f83-9ba7-76b437cddd2e",
   "metadata": {
    "tags": []
   },
   "source": [
    "### Desarrollo usando Notación Matricial\n",
    "\n",
    "1. **Definición de Qubits y Puertas Cuánticas:**\n",
    "   - Definimos los qubits $|0\\rangle_A = |0\\rangle_B = \\begin{bmatrix} 1 \\\\ 0 \\end{bmatrix}$.\n",
    "   - La puerta Hadamard se expresa como $H = \\frac{1}{\\sqrt{2}}\\begin{bmatrix} 1 & 1 \\\\ 1 & -1 \\end{bmatrix}$.\n",
    "   - La puerta CNOT se representa como $\\text{CNOT} = \\begin{bmatrix} 1 & 0 & 0 & 0 \\\\ 0 & 1 & 0 & 0 \\\\ 0 & 0 & 0 & 1 \\\\ 0 & 0 & 1 & 0 \\end{bmatrix}$.\n",
    "   - La puerta X (Pauli X) se define como $X = \\begin{bmatrix} 0 & 1 \\\\ 1 & 0 \\end{bmatrix}$.\n",
    "\n",
    "2. **Aplicación de la Puerta X sobre $|B\\rangle$:**\n",
    "   - Aplicamos la puerta X sobre $|B\\rangle$ de la siguiente manera:\n",
    "     $$\n",
    "     \\begin{bmatrix} 0 & 1 \\\\ 1 & 0 \\end{bmatrix}\n",
    "     \\begin{bmatrix} 1 \\\\ 0 \\end{bmatrix} = \\begin{bmatrix} 0 \\\\ 1 \\end{bmatrix}\n",
    "     $$\n",
    "\n",
    "3. **Aplicación de la Puerta Hadamard sobre $|A\\rangle$:**\n",
    "   - Aplicamos la puerta Hadamard sobre $|A\\rangle$ de la siguiente manera:\n",
    "     $$\n",
    "     \\frac{1}{\\sqrt{2}}\\begin{bmatrix} 1 & 1 \\\\ 1 & -1 \\end{bmatrix} \n",
    "     \\begin{bmatrix} 1 \\\\ 0 \\end{bmatrix} = \\frac{1}{\\sqrt{2}} \\begin{bmatrix} 1 \\\\ 1 \\end{bmatrix}\n",
    "     $$\n",
    "\n",
    "4. **Cálculo del Estado del Sistema con $|B\\rangle$:**\n",
    "   - Calculamos el estado del sistema considerando $|B\\rangle$ mediante el producto tensorial:\n",
    "     $$\n",
    "     \\frac{1}{\\sqrt{2}} \\begin{bmatrix} 1 \\\\ 1 \\end{bmatrix} \\otimes \\begin{bmatrix} 0 \\\\ 1 \\end{bmatrix} = \\frac{1}{\\sqrt{2}} \\begin{bmatrix} 0 \\\\ 1 \\\\ 0 \\\\ 1 \\end{bmatrix}\n",
    "     $$\n",
    "\n",
    "5. **Aplicación de la Puerta CNOT entre Qubits:**\n",
    "   - Finalmente, aplicamos la puerta CNOT entre ambos qubits:\n",
    "     $$\n",
    "     \\frac{1}{\\sqrt{2}} \\begin{bmatrix} 1 & 0 & 0 & 0 \\\\ 0 & 1 & 0 & 0 \\\\ 0 & 0 & 0 & 1 \\\\ 0 & 0 & 1 & 0 \\end{bmatrix} \n",
    "     \\begin{bmatrix} 0 \\\\ 1 \\\\ 0 \\\\ 1 \\end{bmatrix} = \\frac{1}{\\sqrt{2}} \\begin{bmatrix} 0 \\\\ 1 \\\\ 1 \\\\ 0 \\end{bmatrix}\n",
    "     $$\n",
    "     Este resultado corresponde a la representación matricial del estado buscado.\n"
   ]
  },
  {
   "cell_type": "markdown",
   "id": "fa05f7b8-e3ff-4cf2-99da-6b3953563127",
   "metadata": {},
   "source": [
    "### Implementación y comprobación\n",
    "A continuación, se implementan los circuito descrito anteriormente y se verifica haciendo uso de Qiskit."
   ]
  },
  {
   "cell_type": "code",
   "execution_count": 11,
   "id": "85bc2e38-2caf-40c8-bb2d-bbaf4b28fe94",
   "metadata": {
    "tags": []
   },
   "outputs": [
    {
     "data": {
      "image/png": "[encoded data removed]",
      "text/plain": [
       "<Figure size 287.294x284.278 with 1 Axes>"
      ]
     },
     "execution_count": 11,
     "metadata": {},
     "output_type": "execute_result"
    }
   ],
   "source": [
    "qc_b3 = QuantumCircuit(2, 2)\n",
    "qc_b3.x(1)\n",
    "qc_b3.h(0)\n",
    "qc_b3.cx(0, 1)\n",
    "qc_b3.draw(output='mpl', style=\"iqp\")"
   ]
  },
  {
   "cell_type": "code",
   "execution_count": 12,
   "id": "c480c150",
   "metadata": {},
   "outputs": [
    {
     "data": {
      "text/latex": [
       "$$|\\Psi^+\\rangle = \\frac{\\sqrt{2}}{2} |01\\rangle+\\frac{\\sqrt{2}}{2} |10\\rangle$$"
      ],
      "text/plain": [
       "<IPython.core.display.Latex object>"
      ]
     },
     "execution_count": 12,
     "metadata": {},
     "output_type": "execute_result"
    }
   ],
   "source": [
    "sv = backend.run(qc_b3).result().get_statevector()\n",
    "sv.draw(output='latex', prefix = \"|\\Psi^+\\\\rangle = \")"
   ]
  },
  {
   "cell_type": "markdown",
   "id": "24977070",
   "metadata": {},
   "source": [
    "De la misma manera, conseguimos el mismo estado con la combinación de las puertas H, CNOT y X. Las comprobaciones con el desarrollo matricial y en notación de Dirac se puede encontrar en el apéndice."
   ]
  },
  {
   "cell_type": "code",
   "execution_count": 13,
   "id": "fad277f9",
   "metadata": {},
   "outputs": [
    {
     "data": {
      "image/png": "[encoded data removed]",
      "text/plain": [
       "<Figure size 370.906x284.278 with 1 Axes>"
      ]
     },
     "execution_count": 13,
     "metadata": {},
     "output_type": "execute_result"
    }
   ],
   "source": [
    "qc_b3 = QuantumCircuit(2, 2)\n",
    "qc_b3.h(0)\n",
    "qc_b3.cx(0, 1)\n",
    "qc_b3.x(0)\n",
    "qc_b3.draw(output='mpl', style=\"iqp\")"
   ]
  },
  {
   "cell_type": "code",
   "execution_count": 14,
   "id": "6b5b242c",
   "metadata": {},
   "outputs": [
    {
     "data": {
      "text/latex": [
       "$$|\\Psi^+\\rangle = \\frac{\\sqrt{2}}{2} |01\\rangle+\\frac{\\sqrt{2}}{2} |10\\rangle$$"
      ],
      "text/plain": [
       "<IPython.core.display.Latex object>"
      ]
     },
     "execution_count": 14,
     "metadata": {},
     "output_type": "execute_result"
    }
   ],
   "source": [
    "sv = backend.run(qc_b3).result().get_statevector()\n",
    "sv.draw(output='latex', prefix = \"|\\Psi^+\\\\rangle = \")"
   ]
  },
  {
   "cell_type": "markdown",
   "id": "3cd12344-99e6-40fa-ada2-5c18ed0f7bd8",
   "metadata": {},
   "source": [
    "## Estado de Bell $|\\Psi^-\\rangle$\n",
    "\n",
    "El objetivo es llegar al estado \n",
    "$|\\Psi^-\\rangle = \\frac{1}{\\sqrt{2}}(|01\\rangle - |10\\rangle)$ partiendo del estado base $|00\\rangle$"
   ]
  },
  {
   "cell_type": "markdown",
   "id": "bd368598-9f0f-46ba-9dc6-ccdbd16b7967",
   "metadata": {},
   "source": [
    "### Desarrollo usando notación de Dirac\n",
    "\n",
    "1. Partimos de dos qubits $|A\\rangle$ y $|B\\rangle$ inicializados a $|0\\rangle$, ilustrados también como $|0\\rangle_A$ y $|0\\rangle_B$.\n",
    "\n",
    "2. Aplicamos una puerta Pauli X (X) sobre $|0\\rangle_B$ tal que: \n",
    "\n",
    "   $$\\langle X|B\\rangle$$ \n",
    "\n",
    "   Equivalente a $$|1\\rangle_B$$\n",
    "\n",
    "3. Aplicamos una puerta Pauli X (X) sobre $|0\\rangle_A$ tal que: \n",
    "\n",
    "   $$\\langle X|A\\rangle$$ \n",
    "\n",
    "   Equivalente a $|1\\rangle_A$\n",
    "\n",
    "4. A continuación, aplicamos una puerta Hadamard (H) en $|A\\rangle$ tal que: \n",
    "\n",
    "   $$\\langle H|X|A\\rangle$$ \n",
    "\n",
    "   Equivalente a \n",
    "\n",
    "   $$\\frac{1}{\\sqrt{2}}(|0\\rangle_A - |1\\rangle_A)$$\n",
    "\n",
    "5. Dado que tenemos 2 qubits en nuestro sistema, representamos el producto tensorial como:\n",
    "\n",
    "   $$\\langle H|X|A\\rangle \\otimes \\langle X|B\\rangle$$\n",
    "\n",
    "   Equivalente a \n",
    "\n",
    "   $$\\frac{1}{\\sqrt{2}}(|01\\rangle - |11\\rangle)$$\n",
    "\n",
    "6. Por último, necesitamos realizar la operación CNOT en $|B\\rangle$ controlado por $|A\\rangle$, por lo que tendríamos: \n",
    "\n",
    "   $$\\langle \\text{CNOT} | (\\langle H|X|A\\rangle \\otimes \\langle X|B\\rangle)\\rangle$$\n",
    "\n",
    "   Equivalente a \n",
    "\n",
    "   $$\\frac{1}{\\sqrt{2}}(|01\\rangle - |10\\rangle)$$\n"
   ]
  },
  {
   "cell_type": "markdown",
   "id": "82e9b23c-23c7-445a-8312-3e31fab0b3f9",
   "metadata": {
    "tags": []
   },
   "source": [
    "### Desarrollo usando Notación Matricial\n",
    "\n",
    "1. **Definición de Qubits y Puertas Cuánticas:**\n",
    "   - Definimos los qubits $|0\\rangle_A = |0\\rangle_B = \\begin{bmatrix} 1 \\\\ 0 \\end{bmatrix}$.\n",
    "   - La puerta Hadamard se expresa como $H = \\frac{1}{\\sqrt{2}}\\begin{bmatrix} 1 & 1 \\\\ 1 & -1 \\end{bmatrix}$.\n",
    "   - La puerta CNOT se representa como $\\text{CNOT} = \\begin{bmatrix} 1 & 0 & 0 & 0 \\\\ 0 & 1 & 0 & 0 \\\\ 0 & 0 & 0 & 1 \\\\ 0 & 0 & 1 & 0 \\end{bmatrix}$.\n",
    "   - La puerta X (Pauli X) se define como $X = \\begin{bmatrix} 0 & 1 \\\\ 1 & 0 \\end{bmatrix}$.\n",
    "\n",
    "2. **Aplicación de la Puerta X sobre $|B\\rangle$:**\n",
    "   - Aplicamos la puerta X sobre $|B\\rangle$ de la siguiente manera:\n",
    "     $$\n",
    "     \\begin{bmatrix} 0 & 1 \\\\ 1 & 0 \\end{bmatrix}\n",
    "     \\begin{bmatrix} 1 \\\\ 0 \\end{bmatrix} = \\begin{bmatrix} 0 \\\\ 1 \\end{bmatrix}\n",
    "     $$\n",
    "\n",
    "3. **Aplicación de Puertas X y Hadamard, en ese orden, sobre $|A\\rangle$:**\n",
    "   - Aplicamos las puertas X y Hadamard, en ese orden, sobre $|A\\rangle$ de la siguiente manera:\n",
    "     $$\n",
    "     \\frac{1}{\\sqrt{2}}\\begin{bmatrix} 1 & 1 \\\\ 1 & -1 \\end{bmatrix}\n",
    "     \\begin{bmatrix} 0 & 1 \\\\ 1 & 0 \\end{bmatrix}\n",
    "     \\begin{bmatrix} 1 \\\\ 0 \\end{bmatrix} = \\frac{1}{\\sqrt{2}} \\begin{bmatrix} 1 \\\\ -1 \\end{bmatrix}\n",
    "     $$\n",
    "\n",
    "4. **Cálculo del Estado del Sistema con $|B\\rangle$:**\n",
    "   - Calculamos el estado del sistema considerando $|B\\rangle$ mediante el producto tensorial:\n",
    "     $$\n",
    "     \\frac{1}{\\sqrt{2}} \\begin{bmatrix} 1 \\\\ -1 \\end{bmatrix} \\otimes \\begin{bmatrix} 0 \\\\ 1 \\end{bmatrix} = \\frac{1}{\\sqrt{2}} \\begin{bmatrix} 0 \\\\ 1 \\\\ 0 \\\\ -1 \\end{bmatrix}\n",
    "     $$\n",
    "\n",
    "5. **Aplicación de la Puerta CNOT entre Qubits:**\n",
    "   - Finalmente, aplicamos la puerta CNOT entre ambos qubits:\n",
    "     $$\n",
    "     \\frac{1}{\\sqrt{2}} \\begin{bmatrix} 1 & 0 & 0 & 0 \\\\ 0 & 1 & 0 & 0 \\\\ 0 & 0 & 0 & 1 \\\\ 0 & 0 & 1 & 0 \\end{bmatrix} \n",
    "     \\begin{bmatrix} 0 \\\\ 1 \\\\ 0 \\\\ -1 \\end{bmatrix} = \\frac{1}{\\sqrt{2}} \\begin{bmatrix} 0 \\\\ 1 \\\\ -1 \\\\ 0 \\end{bmatrix}\n",
    "     $$\n",
    "     Este resultado corresponde a la representación matricial del estado buscado.\n"
   ]
  },
  {
   "cell_type": "markdown",
   "id": "e33b2de0-4754-434a-b451-13e62827ede6",
   "metadata": {},
   "source": [
    "### Implementación y comprobación\n",
    "A continuación, se implementan los circuito descrito anteriormente y se verifica haciendo uso de Qiskit."
   ]
  },
  {
   "cell_type": "code",
   "execution_count": 15,
   "id": "e9f227e6-f274-431c-87b0-e6de6ea2ad45",
   "metadata": {
    "tags": []
   },
   "outputs": [
    {
     "data": {
      "image/png": "[encoded data removed]",
      "text/plain": [
       "<Figure size 370.906x284.278 with 1 Axes>"
      ]
     },
     "execution_count": 15,
     "metadata": {},
     "output_type": "execute_result"
    }
   ],
   "source": [
    "qc_b4 = QuantumCircuit(2, 2)\n",
    "qc_b4.x(0)\n",
    "qc_b4.h(0)\n",
    "qc_b4.x(1)\n",
    "qc_b4.cx(0, 1)\n",
    "qc_b4.draw(output='mpl', style=\"iqp\")"
   ]
  },
  {
   "cell_type": "code",
   "execution_count": 16,
   "id": "63731332",
   "metadata": {},
   "outputs": [
    {
     "data": {
      "text/latex": [
       "$$|\\Psi^-\\rangle = - \\frac{\\sqrt{2}}{2} |01\\rangle+\\frac{\\sqrt{2}}{2} |10\\rangle$$"
      ],
      "text/plain": [
       "<IPython.core.display.Latex object>"
      ]
     },
     "execution_count": 16,
     "metadata": {},
     "output_type": "execute_result"
    }
   ],
   "source": [
    "sv = backend.run(qc_b4).result().get_statevector()\n",
    "sv.draw(output='latex', prefix = \"|\\Psi^-\\\\rangle = \")"
   ]
  },
  {
   "cell_type": "markdown",
   "id": "3c2df218",
   "metadata": {},
   "source": [
    "De la misma manera, conseguimos el mismo estado con la combinación de las puertas H, CNOT X y Z. Las comprobaciones con el desarrollo matricial y en notación de Dirac se puede encontrar en el apéndice."
   ]
  },
  {
   "cell_type": "code",
   "execution_count": 17,
   "id": "030ed710",
   "metadata": {},
   "outputs": [
    {
     "data": {
      "image/png": "[encoded data removed]",
      "text/plain": [
       "<Figure size 370.906x284.278 with 1 Axes>"
      ]
     },
     "execution_count": 17,
     "metadata": {},
     "output_type": "execute_result"
    }
   ],
   "source": [
    "qc_b4 = QuantumCircuit(2, 2)\n",
    "qc_b4.h(0)\n",
    "qc_b4.cx(0, 1)\n",
    "qc_b4.x(0)\n",
    "qc_b4.z(1)\n",
    "qc_b4.draw(output='mpl', style=\"iqp\")"
   ]
  },
  {
   "cell_type": "code",
   "execution_count": 18,
   "id": "de35cfb0",
   "metadata": {},
   "outputs": [
    {
     "data": {
      "text/latex": [
       "$$|\\Psi^-\\rangle = \\frac{\\sqrt{2}}{2} |01\\rangle- \\frac{\\sqrt{2}}{2} |10\\rangle$$"
      ],
      "text/plain": [
       "<IPython.core.display.Latex object>"
      ]
     },
     "execution_count": 18,
     "metadata": {},
     "output_type": "execute_result"
    }
   ],
   "source": [
    "sv = backend.run(qc_b4).result().get_statevector()\n",
    "sv.draw(output='latex', prefix = \"|\\Psi^-\\\\rangle = \")"
   ]
  },
  {
   "cell_type": "markdown",
   "id": "0036bb2d",
   "metadata": {},
   "source": [
    "# Ejercicio 2\n",
    "Implementar los circuitos de cuatro cúbits que suman al registro cuántico los valores 1, 2, 3, 4, 5, 6, 7 y 8 y verificar que funcionan correctamente. Utilizar QISKit Quantum lab."
   ]
  },
  {
   "cell_type": "code",
   "execution_count": 19,
   "id": "6c60c88c",
   "metadata": {},
   "outputs": [],
   "source": [
    "def sv_latex_from_qc(qc, backend):\n",
    "    sv = backend.run(qc).result().get_statevector()\n",
    "    return sv.draw(output='latex')\n"
   ]
  },
  {
   "cell_type": "markdown",
   "id": "afbee107",
   "metadata": {},
   "source": [
    "Creamos un circuito cuántico de 4 qubits"
   ]
  },
  {
   "cell_type": "code",
   "execution_count": 20,
   "id": "b460d522",
   "metadata": {},
   "outputs": [
    {
     "data": {
      "text/latex": [
       "$$ |0001\\rangle$$"
      ],
      "text/plain": [
       "<IPython.core.display.Latex object>"
      ]
     },
     "execution_count": 20,
     "metadata": {},
     "output_type": "execute_result"
    }
   ],
   "source": [
    "qc_ej2 = QuantumCircuit(4, 4)\n",
    "qc_ej2.x(0)\n",
    "sv_latex_from_qc(qc_ej2, backend)"
   ]
  },
  {
   "cell_type": "code",
   "execution_count": 21,
   "id": "03ca113d",
   "metadata": {},
   "outputs": [
    {
     "data": {
      "text/latex": [
       "$$ |0010\\rangle$$"
      ],
      "text/plain": [
       "<IPython.core.display.Latex object>"
      ]
     },
     "execution_count": 21,
     "metadata": {},
     "output_type": "execute_result"
    }
   ],
   "source": [
    "qc_ej2 = QuantumCircuit(4, 4)\n",
    "qc_ej2.x(1)\n",
    "sv_latex_from_qc(qc_ej2, backend)"
   ]
  },
  {
   "cell_type": "code",
   "execution_count": 22,
   "id": "0baa828e",
   "metadata": {},
   "outputs": [
    {
     "data": {
      "text/latex": [
       "$$ |0011\\rangle$$"
      ],
      "text/plain": [
       "<IPython.core.display.Latex object>"
      ]
     },
     "execution_count": 22,
     "metadata": {},
     "output_type": "execute_result"
    }
   ],
   "source": [
    "qc_ej2 = QuantumCircuit(4, 4)\n",
    "qc_ej2.x(0)\n",
    "qc_ej2.x(1)\n",
    "sv_latex_from_qc(qc_ej2, backend)"
   ]
  },
  {
   "cell_type": "code",
   "execution_count": 23,
   "id": "a13afbeb",
   "metadata": {},
   "outputs": [
    {
     "data": {
      "text/latex": [
       "$$ |0100\\rangle$$"
      ],
      "text/plain": [
       "<IPython.core.display.Latex object>"
      ]
     },
     "execution_count": 23,
     "metadata": {},
     "output_type": "execute_result"
    }
   ],
   "source": [
    "qc_ej2 = QuantumCircuit(4, 4)\n",
    "qc_ej2.x(2)\n",
    "sv_latex_from_qc(qc_ej2, backend)"
   ]
  },
  {
   "cell_type": "code",
   "execution_count": 24,
   "id": "896f406d",
   "metadata": {},
   "outputs": [
    {
     "data": {
      "text/latex": [
       "$$ |0101\\rangle$$"
      ],
      "text/plain": [
       "<IPython.core.display.Latex object>"
      ]
     },
     "execution_count": 24,
     "metadata": {},
     "output_type": "execute_result"
    }
   ],
   "source": [
    "qc_ej2 = QuantumCircuit(4, 4)\n",
    "qc_ej2.x(0)\n",
    "qc_ej2.x(2)\n",
    "sv_latex_from_qc(qc_ej2, backend)"
   ]
  },
  {
   "cell_type": "code",
   "execution_count": 25,
   "id": "a97fbbab",
   "metadata": {},
   "outputs": [
    {
     "data": {
      "text/latex": [
       "$$ |0101\\rangle$$"
      ],
      "text/plain": [
       "<IPython.core.display.Latex object>"
      ]
     },
     "execution_count": 25,
     "metadata": {},
     "output_type": "execute_result"
    }
   ],
   "source": [
    "qc_ej2 = QuantumCircuit(4, 4)\n",
    "qc_ej2.x(0)\n",
    "qc_ej2.x(2)\n",
    "sv_latex_from_qc(qc_ej2, backend)"
   ]
  },
  {
   "cell_type": "code",
   "execution_count": 26,
   "id": "e404de81",
   "metadata": {},
   "outputs": [
    {
     "data": {
      "text/latex": [
       "$$ |0111\\rangle$$"
      ],
      "text/plain": [
       "<IPython.core.display.Latex object>"
      ]
     },
     "execution_count": 26,
     "metadata": {},
     "output_type": "execute_result"
    }
   ],
   "source": [
    "qc_ej2 = QuantumCircuit(4, 4)\n",
    "qc_ej2.x(0)\n",
    "qc_ej2.x(1)\n",
    "qc_ej2.x(2)\n",
    "sv_latex_from_qc(qc_ej2, backend)"
   ]
  },
  {
   "cell_type": "code",
   "execution_count": 27,
   "id": "b1b6dd0d",
   "metadata": {},
   "outputs": [
    {
     "data": {
      "text/latex": [
       "$$ |1000\\rangle$$"
      ],
      "text/plain": [
       "<IPython.core.display.Latex object>"
      ]
     },
     "execution_count": 27,
     "metadata": {},
     "output_type": "execute_result"
    }
   ],
   "source": [
    "qc_ej2 = QuantumCircuit(4, 4)\n",
    "qc_ej2.x(3)\n",
    "sv_latex_from_qc(qc_ej2, backend)"
   ]
  },
  {
   "cell_type": "markdown",
   "id": "7ce6130d-12f6-45c6-b7bf-a614389c0490",
   "metadata": {},
   "source": [
    "Puesto que la generación de circuitos de adición binaria es conceptualmente sencilla de automatizar, en lugar de crear los circuitos de suma pedidos en el enunciado vamos a definir una función que los cree en base a un parámetro (el valor a sumar). Veamos la implementación de esta función:"
   ]
  },
  {
   "cell_type": "markdown",
   "id": "3f004162-d5d2-4a43-9918-c819059f5981",
   "metadata": {},
   "source": [
    "### `circuit_adder` Function:\n",
    "\n",
    "**Purpose:**\n",
    "The `circuit_adder` function is designed to create a quantum circuit to add a number to an existing 4-qubit circuit.\n",
    "\n",
    "**Attributes:**\n",
    "- `num` (int): A number to add to the circuit. It must be between 0 and 8.\n",
    "\n",
    "**Methods:**\n",
    "None\n",
    "\n",
    "**Example Usage:**\n",
    "```python\n",
    "qc_adder_7 = circuit_adder(7)\n",
    "qc_final = qc_already_exist.compose(qc_adder_7) # Concatenate both quantum circuits to add 7 to the already existing qc_already_exist quantum circuit\n"
   ]
  },
  {
   "cell_type": "code",
   "execution_count": 28,
   "id": "cd195bf5-2049-439e-a928-c1d48e9ab84d",
   "metadata": {
    "tags": []
   },
   "outputs": [],
   "source": [
    "def circuit_adder (num):\n",
    "    if num<1 or num>8:\n",
    "        raise ValueError(\"Out of range\")  ## El enunciado limita el sumador a los valores entre 1 y 8. Quitar esta restricción sería directo.\n",
    "    # Definición del circuito base que vamos a construir\n",
    "    qreg_q = QuantumRegister(4, 'q')\n",
    "    creg_c = ClassicalRegister(1, 'c')\n",
    "    circuit = QuantumCircuit(qreg_q, creg_c)\n",
    "    \n",
    "    qbit_position = 0\n",
    "    for element in reversed(np.binary_repr(num)):\n",
    "        if (element=='1'):\n",
    "            circuit.barrier()\n",
    "            match qbit_position:\n",
    "                case 0: # +1\n",
    "                    circuit.append(C3XGate(), [qreg_q[0], qreg_q[1], qreg_q[2], qreg_q[3]])\n",
    "                    circuit.ccx(qreg_q[0], qreg_q[1], qreg_q[2])\n",
    "                    circuit.cx(qreg_q[0], qreg_q[1])\n",
    "                    circuit.x(qreg_q[0])\n",
    "                case 1: # +2\n",
    "                    circuit.ccx(qreg_q[1], qreg_q[2], qreg_q[3])\n",
    "                    circuit.cx(qreg_q[1], qreg_q[2])\n",
    "                    circuit.x(qreg_q[1])\n",
    "                case 2: # +4\n",
    "                    circuit.cx(qreg_q[2], qreg_q[3])\n",
    "                    circuit.x(qreg_q[2])\n",
    "                case 3: # +8\n",
    "                    circuit.x(qreg_q[3])\n",
    "        qbit_position+=1\n",
    "    return circuit"
   ]
  },
  {
   "cell_type": "markdown",
   "id": "d69595eb-8bb4-40f6-97f4-0de757243f4b",
   "metadata": {},
   "source": [
    "Probamos la función generadora de circuitos generando un sumador para el número binario 3"
   ]
  },
  {
   "cell_type": "code",
   "execution_count": 29,
   "id": "ecd6a4b2-6ba8-4504-a377-ccbf47f27697",
   "metadata": {
    "tags": []
   },
   "outputs": [
    {
     "data": {
      "image/png": "[encoded data removed]",
      "text/plain": [
       "<Figure size 872.774x451.5 with 1 Axes>"
      ]
     },
     "execution_count": 29,
     "metadata": {},
     "output_type": "execute_result"
    }
   ],
   "source": [
    "add_3 = circuit_adder(3)\n",
    "add_3.draw(output='mpl', style=\"iqp\")"
   ]
  },
  {
   "cell_type": "markdown",
   "id": "9358693d-fd99-4fe1-b600-9d48dc78eb1b",
   "metadata": {},
   "source": [
    "A continuación, reutilizaremos el circuito anterior (+3) y creamos un circuito cuántico que represente el número 2 para validar que genera un valor equivalente a 5."
   ]
  },
  {
   "cell_type": "code",
   "execution_count": 30,
   "id": "afe6347c-f5c7-4eb4-bc8c-38152e0994b5",
   "metadata": {},
   "outputs": [
    {
     "data": {
      "image/png": "[encoded data removed]",
      "text/plain": [
       "<Figure size 956.385x451.5 with 1 Axes>"
      ]
     },
     "execution_count": 30,
     "metadata": {},
     "output_type": "execute_result"
    }
   ],
   "source": [
    "qc_test_2 = QuantumCircuit(4, 4)\n",
    "qc_test_2.x(1)\n",
    "\n",
    "qc_test_2_plus_3 = qc_test_2.compose(add_3)\n",
    "qc_test_2_plus_3.draw(output='mpl', style=\"iqp\")"
   ]
  },
  {
   "cell_type": "markdown",
   "id": "6a542735-17d1-4b49-ace5-774d659b5a28",
   "metadata": {},
   "source": [
    "Y validamos su resultado:"
   ]
  },
  {
   "cell_type": "code",
   "execution_count": 31,
   "id": "d056d18c-e136-4536-b5a5-30d52ba0969e",
   "metadata": {
    "tags": []
   },
   "outputs": [
    {
     "data": {
      "text/latex": [
       "$$ |0101\\rangle$$"
      ],
      "text/plain": [
       "<IPython.core.display.Latex object>"
      ]
     },
     "execution_count": 31,
     "metadata": {},
     "output_type": "execute_result"
    }
   ],
   "source": [
    "sv_latex_from_qc(qc_test_2_plus_3, backend)"
   ]
  },
  {
   "cell_type": "markdown",
   "id": "0b1011e7-e5f7-418b-952c-8e5500295e9c",
   "metadata": {},
   "source": [
    "Realizamos otra prueba sumando 8 a un estado previo de 7:"
   ]
  },
  {
   "cell_type": "code",
   "execution_count": 32,
   "id": "9198b049-03d5-4f1b-835f-64d21867a039",
   "metadata": {
    "tags": []
   },
   "outputs": [
    {
     "data": {
      "text/latex": [
       "$$ |1111\\rangle$$"
      ],
      "text/plain": [
       "<IPython.core.display.Latex object>"
      ]
     },
     "execution_count": 32,
     "metadata": {},
     "output_type": "execute_result"
    }
   ],
   "source": [
    "qc_test_7 = QuantumCircuit(4, 4)\n",
    "qc_test_7.x(0)\n",
    "qc_test_7.x(1)\n",
    "qc_test_7.x(2)\n",
    "\n",
    "qc_test_7_plus_8 = qc_test_7.compose(circuit_adder(8))\n",
    "sv_latex_from_qc(qc_test_7_plus_8, backend)\n",
    "#qc_test_7_plus_8.draw()"
   ]
  },
  {
   "cell_type": "markdown",
   "id": "d8270fcb-9c72-462b-a9ce-5b08757b4fbb",
   "metadata": {},
   "source": [
    "Con lo que validamos que se realizan todas las sumas correctamente, incluyendo aquellas que requieren de acarreo."
   ]
  },
  {
   "cell_type": "markdown",
   "id": "4be0ebbc",
   "metadata": {},
   "source": [
    "# Ejercicio 3\n",
    "Implementar en Python el algoritmo de teleportación cuántica para teleportar el estado $|{\\Psi}\\rangle$ del cúbit de Alice al cúbit de Bob. El estado $|{\\Psi}\\rangle$ viene determinado por los ángulos $\\theta=37.5$ grados y $\\phi=13.4$ grados, de la esfera de Bloch."
   ]
  },
  {
   "cell_type": "markdown",
   "id": "8ebf367c-74b7-415c-8c2f-dafd9d029667",
   "metadata": {},
   "source": [
    "En primer lugar convertiremos los ángulos proporcionados por el enunciado a radianes, que nos permitan operar correctamente en el sistema:\n",
    "\n",
    "* $\\theta=37.5$ grados = 6.544985 radianes\n",
    "* $\\phi=13.4$ grados = 2.338741 radianes\n",
    "\n",
    "Utilizaremos $\\theta$ como el ángulo de rotación en el eje X del qubit, mientras que $\\phi$ representará la rotación en el eje Z."
   ]
  },
  {
   "cell_type": "code",
   "execution_count": 33,
   "id": "07e53ced",
   "metadata": {},
   "outputs": [],
   "source": [
    "theta = 6.544985\n",
    "phi = 2.338741\n",
    "lmbda = 0"
   ]
  },
  {
   "cell_type": "markdown",
   "id": "cb598672",
   "metadata": {},
   "source": [
    "Para realizar este algoritmo, Alice dispone de dos qubits y Bob dispone de uno. En el circuito, los dos primeros qubits serán los de Alice y el tercero será de Bob"
   ]
  },
  {
   "cell_type": "code",
   "execution_count": 34,
   "id": "81b0164b",
   "metadata": {},
   "outputs": [],
   "source": [
    "alice_1 = 0\n",
    "alice_2 = 1\n",
    "bob_1 = 2"
   ]
  },
  {
   "cell_type": "markdown",
   "id": "0222cc65",
   "metadata": {},
   "source": [
    "Creamos un circuito cuántico con 3 cúbits, los dos de Alice y uno de Bob."
   ]
  },
  {
   "cell_type": "code",
   "execution_count": 35,
   "id": "d9ff85c5",
   "metadata": {},
   "outputs": [],
   "source": [
    "qr_alice = QuantumRegister(2, 'Alice')\n",
    "qr_bob = QuantumRegister(1, 'Bob')\n",
    "cr = ClassicalRegister(3, 'c')\n",
    "qc_ej3 = QuantumCircuit(qr_alice, qr_bob, cr)"
   ]
  },
  {
   "cell_type": "markdown",
   "id": "98d2cc46",
   "metadata": {},
   "source": [
    "Inicializamos el qubit 1 de Alice con los ángulos proporcionados, donde theta, phi, y lmbda son los 3 ángulos de Euler [1]."
   ]
  },
  {
   "cell_type": "code",
   "execution_count": 36,
   "id": "9ee8ba27",
   "metadata": {},
   "outputs": [],
   "source": [
    "qc_ej3.barrier(label='1')\n",
    "qc_ej3.u(theta, phi, lmbda, alice_1);"
   ]
  },
  {
   "cell_type": "markdown",
   "id": "bcde202e",
   "metadata": {},
   "source": [
    "En el algoritmo de teletransportación cuántica, la creación de un par entrelazado se realiza típicamente utilizando un estado Bell específico. La elección estándar es el estado Bell maximalmente entrelazado \n",
    "$\\frac{|00\\rangle + |11\\rangle}{\\sqrt{2}}$ [2]."
   ]
  },
  {
   "cell_type": "code",
   "execution_count": 37,
   "id": "abad2420",
   "metadata": {},
   "outputs": [],
   "source": [
    "qc_ej3.barrier(label='2')\n",
    "qc_ej3.h(alice_2)\n",
    "qc_ej3.cx(alice_2, bob_1);"
   ]
  },
  {
   "cell_type": "markdown",
   "id": "b48793b7",
   "metadata": {},
   "source": [
    "Alice entrelaza su qubit con el estado cuántico [3]."
   ]
  },
  {
   "cell_type": "code",
   "execution_count": 38,
   "id": "8e08554c",
   "metadata": {},
   "outputs": [],
   "source": [
    "qc_ej3.barrier(label='3')\n",
    "qc_ej3.cx(alice_1, alice_2)\n",
    "qc_ej3.h(alice_1);"
   ]
  },
  {
   "cell_type": "markdown",
   "id": "98378375",
   "metadata": {},
   "source": [
    "Alice mide sus qubits y envía los resultados a Bob a través de un canal de comunicación clásico [4]."
   ]
  },
  {
   "cell_type": "code",
   "execution_count": 39,
   "id": "041d624b",
   "metadata": {},
   "outputs": [],
   "source": [
    "qc_ej3.barrier(label='4')\n",
    "qc_ej3.measure([alice_1, alice_2], [alice_1, alice_2]);"
   ]
  },
  {
   "cell_type": "markdown",
   "id": "e5bed97c",
   "metadata": {},
   "source": [
    "Bob corrige su qubit basado en las mediciones de Alice y mide el resultado. Aplica la puerta Pauli-X si el valor del qubit 1 de Alice ha sido 1 y/o aplica la puerta Pauli-Z si el valor del qubit 2 de Alice ha sido 1 [5]."
   ]
  },
  {
   "cell_type": "code",
   "execution_count": 40,
   "id": "b77a8016",
   "metadata": {},
   "outputs": [],
   "source": [
    "qc_ej3.barrier(label='5')\n",
    "qc_ej3.x(bob_1).c_if(alice_2, 1)\n",
    "qc_ej3.z(bob_1).c_if(alice_1, 1) \n",
    "qc_ej3.measure(bob_1, bob_1);"
   ]
  },
  {
   "cell_type": "markdown",
   "id": "213d4c2f",
   "metadata": {},
   "source": [
    "El circuito resultante sería el siguiente. Las barreras indican las diferentes partes del algoritmo y se referencian con su número en los previos pasos."
   ]
  },
  {
   "cell_type": "code",
   "execution_count": 41,
   "id": "1e8eea43",
   "metadata": {},
   "outputs": [
    {
     "data": {
      "image/png": "[encoded data removed]",
      "text/plain": [
       "<Figure size 1509.52x367.889 with 1 Axes>"
      ]
     },
     "execution_count": 41,
     "metadata": {},
     "output_type": "execute_result"
    }
   ],
   "source": [
    "qc_ej3.draw(output='mpl', style=\"iqp\")"
   ]
  },
  {
   "cell_type": "markdown",
   "id": "b0accb73",
   "metadata": {},
   "source": [
    "Simulamos el circuito cuántico y obtenemos el histograma de las mediciones finales. De los 3 bits de medición mostrados, el primero bit mide el qubit de Bob, el segundo bit mide el segundo qubit de Alice y el tercer bit es el primer qubit de Alice."
   ]
  },
  {
   "cell_type": "code",
   "execution_count": 42,
   "id": "40d4ccb4",
   "metadata": {},
   "outputs": [
    {
     "data": {
      "image/png": "[encoded data removed]",
      "text/plain": [
       "<Figure size 700x500 with 1 Axes>"
      ]
     },
     "execution_count": 42,
     "metadata": {},
     "output_type": "execute_result"
    }
   ],
   "source": [
    "result = backend.run(qc_ej3, shots=1024).result()\n",
    "counts = result.get_counts()\n",
    "plot_histogram(counts)"
   ]
  },
  {
   "cell_type": "markdown",
   "id": "01af3005",
   "metadata": {},
   "source": [
    "De esta manera verificamos que el estado  $|{\\Psi}\\rangle$ de Alice se ha podido reproducir en el qubit de Bob."
   ]
  },
  {
   "cell_type": "markdown",
   "id": "976e594c",
   "metadata": {},
   "source": [
    "# Apéndice"
   ]
  },
  {
   "cell_type": "markdown",
   "id": "84c28c23",
   "metadata": {},
   "source": [
    "## Comprobación de los estados de Bell con arrays"
   ]
  },
  {
   "cell_type": "markdown",
   "id": "e887940e",
   "metadata": {},
   "source": [
    "Para realizar este ejercicio, definamos los vectores de estado $|0⟩$ y $|1⟩$ con su forma matricial en NumPy."
   ]
  },
  {
   "cell_type": "code",
   "execution_count": 43,
   "id": "c63a5784",
   "metadata": {},
   "outputs": [],
   "source": [
    "sv_0 = np.array([1, 0])\n",
    "sv_1 = np.array([0, 1])"
   ]
  },
  {
   "cell_type": "markdown",
   "id": "bcffd6b5",
   "metadata": {},
   "source": [
    "### Funciones auxiliares\n",
    "\n",
    "Para simplificar los pasos, se ha creado una función principal llamada `array_to_dirac_and_matrix_latex`. Esta función toma una matriz de NumPy que representa el estado del sistema y genera código LaTeX para visualizar tanto la representación matricial como la notación de Dirac del estado cuántico. Además, utiliza tres funciones auxiliares para realizar estas tareas:\n",
    "\n",
    "- **`array_to_matrix_representation`**: Convierte un array unidimensional en una representación matricial en columna.\n",
    "\n",
    "- **`array_to_dirac_notation`**: Convierte un array complejo que representa un estado cuántico en superposición a la notación de Dirac.\n",
    "\n",
    "- **`find_symbolic_representation`**: Verifica si un valor numérico corresponde a una constante simbólica dentro de una tolerancia especificada. Si se encuentra una correspondencia, devuelve la representación simbólica como cadena (con un signo '-' si el valor es negativo), de lo contrario, devuelve el valor original."
   ]
  },
  {
   "cell_type": "markdown",
   "id": "5533839c",
   "metadata": {},
   "source": [
    "#### `is_symbolic_constant` Function:\n",
    "\n",
    "**Purpose:**\n",
    "The `is_symbolic_constant` function checks if an amplitude corresponds to a symbolic constant within a specified tolerance.\n",
    "\n",
    "**Attributes:**\n",
    "- `amplitude` (float): The amplitude to check.\n",
    "- `symbolic_constants` (dict): A dictionary mapping numerical values to their symbolic representations.\n",
    "- `tolerance` (float): Tolerance for comparing amplitudes with symbolic constants.\n",
    "\n",
    "**Methods:**\n",
    "None\n",
    "\n",
    "**Example Usage:**\n",
    "```python\n",
    "symbol = is_symbolic_constant(my_amplitude)\n",
    "```"
   ]
  },
  {
   "cell_type": "code",
   "execution_count": 44,
   "id": "d5d1492f",
   "metadata": {},
   "outputs": [],
   "source": [
    "def find_symbolic_representation(value, symbolic_constants={1/np.sqrt(2): '1/√2'}, tolerance=1e-10):\n",
    "    \"\"\"\n",
    "    Check if the given numerical value corresponds to a symbolic constant within a specified tolerance.\n",
    "\n",
    "    Parameters:\n",
    "    - value (float): The numerical value to check.\n",
    "    - symbolic_constants (dict): A dictionary mapping numerical values to their symbolic representations.\n",
    "                                Defaults to {1/np.sqrt(2): '1/√2'}.\n",
    "    - tolerance (float): Tolerance for comparing values with symbolic constants. Defaults to 1e-10.\n",
    "\n",
    "    Returns:\n",
    "    str or float: If a match is found, returns the symbolic representation as a string \n",
    "                  (prefixed with '-' if the value is negative); otherwise, returns the original value.\n",
    "    \"\"\"\n",
    "    for constant, symbol in symbolic_constants.items():\n",
    "        if np.isclose(abs(value), constant, atol=tolerance):\n",
    "            return symbol if value >= 0 else '-' + symbol\n",
    "    return value\n"
   ]
  },
  {
   "cell_type": "markdown",
   "id": "0a2a7f3a",
   "metadata": {},
   "source": [
    "#### `array_to_dirac_notation` Function:\n",
    "\n",
    "**Purpose:**\n",
    "The `array_to_dirac_notation` function is designed to convert a complex-valued array representing a quantum state in superposition to Dirac notation.\n",
    "\n",
    "**Attributes:**\n",
    "- `array` (numpy.ndarray): The complex-valued array representing the quantum state in superposition.\n",
    "- `tolerance` (float): Tolerance for considering amplitudes as negligible.\n",
    "\n",
    "**Methods:**\n",
    "None\n",
    "\n",
    "**Example Usage:**\n",
    "```python\n",
    "dirac_notation = array_to_dirac_notation(my_quantum_state)\n"
   ]
  },
  {
   "cell_type": "code",
   "execution_count": 45,
   "id": "ef7f0c94",
   "metadata": {},
   "outputs": [],
   "source": [
    "def array_to_dirac_notation(array, tolerance=1e-10):\n",
    "    \"\"\"\n",
    "    Convert a complex-valued array representing a quantum state in superposition\n",
    "    to Dirac notation.\n",
    "\n",
    "    Parameters:\n",
    "    - array (numpy.ndarray): The complex-valued array representing\n",
    "      the quantum state in superposition.\n",
    "    - tolerance (float): Tolerance for considering amplitudes as negligible.\n",
    "\n",
    "    Returns:\n",
    "    str: The Dirac notation representation of the quantum state.\n",
    "    \"\"\"\n",
    "    # Ensure the statevector is normalized\n",
    "    array = array / np.linalg.norm(array)\n",
    "\n",
    "    # Get the number of qubits\n",
    "    num_qubits = int(np.log2(len(array)))\n",
    "\n",
    "    # Find indices where amplitude is not negligible\n",
    "    non_zero_indices = np.where(np.abs(array) > tolerance)[0]\n",
    "\n",
    "    # Generate Dirac notation terms\n",
    "    terms = [\n",
    "        (find_symbolic_representation(array[i]), format(i, f\"0{num_qubits}b\"))\n",
    "        for i in non_zero_indices\n",
    "    ]\n",
    "\n",
    "    # Format Dirac notation\n",
    "    dirac_notation = \" + \".join([f\"{amplitude}|{binary_rep}⟩\" for amplitude, binary_rep in terms])\n",
    "\n",
    "    return dirac_notation"
   ]
  },
  {
   "cell_type": "markdown",
   "id": "1f5833ee",
   "metadata": {},
   "source": [
    "#### `array_to_matrix_representation` Function:\n",
    "\n",
    "**Purpose:**\n",
    "The `array_to_matrix_representation` function is designed to convert a one-dimensional array to a column matrix representation.\n",
    "\n",
    "**Attributes:**\n",
    "- `array` (numpy.ndarray): The one-dimensional array to be converted.\n",
    "\n",
    "**Methods:**\n",
    "None\n",
    "\n",
    "**Example Usage:**\n",
    "```python\n",
    "matrix_rep = array_to_matrix_representation(my_array)\n"
   ]
  },
  {
   "cell_type": "code",
   "execution_count": 46,
   "id": "9086fe79",
   "metadata": {},
   "outputs": [],
   "source": [
    "def array_to_matrix_representation(array):\n",
    "    \"\"\"\n",
    "    Convert a one-dimensional array to a column matrix representation.\n",
    "\n",
    "    Parameters:\n",
    "    - array (numpy.ndarray): The one-dimensional array to be converted.\n",
    "\n",
    "    Returns:\n",
    "    numpy.ndarray: The column matrix representation of the input array.\n",
    "    \"\"\"\n",
    "    # Replace symbolic constants with their representations\n",
    "    matrix_representation = np.array([find_symbolic_representation(value) or value for value in array])\n",
    "\n",
    "    # Return the column matrix representation\n",
    "    return matrix_representation.reshape((len(matrix_representation), 1))"
   ]
  },
  {
   "cell_type": "markdown",
   "id": "65e31568",
   "metadata": {},
   "source": [
    "#### `array_to_dirac_and_matrix_latex` Function:\n",
    "\n",
    "**Purpose:**\n",
    "The `array_to_dirac_and_matrix_latex` function is designed to generate LaTeX code for displaying both the matrix representation and Dirac notation of a quantum state.\n",
    "\n",
    "**Attributes:**\n",
    "- `array` (numpy.ndarray): The complex-valued array representing the quantum state.\n",
    "\n",
    "**Methods:**\n",
    "- `array_to_matrix_representation(array)`: Converts a one-dimensional array to a column matrix representation.\n",
    "- `array_to_dirac_notation(array, tolerance=1e-10)`: Converts a complex-valued array representing a quantum state in superposition to Dirac notation.\n",
    "- `is_symbolic_constant(amplitude, symbolic_constants={1/np.sqrt(2): '1/√2'}, tolerance=1e-10)`: Checks if an amplitude corresponds to a symbolic constant within a specified tolerance.\n",
    "\n",
    "**Example Usage:**\n",
    "```python\n",
    "result = array_to_dirac_and_matrix_latex(my_quantum_state)\n"
   ]
  },
  {
   "cell_type": "code",
   "execution_count": 47,
   "id": "d8cca811",
   "metadata": {},
   "outputs": [],
   "source": [
    "def array_to_dirac_and_matrix_latex(array):\n",
    "    \"\"\"\n",
    "    Generate LaTeX code for displaying both the matrix representation and Dirac notation\n",
    "    of a quantum state.\n",
    "\n",
    "    Parameters:\n",
    "    - array (numpy.ndarray): The complex-valued array representing the quantum state.\n",
    "\n",
    "    Returns:\n",
    "\n",
    "    Latex: A Latex object containing LaTeX code for displaying both representations.\n",
    "    \"\"\"\n",
    "    matrix_representation = array_to_matrix_representation(array)\n",
    "    latex = \"Matrix representation\\n\\\\begin{bmatrix}\\n\" + \\\n",
    "            \"\\\\\\\\\\n\".join(map(str, matrix_representation.flatten())) + \\\n",
    "            \"\\n\\\\end{bmatrix}\\n\"\n",
    "    latex += f'Dirac Notation:\\n{array_to_dirac_notation(array)}'\n",
    "    return Latex(latex)"
   ]
  },
  {
   "cell_type": "markdown",
   "id": "0b2bbe13",
   "metadata": {},
   "source": [
    "### Evolución del estado cuántico del sistema de $|\\Phi^+\\rangle$\n",
    "\n",
    "Si queremos ver cuál sería la evolució del estado cuántico del sistema, vamos a simularlo haciendo operaciones a los vectores en forma de Numpy Array."
   ]
  },
  {
   "cell_type": "code",
   "execution_count": 48,
   "id": "935f7879",
   "metadata": {},
   "outputs": [
    {
     "data": {
      "text/latex": [
       "Matrix representation\n",
       "\\begin{bmatrix}\n",
       "1\\\\\n",
       "0\\\\\n",
       "0\\\\\n",
       "0\n",
       "\\end{bmatrix}\n",
       "Dirac Notation:\n",
       "1.0|00⟩"
      ],
      "text/plain": [
       "<IPython.core.display.Latex object>"
      ]
     },
     "execution_count": 48,
     "metadata": {},
     "output_type": "execute_result"
    }
   ],
   "source": [
    "sv_b1 = np.kron(sv_0, sv_0)\n",
    "array_to_dirac_and_matrix_latex(sv_b1)"
   ]
  },
  {
   "cell_type": "markdown",
   "id": "17b9178d",
   "metadata": {},
   "source": [
    "Añadimos una puerta Hadamard al primer qubit:"
   ]
  },
  {
   "cell_type": "code",
   "execution_count": 49,
   "id": "c0fb3963",
   "metadata": {},
   "outputs": [
    {
     "data": {
      "text/latex": [
       "Matrix representation\n",
       "\\begin{bmatrix}\n",
       "1/√2\\\\\n",
       "1/√2\\\\\n",
       "0.0\\\\\n",
       "0.0\n",
       "\\end{bmatrix}\n",
       "Dirac Notation:\n",
       "1/√2|00⟩ + 1/√2|01⟩"
      ],
      "text/plain": [
       "<IPython.core.display.Latex object>"
      ]
     },
     "execution_count": 49,
     "metadata": {},
     "output_type": "execute_result"
    }
   ],
   "source": [
    "sv_b1 = (np.kron(sv_0, sv_0) + np.kron(sv_0, sv_1)) / np.sqrt(2)\n",
    "array_to_dirac_and_matrix_latex(sv_b1)"
   ]
  },
  {
   "cell_type": "markdown",
   "id": "60f5fd7d",
   "metadata": {},
   "source": [
    "Finalmente añadimos una puerta CNOT, donde el qubit de control es el primer qubit, y el qubit objetivo es el segundo:"
   ]
  },
  {
   "cell_type": "code",
   "execution_count": 50,
   "id": "dec600f6",
   "metadata": {},
   "outputs": [
    {
     "data": {
      "text/latex": [
       "Matrix representation\n",
       "\\begin{bmatrix}\n",
       "1/√2\\\\\n",
       "0.0\\\\\n",
       "0.0\\\\\n",
       "1/√2\n",
       "\\end{bmatrix}\n",
       "Dirac Notation:\n",
       "1/√2|00⟩ + 1/√2|11⟩"
      ],
      "text/plain": [
       "<IPython.core.display.Latex object>"
      ]
     },
     "execution_count": 50,
     "metadata": {},
     "output_type": "execute_result"
    }
   ],
   "source": [
    "sv_b1 = (np.kron(sv_0, sv_0) + np.kron(sv_1, sv_1)) / np.sqrt(2)\n",
    "array_to_dirac_and_matrix_latex(sv_b1)"
   ]
  },
  {
   "cell_type": "markdown",
   "id": "5bfbbd81",
   "metadata": {},
   "source": [
    "### Evolución del estado cuántico del sistema de $|\\Phi^-\\rangle$\n",
    "\n",
    "Si queremos ver cuál sería la evolució del estado cuántico del sistema, vamos a simularlo haciendo operaciones a los vectores en forma de Numpy Array."
   ]
  },
  {
   "cell_type": "code",
   "execution_count": 51,
   "id": "f4724b0b",
   "metadata": {},
   "outputs": [
    {
     "data": {
      "text/latex": [
       "Matrix representation\n",
       "\\begin{bmatrix}\n",
       "1\\\\\n",
       "0\\\\\n",
       "0\\\\\n",
       "0\n",
       "\\end{bmatrix}\n",
       "Dirac Notation:\n",
       "1.0|00⟩"
      ],
      "text/plain": [
       "<IPython.core.display.Latex object>"
      ]
     },
     "execution_count": 51,
     "metadata": {},
     "output_type": "execute_result"
    }
   ],
   "source": [
    "sv_b2 = np.kron(sv_0, sv_0)\n",
    "array_to_dirac_and_matrix_latex(sv_b2)"
   ]
  },
  {
   "cell_type": "markdown",
   "id": "ff6e4198",
   "metadata": {},
   "source": [
    "Añadimos una puerta Hadamard al primer qubit:"
   ]
  },
  {
   "cell_type": "code",
   "execution_count": 52,
   "id": "5809b780",
   "metadata": {},
   "outputs": [
    {
     "data": {
      "text/latex": [
       "Matrix representation\n",
       "\\begin{bmatrix}\n",
       "1/√2\\\\\n",
       "1/√2\\\\\n",
       "0.0\\\\\n",
       "0.0\n",
       "\\end{bmatrix}\n",
       "Dirac Notation:\n",
       "1/√2|00⟩ + 1/√2|01⟩"
      ],
      "text/plain": [
       "<IPython.core.display.Latex object>"
      ]
     },
     "execution_count": 52,
     "metadata": {},
     "output_type": "execute_result"
    }
   ],
   "source": [
    "sv_b2 = (np.kron(sv_0, sv_0) + np.kron(sv_0, sv_1)) / np.sqrt(2)\n",
    "array_to_dirac_and_matrix_latex(sv_b2)"
   ]
  },
  {
   "cell_type": "markdown",
   "id": "0eb53342",
   "metadata": {},
   "source": [
    "Añadimos una puerta CNOT, donde el qubit de control es el primer qubit, y el qubit objetivo es el segundo:"
   ]
  },
  {
   "cell_type": "code",
   "execution_count": 53,
   "id": "94cbee7e",
   "metadata": {},
   "outputs": [
    {
     "data": {
      "text/latex": [
       "Matrix representation\n",
       "\\begin{bmatrix}\n",
       "1/√2\\\\\n",
       "0.0\\\\\n",
       "0.0\\\\\n",
       "1/√2\n",
       "\\end{bmatrix}\n",
       "Dirac Notation:\n",
       "1/√2|00⟩ + 1/√2|11⟩"
      ],
      "text/plain": [
       "<IPython.core.display.Latex object>"
      ]
     },
     "execution_count": 53,
     "metadata": {},
     "output_type": "execute_result"
    }
   ],
   "source": [
    "sv_b2 = (np.kron(sv_0, sv_0) + np.kron(sv_1, sv_1)) / np.sqrt(2)\n",
    "array_to_dirac_and_matrix_latex(sv_b2)"
   ]
  },
  {
   "cell_type": "markdown",
   "id": "c89fe781",
   "metadata": {},
   "source": [
    "Finalmente, añadimos una puerta Pauli-Z en el qubit 0 para pasar de $|+\\rangle$ a $|-\\rangle$."
   ]
  },
  {
   "cell_type": "code",
   "execution_count": 54,
   "id": "b19fc958",
   "metadata": {},
   "outputs": [
    {
     "data": {
      "text/latex": [
       "Matrix representation\n",
       "\\begin{bmatrix}\n",
       "1/√2\\\\\n",
       "0.0\\\\\n",
       "0.0\\\\\n",
       "-1/√2\n",
       "\\end{bmatrix}\n",
       "Dirac Notation:\n",
       "1/√2|00⟩ + -1/√2|11⟩"
      ],
      "text/plain": [
       "<IPython.core.display.Latex object>"
      ]
     },
     "execution_count": 54,
     "metadata": {},
     "output_type": "execute_result"
    }
   ],
   "source": [
    "sv_b2 = (np.kron(sv_0, sv_0) - np.kron(sv_1, sv_1)) / np.sqrt(2)\n",
    "array_to_dirac_and_matrix_latex(sv_b2)"
   ]
  },
  {
   "cell_type": "markdown",
   "id": "8d3359d3",
   "metadata": {},
   "source": [
    "### Evolución del estado cuántico del sistema de $|\\Psi^+\\rangle$\n",
    "\n",
    "Si queremos ver cuál sería la evolució del estado cuántico del sistema, vamos a simularlo haciendo operaciones a los vectores en forma de Numpy Array."
   ]
  },
  {
   "cell_type": "code",
   "execution_count": 55,
   "id": "4b070038",
   "metadata": {},
   "outputs": [
    {
     "data": {
      "text/latex": [
       "Matrix representation\n",
       "\\begin{bmatrix}\n",
       "1\\\\\n",
       "0\\\\\n",
       "0\\\\\n",
       "0\n",
       "\\end{bmatrix}\n",
       "Dirac Notation:\n",
       "1.0|00⟩"
      ],
      "text/plain": [
       "<IPython.core.display.Latex object>"
      ]
     },
     "execution_count": 55,
     "metadata": {},
     "output_type": "execute_result"
    }
   ],
   "source": [
    "sv_b3 = np.kron(sv_0, sv_0)\n",
    "array_to_dirac_and_matrix_latex(sv_b3)"
   ]
  },
  {
   "cell_type": "markdown",
   "id": "1200bee2",
   "metadata": {},
   "source": [
    "Añadimos una puerta Pauli-X al primer qubit:"
   ]
  },
  {
   "cell_type": "code",
   "execution_count": 56,
   "id": "cc8bf1b5",
   "metadata": {},
   "outputs": [
    {
     "data": {
      "text/latex": [
       "Matrix representation\n",
       "\\begin{bmatrix}\n",
       "0\\\\\n",
       "1\\\\\n",
       "0\\\\\n",
       "0\n",
       "\\end{bmatrix}\n",
       "Dirac Notation:\n",
       "1.0|01⟩"
      ],
      "text/plain": [
       "<IPython.core.display.Latex object>"
      ]
     },
     "execution_count": 56,
     "metadata": {},
     "output_type": "execute_result"
    }
   ],
   "source": [
    "sv_b3 = np.kron(sv_0, sv_1)\n",
    "array_to_dirac_and_matrix_latex(sv_b3)"
   ]
  },
  {
   "cell_type": "markdown",
   "id": "d0825c4a",
   "metadata": {},
   "source": [
    "Añadimos una puerta Hadamard al primer qubit:"
   ]
  },
  {
   "cell_type": "code",
   "execution_count": 57,
   "id": "41932afe",
   "metadata": {},
   "outputs": [
    {
     "data": {
      "text/latex": [
       "Matrix representation\n",
       "\\begin{bmatrix}\n",
       "1/√2\\\\\n",
       "-1/√2\\\\\n",
       "0.0\\\\\n",
       "0.0\n",
       "\\end{bmatrix}\n",
       "Dirac Notation:\n",
       "1/√2|00⟩ + -1/√2|01⟩"
      ],
      "text/plain": [
       "<IPython.core.display.Latex object>"
      ]
     },
     "execution_count": 57,
     "metadata": {},
     "output_type": "execute_result"
    }
   ],
   "source": [
    "sv_b3 = (np.kron(sv_0, sv_0) - np.kron(sv_0, sv_1)) / np.sqrt(2)\n",
    "array_to_dirac_and_matrix_latex(sv_b3)"
   ]
  },
  {
   "cell_type": "markdown",
   "id": "b2216b73",
   "metadata": {},
   "source": [
    "Añadimos una puerta CNOT, donde el qubit de control es el primer qubit, y el qubit objetivo es el segundo:"
   ]
  },
  {
   "cell_type": "code",
   "execution_count": 58,
   "id": "e1e5f264",
   "metadata": {},
   "outputs": [
    {
     "data": {
      "text/latex": [
       "Matrix representation\n",
       "\\begin{bmatrix}\n",
       "0.0\\\\\n",
       "1/√2\\\\\n",
       "-1/√2\\\\\n",
       "0.0\n",
       "\\end{bmatrix}\n",
       "Dirac Notation:\n",
       "1/√2|01⟩ + -1/√2|10⟩"
      ],
      "text/plain": [
       "<IPython.core.display.Latex object>"
      ]
     },
     "execution_count": 58,
     "metadata": {},
     "output_type": "execute_result"
    }
   ],
   "source": [
    "sv_b3 = (np.kron(sv_0, sv_1) - np.kron(sv_1, sv_0)) / np.sqrt(2)\n",
    "array_to_dirac_and_matrix_latex(sv_b3)"
   ]
  },
  {
   "cell_type": "markdown",
   "id": "765aece5",
   "metadata": {},
   "source": [
    "Finalmente, añadimos una puerta Pauli-Z en el qubit 0 para pasar de $|+\\rangle$ a $|-\\rangle$."
   ]
  },
  {
   "cell_type": "code",
   "execution_count": 59,
   "id": "f58e9f4f",
   "metadata": {},
   "outputs": [
    {
     "data": {
      "text/latex": [
       "Matrix representation\n",
       "\\begin{bmatrix}\n",
       "0.0\\\\\n",
       "1/√2\\\\\n",
       "1/√2\\\\\n",
       "0.0\n",
       "\\end{bmatrix}\n",
       "Dirac Notation:\n",
       "1/√2|01⟩ + 1/√2|10⟩"
      ],
      "text/plain": [
       "<IPython.core.display.Latex object>"
      ]
     },
     "execution_count": 59,
     "metadata": {},
     "output_type": "execute_result"
    }
   ],
   "source": [
    "sv_b3 = (np.kron(sv_0, sv_1) + np.kron(sv_1, sv_0)) / np.sqrt(2)\n",
    "array_to_dirac_and_matrix_latex(sv_b3)"
   ]
  },
  {
   "cell_type": "markdown",
   "id": "467d5e97",
   "metadata": {},
   "source": [
    "### Evolución del estado cuántico del sistema de $|\\Psi^-\\rangle$\n",
    "\n",
    "Si queremos ver cuál sería la evolució del estado cuántico del sistema, vamos a simularlo haciendo operaciones a los vectores en forma de Numpy Array."
   ]
  },
  {
   "cell_type": "code",
   "execution_count": 60,
   "id": "6bc75d5d",
   "metadata": {},
   "outputs": [
    {
     "data": {
      "text/latex": [
       "Matrix representation\n",
       "\\begin{bmatrix}\n",
       "1\\\\\n",
       "0\\\\\n",
       "0\\\\\n",
       "0\n",
       "\\end{bmatrix}\n",
       "Dirac Notation:\n",
       "1.0|00⟩"
      ],
      "text/plain": [
       "<IPython.core.display.Latex object>"
      ]
     },
     "execution_count": 60,
     "metadata": {},
     "output_type": "execute_result"
    }
   ],
   "source": [
    "sv_b4 = np.kron(sv_0, sv_0)\n",
    "array_to_dirac_and_matrix_latex(sv_b4)"
   ]
  },
  {
   "cell_type": "markdown",
   "id": "5a834dc0",
   "metadata": {},
   "source": [
    "Añadimos una puerta Pauli-X al primer qubit:"
   ]
  },
  {
   "cell_type": "code",
   "execution_count": 61,
   "id": "3ff7d661",
   "metadata": {},
   "outputs": [
    {
     "data": {
      "text/latex": [
       "Matrix representation\n",
       "\\begin{bmatrix}\n",
       "0\\\\\n",
       "1\\\\\n",
       "0\\\\\n",
       "0\n",
       "\\end{bmatrix}\n",
       "Dirac Notation:\n",
       "1.0|01⟩"
      ],
      "text/plain": [
       "<IPython.core.display.Latex object>"
      ]
     },
     "execution_count": 61,
     "metadata": {},
     "output_type": "execute_result"
    }
   ],
   "source": [
    "sv_b4 = np.kron(sv_0, sv_1)\n",
    "array_to_dirac_and_matrix_latex(sv_b4)"
   ]
  },
  {
   "cell_type": "markdown",
   "id": "b4124203",
   "metadata": {},
   "source": [
    "Añadimos una puerta Hadamard al primer qubit:"
   ]
  },
  {
   "cell_type": "code",
   "execution_count": 62,
   "id": "16c0f0ff",
   "metadata": {},
   "outputs": [
    {
     "data": {
      "text/latex": [
       "Matrix representation\n",
       "\\begin{bmatrix}\n",
       "1/√2\\\\\n",
       "-1/√2\\\\\n",
       "0.0\\\\\n",
       "0.0\n",
       "\\end{bmatrix}\n",
       "Dirac Notation:\n",
       "1/√2|00⟩ + -1/√2|01⟩"
      ],
      "text/plain": [
       "<IPython.core.display.Latex object>"
      ]
     },
     "execution_count": 62,
     "metadata": {},
     "output_type": "execute_result"
    }
   ],
   "source": [
    "sv_b4 = (np.kron(sv_0, sv_0) - np.kron(sv_0, sv_1)) / np.sqrt(2)\n",
    "array_to_dirac_and_matrix_latex(sv_b4)"
   ]
  },
  {
   "cell_type": "markdown",
   "id": "470c726d",
   "metadata": {},
   "source": [
    "Añadimos una puerta CNOT, donde el qubit de control es el primer qubit, y el qubit objetivo es el segundo:"
   ]
  },
  {
   "cell_type": "code",
   "execution_count": 63,
   "id": "9e6cf729",
   "metadata": {
    "tags": []
   },
   "outputs": [
    {
     "data": {
      "text/latex": [
       "Matrix representation\n",
       "\\begin{bmatrix}\n",
       "0.0\\\\\n",
       "1/√2\\\\\n",
       "-1/√2\\\\\n",
       "0.0\n",
       "\\end{bmatrix}\n",
       "Dirac Notation:\n",
       "1/√2|01⟩ + -1/√2|10⟩"
      ],
      "text/plain": [
       "<IPython.core.display.Latex object>"
      ]
     },
     "execution_count": 63,
     "metadata": {},
     "output_type": "execute_result"
    }
   ],
   "source": [
    "sv_b4 = (np.kron(sv_0, sv_1) - np.kron(sv_1, sv_0)) / np.sqrt(2)\n",
    "array_to_dirac_and_matrix_latex(sv_b4)"
   ]
  }
 ],
 "metadata": {
  "kernelspec": {
   "display_name": "Python 3 (ipykernel)",
   "language": "python",
   "name": "python3"
  },
  "language_info": {
   "codemirror_mode": {
    "name": "ipython",
    "version": 3
   },
   "file_extension": ".py",
   "mimetype": "text/x-python",
   "name": "python",
   "nbconvert_exporter": "python",
   "pygments_lexer": "ipython3",
   "version": "3.10.8"
  },
  "widgets": {
   "application/vnd.jupyter.widget-state+json": {
    "state": {
     "102f66895b9b464e8ca0d8fa86221c65": {
      "model_module": "@jupyter-widgets/controls",
      "model_module_version": "2.0.0",
      "model_name": "HTMLStyleModel",
      "state": {
       "description_width": "",
       "font_size": null,
       "text_color": null
      }
     },
     "157f0198689a488f9d58bd81b385750d": {
      "model_module": "@jupyter-widgets/controls",
      "model_module_version": "2.0.0",
      "model_name": "HTMLStyleModel",
      "state": {
       "description_width": "",
       "font_size": null,
       "text_color": null
      }
     },
     "259bb0c81caa40258ceb1e09b066e26f": {
      "model_module": "@jupyter-widgets/base",
      "model_module_version": "2.0.0",
      "model_name": "LayoutModel",
      "state": {
       "width": "190px"
      }
     },
     "2e6629561e5241a883e07393c381a508": {
      "model_module": "@jupyter-widgets/controls",
      "model_module_version": "2.0.0",
      "model_name": "HBoxModel",
      "state": {
       "children": [
        "IPY_MODEL_904ab02eae794d59b6204dad2022470a",
        "IPY_MODEL_6e32de3762114becaf1f29d04751bb9d",
        "IPY_MODEL_dcd7f3a390c8442b890216273701dea8",
        "IPY_MODEL_76b65600d6e140948cd59618afa9b39f",
        "IPY_MODEL_58b8b6c9eaf44312936271d4e73db954"
       ],
       "layout": "IPY_MODEL_91e7afa17eca46f8a1159754065e4757"
      }
     },
     "2e83154964dc41eeae2971c1e4dfc7a5": {
      "model_module": "@jupyter-widgets/controls",
      "model_module_version": "2.0.0",
      "model_name": "HTMLStyleModel",
      "state": {
       "description_width": "",
       "font_size": null,
       "text_color": null
      }
     },
     "48464249b06d43b6a6051a194684dbde": {
      "model_module": "@jupyter-widgets/controls",
      "model_module_version": "2.0.0",
      "model_name": "ButtonModel",
      "state": {
       "button_style": "primary",
       "description": "Clear",
       "layout": "IPY_MODEL_75cc925c348c45c784a269231d062c59",
       "style": "IPY_MODEL_7b46ee16ee5740e38516fa47bedd4265",
       "tooltip": null
      }
     },
     "58b8b6c9eaf44312936271d4e73db954": {
      "model_module": "@jupyter-widgets/controls",
      "model_module_version": "2.0.0",
      "model_name": "HTMLModel",
      "state": {
       "layout": "IPY_MODEL_baa89297bb19448989cb63614b71f51c",
       "style": "IPY_MODEL_ffc12c3bde6d43aba641d7728aa99d24",
       "value": "<h5>Message</h5>"
      }
     },
     "60d292550f7e4ba7a3d6d2b16bc177d1": {
      "model_module": "@jupyter-widgets/base",
      "model_module_version": "2.0.0",
      "model_name": "LayoutModel",
      "state": {
       "width": "70px"
      }
     },
     "63753b8a702d493a969cbc3b4dc145df": {
      "model_module": "@jupyter-widgets/controls",
      "model_module_version": "2.0.0",
      "model_name": "GridBoxModel",
      "state": {
       "children": [
        "IPY_MODEL_48464249b06d43b6a6051a194684dbde"
       ],
       "layout": "IPY_MODEL_b9c8bbb40ad248bc8bac23968a862eb4"
      }
     },
     "6470c7055b0b4c67a70ed6caeb3c22fa": {
      "model_module": "@jupyter-widgets/controls",
      "model_module_version": "2.0.0",
      "model_name": "HTMLStyleModel",
      "state": {
       "description_width": "",
       "font_size": null,
       "text_color": null
      }
     },
     "6e32de3762114becaf1f29d04751bb9d": {
      "model_module": "@jupyter-widgets/controls",
      "model_module_version": "2.0.0",
      "model_name": "HTMLModel",
      "state": {
       "layout": "IPY_MODEL_eb6be431f5d04635bdb47fd0b6f16a02",
       "style": "IPY_MODEL_ce54783185964f1c9c5f289214ff639a",
       "value": "<h5>Backend</h5>"
      }
     },
     "75cc925c348c45c784a269231d062c59": {
      "model_module": "@jupyter-widgets/base",
      "model_module_version": "2.0.0",
      "model_name": "LayoutModel",
      "state": {
       "grid_area": "right",
       "padding": "0px 0px 0px 0px",
       "width": "70px"
      }
     },
     "76b65600d6e140948cd59618afa9b39f": {
      "model_module": "@jupyter-widgets/controls",
      "model_module_version": "2.0.0",
      "model_name": "HTMLModel",
      "state": {
       "layout": "IPY_MODEL_60d292550f7e4ba7a3d6d2b16bc177d1",
       "style": "IPY_MODEL_2e83154964dc41eeae2971c1e4dfc7a5",
       "value": "<h5>Queue</h5>"
      }
     },
     "7b46ee16ee5740e38516fa47bedd4265": {
      "model_module": "@jupyter-widgets/controls",
      "model_module_version": "2.0.0",
      "model_name": "ButtonStyleModel",
      "state": {
       "font_family": null,
       "font_size": null,
       "font_style": null,
       "font_variant": null,
       "font_weight": null,
       "text_color": null,
       "text_decoration": null
      }
     },
     "904ab02eae794d59b6204dad2022470a": {
      "model_module": "@jupyter-widgets/controls",
      "model_module_version": "2.0.0",
      "model_name": "HTMLModel",
      "state": {
       "layout": "IPY_MODEL_259bb0c81caa40258ceb1e09b066e26f",
       "style": "IPY_MODEL_157f0198689a488f9d58bd81b385750d",
       "value": "<h5>Job ID</h5>"
      }
     },
     "91e7afa17eca46f8a1159754065e4757": {
      "model_module": "@jupyter-widgets/base",
      "model_module_version": "2.0.0",
      "model_name": "LayoutModel",
      "state": {
       "margin": "0px 0px 0px 37px",
       "width": "600px"
      }
     },
     "b9c8bbb40ad248bc8bac23968a862eb4": {
      "model_module": "@jupyter-widgets/base",
      "model_module_version": "2.0.0",
      "model_name": "LayoutModel",
      "state": {
       "grid_template_areas": "\n                                       \". . . . right \"\n                                        ",
       "grid_template_columns": "20% 20% 20% 20% 20%",
       "width": "100%"
      }
     },
     "baa89297bb19448989cb63614b71f51c": {
      "model_module": "@jupyter-widgets/base",
      "model_module_version": "2.0.0",
      "model_name": "LayoutModel",
      "state": {}
     },
     "ce54783185964f1c9c5f289214ff639a": {
      "model_module": "@jupyter-widgets/controls",
      "model_module_version": "2.0.0",
      "model_name": "HTMLStyleModel",
      "state": {
       "description_width": "",
       "font_size": null,
       "text_color": null
      }
     },
     "dcd7f3a390c8442b890216273701dea8": {
      "model_module": "@jupyter-widgets/controls",
      "model_module_version": "2.0.0",
      "model_name": "HTMLModel",
      "state": {
       "layout": "IPY_MODEL_ddd15a9019b64938b2290f0846ffb005",
       "style": "IPY_MODEL_6470c7055b0b4c67a70ed6caeb3c22fa",
       "value": "<h5>Status</h5>"
      }
     },
     "ddd15a9019b64938b2290f0846ffb005": {
      "model_module": "@jupyter-widgets/base",
      "model_module_version": "2.0.0",
      "model_name": "LayoutModel",
      "state": {
       "width": "95px"
      }
     },
     "e27494f3658c4d4796af0292bfcadd67": {
      "model_module": "@jupyter-widgets/controls",
      "model_module_version": "2.0.0",
      "model_name": "HTMLModel",
      "state": {
       "layout": "IPY_MODEL_f61038c21ac04814a1e0a580d78910b7",
       "style": "IPY_MODEL_102f66895b9b464e8ca0d8fa86221c65",
       "value": "<p style='font-family: IBM Plex Sans, Arial, Helvetica, sans-serif; font-size: 20px; font-weight: medium;'>Circuit Properties</p>"
      }
     },
     "eb6be431f5d04635bdb47fd0b6f16a02": {
      "model_module": "@jupyter-widgets/base",
      "model_module_version": "2.0.0",
      "model_name": "LayoutModel",
      "state": {
       "width": "145px"
      }
     },
     "f61038c21ac04814a1e0a580d78910b7": {
      "model_module": "@jupyter-widgets/base",
      "model_module_version": "2.0.0",
      "model_name": "LayoutModel",
      "state": {
       "margin": "0px 0px 10px 0px"
      }
     },
     "ffc12c3bde6d43aba641d7728aa99d24": {
      "model_module": "@jupyter-widgets/controls",
      "model_module_version": "2.0.0",
      "model_name": "HTMLStyleModel",
      "state": {
       "description_width": "",
       "font_size": null,
       "text_color": null
      }
     }
    },
    "version_major": 2,
    "version_minor": 0
   }
  }
 },
 "nbformat": 4,
 "nbformat_minor": 5
}
