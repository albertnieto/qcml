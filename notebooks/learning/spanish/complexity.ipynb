{
 "cells": [
  {
   "cell_type": "markdown",
   "metadata": {},
   "source": [
    "# Teoría"
   ]
  },
  {
   "cell_type": "markdown",
   "metadata": {},
   "source": [
    "### ¿Qué son los números compuestos? \n",
    "\n",
    "Son aquellos números que además de ser divisibles por ellos mismos y la unidad, también son divisibles por otros números."
   ]
  },
  {
   "cell_type": "markdown",
   "metadata": {},
   "source": [
    "### ¿Qué son los números primos? \n",
    "\n",
    "Los números primos son aquellos solo tienen 2 factores: 1 y ellos mismos."
   ]
  },
  {
   "cell_type": "code",
   "execution_count": 90,
   "metadata": {},
   "outputs": [],
   "source": [
    "from sympy.ntheory import factorint\n",
    "\n",
    "def print_factors(n):\n",
    "\n",
    "    factors = list(factorint(n).items())\n",
    "    factors_string = '' \n",
    "\n",
    "    for i, j in factors:\n",
    "        for _ in range(j):\n",
    "            factors_string += f'{i}*'\n",
    "\n",
    "    factors_string = factors_string[:-1]\n",
    "\n",
    "    print(f'{eval(factors_string)} = {factors_string}')"
   ]
  },
  {
   "cell_type": "code",
   "execution_count": 157,
   "metadata": {},
   "outputs": [],
   "source": [
    "import sympy\n",
    "import random\n",
    "\n",
    "import sympy\n",
    "\n",
    "def prime_list(n, m):\n",
    "    return list(sympy.primerange(n, m + 1))\n",
    "\n",
    "def not_prime_list(n, m):\n",
    "    primes = prime_list(n, m)\n",
    "    not_primes = [i for i in range(n, m + 1) if i not in primes]\n",
    "    return not_primes\n",
    "\n",
    "def random_prime(n, m):\n",
    "    prime = prime_list(n, m)\n",
    "    return prime[random.randint(0, len(prime)-1)]\n",
    "\n",
    "def random_not_prime(n, m):\n",
    "    not_prime = not_prime_list(n, m)\n",
    "    return not_prime[random.randint(0, len(not_prime)-1)]"
   ]
  },
  {
   "cell_type": "markdown",
   "metadata": {},
   "source": [
    "# Analizando la complejidad del problema de la factorización"
   ]
  },
  {
   "cell_type": "markdown",
   "metadata": {},
   "source": [
    "Si $n$ es compuesto, entonces $n$ tiene un factor primo $p$ tal que $p \\leq \\sqrt{n}$.\n",
    "\n",
    "Si $n$ es compuesto, entonces $n$ tiene al menos dos factores primos, $p$ y $q$. Supongamos que $p \\leq q$. Dado que $p$ es primo, no es divisible por $q$.\n"
   ]
  },
  {
   "cell_type": "code",
   "execution_count": 104,
   "metadata": {},
   "outputs": [
    {
     "name": "stdout",
     "output_type": "stream",
     "text": [
      "n = 66\n",
      "p = 11\n",
      "q = 2\n",
      "66 = 2*3*11\n"
     ]
    }
   ],
   "source": [
    "from sympy.ntheory import factorint\n",
    "\n",
    "n = random_not_prime(30, 100)\n",
    "prime_factors = set(factorint(n, multiple=True))\n",
    "\n",
    "p = prime_factors.pop()\n",
    "q = prime_factors.pop()\n",
    "\n",
    "print(f'n = {n}')\n",
    "print(f'p = {p}')\n",
    "print(f'q = {q}')\n",
    "\n",
    "print_factors(n)"
   ]
  },
  {
   "cell_type": "code",
   "execution_count": 236,
   "metadata": {},
   "outputs": [
    {
     "name": "stdout",
     "output_type": "stream",
     "text": [
      "sqrt of 377 is 19.4164878389476\n",
      "1 is divisible by 377\n",
      "13 is divisible by 377\n",
      "29 is divisible by 377\n",
      "377 is divisible by 377\n",
      "377 = 13*29\n"
     ]
    },
    {
     "ename": "",
     "evalue": "",
     "output_type": "error",
     "traceback": [
      "\u001b[1;31mThe Kernel crashed while executing code in the the current cell or a previous cell. Please review the code in the cell(s) to identify a possible cause of the failure. Click <a href='https://aka.ms/vscodeJupyterKernelCrash'>here</a> for more info. View Jupyter <a href='command:jupyter.viewOutput'>log</a> for further details."
     ]
    }
   ],
   "source": [
    "import math\n",
    "\n",
    "min_range = 100\n",
    "max_range = 500\n",
    "\n",
    "n = random_not_prime(min_range, max_range)\n",
    "pi = [i for i in sympy.sieve.primerange(0, max_range)]\n",
    "inti = list(range(1, max_range))\n",
    "sqrt = math.sqrt(n)\n",
    "factor = False\n",
    "prime = False\n",
    "\n",
    "print(f'sqrt of {n} is {sqrt}')\n",
    "\n",
    "for i in inti:\n",
    "        if n % i == 0:\n",
    "            if i > 1:\n",
    "                factor = True\n",
    "            print(f'{i} is divisible by {n}')\n",
    "        if i > sqrt and factor is False:\n",
    "            prime = True\n",
    "            break\n",
    "\n",
    "if prime:\n",
    "    print(f'{n} is prime')\n",
    "\n",
    "print_factors(n)"
   ]
  },
  {
   "cell_type": "code",
   "execution_count": 115,
   "metadata": {},
   "outputs": [
    {
     "data": {
      "text/plain": [
       "[2,\n",
       " 3,\n",
       " 5,\n",
       " 7,\n",
       " 11,\n",
       " 13,\n",
       " 17,\n",
       " 19,\n",
       " 23,\n",
       " 29,\n",
       " 31,\n",
       " 37,\n",
       " 41,\n",
       " 43,\n",
       " 47,\n",
       " 53,\n",
       " 59,\n",
       " 61,\n",
       " 67,\n",
       " 71,\n",
       " 73,\n",
       " 79,\n",
       " 83,\n",
       " 89,\n",
       " 97]"
      ]
     },
     "execution_count": 115,
     "metadata": {},
     "output_type": "execute_result"
    }
   ],
   "source": [
    "[i for i in sympy.sieve.primerange(100)]"
   ]
  }
 ],
 "metadata": {
  "kernelspec": {
   "display_name": "Python 3",
   "language": "python",
   "name": "python3"
  },
  "language_info": {
   "codemirror_mode": {
    "name": "ipython",
    "version": 3
   },
   "file_extension": ".py",
   "mimetype": "text/x-python",
   "name": "python",
   "nbconvert_exporter": "python",
   "pygments_lexer": "ipython3",
   "version": "3.10.8"
  }
 },
 "nbformat": 4,
 "nbformat_minor": 2
}
