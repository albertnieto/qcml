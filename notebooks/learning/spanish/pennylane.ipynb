{
 "cells": [
  {
   "cell_type": "code",
   "execution_count": 32,
   "metadata": {},
   "outputs": [
    {
     "name": "stdout",
     "output_type": "stream",
     "text": [
      "Requirement already satisfied: numpy in c:\\users\\asus\\appdata\\local\\programs\\python\\python310\\lib\\site-packages (1.23.5)\n",
      "Note: you may need to restart the kernel to use updated packages.\n"
     ]
    },
    {
     "name": "stderr",
     "output_type": "stream",
     "text": [
      "\n",
      "[notice] A new release of pip is available: 23.3.2 -> 24.0\n",
      "[notice] To update, run: python.exe -m pip install --upgrade pip\n"
     ]
    },
    {
     "name": "stdout",
     "output_type": "stream",
     "text": [
      "Requirement already satisfied: scikit-learn in c:\\users\\asus\\appdata\\local\\programs\\python\\python310\\lib\\site-packages (1.4.1.post1)Note: you may need to restart the kernel to use updated packages.\n"
     ]
    },
    {
     "name": "stderr",
     "output_type": "stream",
     "text": [
      "\n",
      "[notice] A new release of pip is available: 23.3.2 -> 24.0\n",
      "[notice] To update, run: python.exe -m pip install --upgrade pip\n"
     ]
    },
    {
     "name": "stdout",
     "output_type": "stream",
     "text": [
      "\n",
      "Requirement already satisfied: numpy<2.0,>=1.19.5 in c:\\users\\asus\\appdata\\local\\programs\\python\\python310\\lib\\site-packages (from scikit-learn) (1.23.5)\n",
      "Requirement already satisfied: scipy>=1.6.0 in c:\\users\\asus\\appdata\\local\\programs\\python\\python310\\lib\\site-packages (from scikit-learn) (1.11.4)\n",
      "Requirement already satisfied: joblib>=1.2.0 in c:\\users\\asus\\appdata\\local\\programs\\python\\python310\\lib\\site-packages (from scikit-learn) (1.3.2)\n",
      "Requirement already satisfied: threadpoolctl>=2.0.0 in c:\\users\\asus\\appdata\\local\\programs\\python\\python310\\lib\\site-packages (from scikit-learn) (3.4.0)\n",
      "Requirement already satisfied: numpy in c:\\users\\asus\\appdata\\local\\programs\\python\\python310\\lib\\site-packages (1.23.5)\n",
      "Note: you may need to restart the kernel to use updated packages.\n"
     ]
    },
    {
     "name": "stderr",
     "output_type": "stream",
     "text": [
      "\n",
      "[notice] A new release of pip is available: 23.3.2 -> 24.0\n",
      "[notice] To update, run: python.exe -m pip install --upgrade pip\n"
     ]
    },
    {
     "name": "stdout",
     "output_type": "stream",
     "text": [
      "Requirement already satisfied: pennylane in c:\\users\\asus\\appdata\\local\\programs\\python\\python310\\lib\\site-packages (0.35.1)\n",
      "Requirement already satisfied: numpy in c:\\users\\asus\\appdata\\local\\programs\\python\\python310\\lib\\site-packages (from pennylane) (1.23.5)\n",
      "Requirement already satisfied: scipy in c:\\users\\asus\\appdata\\local\\programs\\python\\python310\\lib\\site-packages (from pennylane) (1.11.4)\n",
      "Requirement already satisfied: networkx in c:\\users\\asus\\appdata\\local\\programs\\python\\python310\\lib\\site-packages (from pennylane) (3.2.1)\n",
      "Requirement already satisfied: rustworkx in c:\\users\\asus\\appdata\\local\\programs\\python\\python310\\lib\\site-packages (from pennylane) (0.13.2)\n",
      "Requirement already satisfied: autograd in c:\\users\\asus\\appdata\\local\\programs\\python\\python310\\lib\\site-packages (from pennylane) (1.6.2)\n",
      "Requirement already satisfied: toml in c:\\users\\asus\\appdata\\local\\programs\\python\\python310\\lib\\site-packages (from pennylane) (0.10.2)\n",
      "Requirement already satisfied: appdirs in c:\\users\\asus\\appdata\\local\\programs\\python\\python310\\lib\\site-packages (from pennylane) (1.4.4)\n",
      "Requirement already satisfied: semantic-version>=2.7 in c:\\users\\asus\\appdata\\local\\programs\\python\\python310\\lib\\site-packages (from pennylane) (2.10.0)\n",
      "Requirement already satisfied: autoray>=0.6.1 in c:\\users\\asus\\appdata\\local\\programs\\python\\python310\\lib\\site-packages (from pennylane) (0.6.9)\n",
      "Requirement already satisfied: cachetools in c:\\users\\asus\\appdata\\local\\programs\\python\\python310\\lib\\site-packages (from pennylane) (5.3.2)\n",
      "Requirement already satisfied: pennylane-lightning>=0.35 in c:\\users\\asus\\appdata\\local\\programs\\python\\python310\\lib\\site-packages (from pennylane) (0.35.1)\n",
      "Requirement already satisfied: requests in c:\\users\\asus\\appdata\\local\\programs\\python\\python310\\lib\\site-packages (from pennylane) (2.28.1)\n",
      "Requirement already satisfied: typing-extensions in c:\\users\\asus\\appdata\\local\\programs\\python\\python310\\lib\\site-packages (from pennylane) (4.3.0)\n",
      "Requirement already satisfied: future>=0.15.2 in c:\\users\\asus\\appdata\\local\\programs\\python\\python310\\lib\\site-packages (from autograd->pennylane) (1.0.0)\n",
      "Requirement already satisfied: charset-normalizer<3,>=2 in c:\\users\\asus\\appdata\\local\\programs\\python\\python310\\lib\\site-packages (from requests->pennylane) (2.1.0)\n",
      "Requirement already satisfied: idna<4,>=2.5 in c:\\users\\asus\\appdata\\local\\programs\\python\\python310\\lib\\site-packages (from requests->pennylane) (3.3)\n",
      "Requirement already satisfied: urllib3<1.27,>=1.21.1 in c:\\users\\asus\\appdata\\local\\programs\\python\\python310\\lib\\site-packages (from requests->pennylane) (1.26.10)\n",
      "Requirement already satisfied: certifi>=2017.4.17 in c:\\users\\asus\\appdata\\local\\programs\\python\\python310\\lib\\site-packages (from requests->pennylane) (2022.6.15)\n",
      "Note: you may need to restart the kernel to use updated packages.\n"
     ]
    },
    {
     "name": "stderr",
     "output_type": "stream",
     "text": [
      "\n",
      "[notice] A new release of pip is available: 23.3.2 -> 24.0\n",
      "[notice] To update, run: python.exe -m pip install --upgrade pip\n"
     ]
    },
    {
     "name": "stdout",
     "output_type": "stream",
     "text": [
      "Requirement already satisfied: pennylane in c:\\users\\asus\\appdata\\local\\programs\\python\\python310\\lib\\site-packages (0.35.1)\n",
      "Collecting pennylane-qiskit\n",
      "  Downloading PennyLane_qiskit-0.35.1-py3-none-any.whl.metadata (7.6 kB)\n",
      "Requirement already satisfied: numpy in c:\\users\\asus\\appdata\\local\\programs\\python\\python310\\lib\\site-packages (from pennylane) (1.23.5)\n",
      "Requirement already satisfied: scipy in c:\\users\\asus\\appdata\\local\\programs\\python\\python310\\lib\\site-packages (from pennylane) (1.11.4)\n",
      "Requirement already satisfied: networkx in c:\\users\\asus\\appdata\\local\\programs\\python\\python310\\lib\\site-packages (from pennylane) (3.2.1)\n",
      "Requirement already satisfied: rustworkx in c:\\users\\asus\\appdata\\local\\programs\\python\\python310\\lib\\site-packages (from pennylane) (0.13.2)\n",
      "Requirement already satisfied: autograd in c:\\users\\asus\\appdata\\local\\programs\\python\\python310\\lib\\site-packages (from pennylane) (1.6.2)\n",
      "Requirement already satisfied: toml in c:\\users\\asus\\appdata\\local\\programs\\python\\python310\\lib\\site-packages (from pennylane) (0.10.2)\n",
      "Requirement already satisfied: appdirs in c:\\users\\asus\\appdata\\local\\programs\\python\\python310\\lib\\site-packages (from pennylane) (1.4.4)\n",
      "Requirement already satisfied: semantic-version>=2.7 in c:\\users\\asus\\appdata\\local\\programs\\python\\python310\\lib\\site-packages (from pennylane) (2.10.0)\n",
      "Requirement already satisfied: autoray>=0.6.1 in c:\\users\\asus\\appdata\\local\\programs\\python\\python310\\lib\\site-packages (from pennylane) (0.6.9)\n",
      "Requirement already satisfied: cachetools in c:\\users\\asus\\appdata\\local\\programs\\python\\python310\\lib\\site-packages (from pennylane) (5.3.2)\n",
      "Requirement already satisfied: pennylane-lightning>=0.35 in c:\\users\\asus\\appdata\\local\\programs\\python\\python310\\lib\\site-packages (from pennylane) (0.35.1)\n",
      "Requirement already satisfied: requests in c:\\users\\asus\\appdata\\local\\programs\\python\\python310\\lib\\site-packages (from pennylane) (2.28.1)\n",
      "Requirement already satisfied: typing-extensions in c:\\users\\asus\\appdata\\local\\programs\\python\\python310\\lib\\site-packages (from pennylane) (4.3.0)\n",
      "Requirement already satisfied: qiskit>=0.32 in c:\\users\\asus\\appdata\\local\\programs\\python\\python310\\lib\\site-packages (from pennylane-qiskit) (0.45.1)\n",
      "Requirement already satisfied: qiskit-aer in c:\\users\\asus\\appdata\\local\\programs\\python\\python310\\lib\\site-packages (from pennylane-qiskit) (0.13.1)\n",
      "Collecting qiskit-ibm-runtime<0.21 (from pennylane-qiskit)\n",
      "  Downloading qiskit_ibm_runtime-0.20.0-py3-none-any.whl.metadata (18 kB)\n",
      "Requirement already satisfied: qiskit-ibm-provider in c:\\users\\asus\\appdata\\local\\programs\\python\\python310\\lib\\site-packages (from pennylane-qiskit) (0.7.3)\n",
      "Requirement already satisfied: qiskit-terra==0.45.1 in c:\\users\\asus\\appdata\\local\\programs\\python\\python310\\lib\\site-packages (from qiskit>=0.32->pennylane-qiskit) (0.45.1)\n",
      "Requirement already satisfied: ply>=3.10 in c:\\users\\asus\\appdata\\local\\programs\\python\\python310\\lib\\site-packages (from qiskit-terra==0.45.1->qiskit>=0.32->pennylane-qiskit) (3.11)\n",
      "Requirement already satisfied: psutil>=5 in c:\\users\\asus\\appdata\\local\\programs\\python\\python310\\lib\\site-packages (from qiskit-terra==0.45.1->qiskit>=0.32->pennylane-qiskit) (5.9.7)\n",
      "Requirement already satisfied: sympy>=1.3 in c:\\users\\asus\\appdata\\local\\programs\\python\\python310\\lib\\site-packages (from qiskit-terra==0.45.1->qiskit>=0.32->pennylane-qiskit) (1.12)\n",
      "Requirement already satisfied: dill>=0.3 in c:\\users\\asus\\appdata\\local\\programs\\python\\python310\\lib\\site-packages (from qiskit-terra==0.45.1->qiskit>=0.32->pennylane-qiskit) (0.3.7)\n",
      "Requirement already satisfied: python-dateutil>=2.8.0 in c:\\users\\asus\\appdata\\local\\programs\\python\\python310\\lib\\site-packages (from qiskit-terra==0.45.1->qiskit>=0.32->pennylane-qiskit) (2.8.2)\n",
      "Requirement already satisfied: stevedore>=3.0.0 in c:\\users\\asus\\appdata\\local\\programs\\python\\python310\\lib\\site-packages (from qiskit-terra==0.45.1->qiskit>=0.32->pennylane-qiskit) (5.1.0)\n",
      "Requirement already satisfied: requests-ntlm>=1.1.0 in c:\\users\\asus\\appdata\\local\\programs\\python\\python310\\lib\\site-packages (from qiskit-ibm-runtime<0.21->pennylane-qiskit) (1.1.0)\n",
      "Requirement already satisfied: urllib3>=1.21.1 in c:\\users\\asus\\appdata\\local\\programs\\python\\python310\\lib\\site-packages (from qiskit-ibm-runtime<0.21->pennylane-qiskit) (1.26.10)\n",
      "Requirement already satisfied: websocket-client>=1.5.1 in c:\\users\\asus\\appdata\\local\\programs\\python\\python310\\lib\\site-packages (from qiskit-ibm-runtime<0.21->pennylane-qiskit) (1.7.0)\n",
      "Collecting ibm-platform-services>=0.22.6 (from qiskit-ibm-runtime<0.21->pennylane-qiskit)\n",
      "  Downloading ibm-platform-services-0.53.0.tar.gz (317 kB)\n",
      "     ---------------------------------------- 0.0/317.4 kB ? eta -:--:--\n",
      "     ------- ------------------------------- 61.4/317.4 kB 3.2 MB/s eta 0:00:01\n",
      "     ------------------------------------ - 307.2/317.4 kB 3.2 MB/s eta 0:00:01\n",
      "     -------------------------------------- 317.4/317.4 kB 2.5 MB/s eta 0:00:00\n",
      "  Installing build dependencies: started\n",
      "  Installing build dependencies: finished with status 'done'\n",
      "  Getting requirements to build wheel: started\n",
      "  Getting requirements to build wheel: finished with status 'done'\n",
      "  Preparing metadata (pyproject.toml): started\n",
      "  Preparing metadata (pyproject.toml): finished with status 'done'\n",
      "Requirement already satisfied: charset-normalizer<3,>=2 in c:\\users\\asus\\appdata\\local\\programs\\python\\python310\\lib\\site-packages (from requests->pennylane) (2.1.0)\n",
      "Requirement already satisfied: idna<4,>=2.5 in c:\\users\\asus\\appdata\\local\\programs\\python\\python310\\lib\\site-packages (from requests->pennylane) (3.3)\n",
      "Requirement already satisfied: certifi>=2017.4.17 in c:\\users\\asus\\appdata\\local\\programs\\python\\python310\\lib\\site-packages (from requests->pennylane) (2022.6.15)\n",
      "Requirement already satisfied: future>=0.15.2 in c:\\users\\asus\\appdata\\local\\programs\\python\\python310\\lib\\site-packages (from autograd->pennylane) (1.0.0)\n",
      "Requirement already satisfied: websockets>=10.0 in c:\\users\\asus\\appdata\\local\\programs\\python\\python310\\lib\\site-packages (from qiskit-ibm-provider->pennylane-qiskit) (12.0)\n",
      "Collecting ibm-cloud-sdk-core<4.0.0,>=3.19.2 (from ibm-platform-services>=0.22.6->qiskit-ibm-runtime<0.21->pennylane-qiskit)\n",
      "  Downloading ibm-cloud-sdk-core-3.19.2.tar.gz (61 kB)\n",
      "     ---------------------------------------- 0.0/62.0 kB ? eta -:--:--\n",
      "     ---------------------------------------- 62.0/62.0 kB ? eta 0:00:00\n",
      "  Installing build dependencies: started\n",
      "  Installing build dependencies: finished with status 'done'\n",
      "  Getting requirements to build wheel: started\n",
      "  Getting requirements to build wheel: finished with status 'done'\n",
      "  Preparing metadata (pyproject.toml): started\n",
      "  Preparing metadata (pyproject.toml): finished with status 'done'\n",
      "Requirement already satisfied: six>=1.5 in c:\\users\\asus\\appdata\\local\\programs\\python\\python310\\lib\\site-packages (from python-dateutil>=2.8.0->qiskit-terra==0.45.1->qiskit>=0.32->pennylane-qiskit) (1.16.0)\n",
      "Requirement already satisfied: ntlm-auth>=1.0.2 in c:\\users\\asus\\appdata\\local\\programs\\python\\python310\\lib\\site-packages (from requests-ntlm>=1.1.0->qiskit-ibm-runtime<0.21->pennylane-qiskit) (1.5.0)\n",
      "Requirement already satisfied: cryptography>=1.3 in c:\\users\\asus\\appdata\\local\\programs\\python\\python310\\lib\\site-packages (from requests-ntlm>=1.1.0->qiskit-ibm-runtime<0.21->pennylane-qiskit) (41.0.7)\n",
      "Requirement already satisfied: cffi>=1.12 in c:\\users\\asus\\appdata\\local\\programs\\python\\python310\\lib\\site-packages (from cryptography>=1.3->requests-ntlm>=1.1.0->qiskit-ibm-runtime<0.21->pennylane-qiskit) (1.16.0)\n",
      "Collecting requests (from pennylane)\n",
      "  Downloading requests-2.31.0-py3-none-any.whl.metadata (4.6 kB)\n",
      "INFO: pip is looking at multiple versions of ibm-cloud-sdk-core to determine which version is compatible with other requirements. This could take a while.\n",
      "Collecting requests-ntlm>=1.1.0 (from qiskit-ibm-runtime<0.21->pennylane-qiskit)\n",
      "  Downloading requests_ntlm-1.2.0-py3-none-any.whl.metadata (2.4 kB)\n",
      "Collecting ibm-platform-services>=0.22.6 (from qiskit-ibm-runtime<0.21->pennylane-qiskit)\n",
      "  Downloading ibm-platform-services-0.52.0.tar.gz (316 kB)\n",
      "     ---------------------------------------- 0.0/316.3 kB ? eta -:--:--\n",
      "     -------------------------------------- 316.3/316.3 kB 9.9 MB/s eta 0:00:00\n",
      "  Installing build dependencies: started\n",
      "  Installing build dependencies: finished with status 'done'\n",
      "  Getting requirements to build wheel: started\n",
      "  Getting requirements to build wheel: finished with status 'done'\n",
      "  Preparing metadata (pyproject.toml): started\n",
      "  Preparing metadata (pyproject.toml): finished with status 'done'\n",
      "  Downloading ibm-platform-services-0.51.2.tar.gz (315 kB)\n",
      "     ---------------------------------------- 0.0/315.8 kB ? eta -:--:--\n",
      "     -------------------------------------- 315.8/315.8 kB 9.9 MB/s eta 0:00:00\n",
      "  Installing build dependencies: started\n",
      "  Installing build dependencies: finished with status 'done'\n",
      "  Getting requirements to build wheel: started\n",
      "  Getting requirements to build wheel: finished with status 'done'\n",
      "  Preparing metadata (pyproject.toml): started\n",
      "  Preparing metadata (pyproject.toml): finished with status 'done'\n",
      "  Downloading ibm-platform-services-0.51.1.tar.gz (315 kB)\n",
      "     ---------------------------------------- 0.0/315.5 kB ? eta -:--:--\n",
      "     -------------------------------------- - 307.2/315.5 kB ? eta -:--:--\n",
      "     -------------------------------------- 315.5/315.5 kB 9.8 MB/s eta 0:00:00\n",
      "  Installing build dependencies: started\n",
      "  Installing build dependencies: finished with status 'done'\n",
      "  Getting requirements to build wheel: started\n",
      "  Getting requirements to build wheel: finished with status 'done'\n",
      "  Preparing metadata (pyproject.toml): started\n",
      "  Preparing metadata (pyproject.toml): finished with status 'done'\n",
      "Collecting ibm-cloud-sdk-core<4.0.0,>=3.19.1 (from ibm-platform-services>=0.22.6->qiskit-ibm-runtime<0.21->pennylane-qiskit)\n",
      "  Downloading ibm-cloud-sdk-core-3.19.1.tar.gz (59 kB)\n",
      "     ---------------------------------------- 0.0/59.1 kB ? eta -:--:--\n",
      "     ---------------------------------------- 59.1/59.1 kB ? eta 0:00:00\n",
      "  Installing build dependencies: started\n",
      "  Installing build dependencies: finished with status 'done'\n",
      "  Getting requirements to build wheel: started\n",
      "  Getting requirements to build wheel: finished with status 'done'\n",
      "  Preparing metadata (pyproject.toml): started\n",
      "  Preparing metadata (pyproject.toml): finished with status 'done'\n",
      "Collecting ibm-platform-services>=0.22.6 (from qiskit-ibm-runtime<0.21->pennylane-qiskit)\n",
      "  Downloading ibm-platform-services-0.51.0.tar.gz (315 kB)\n",
      "     ---------------------------------------- 0.0/315.1 kB ? eta -:--:--\n",
      "     -------------------------------------- 315.1/315.1 kB 9.8 MB/s eta 0:00:00\n",
      "  Installing build dependencies: started\n",
      "  Installing build dependencies: finished with status 'done'\n",
      "  Getting requirements to build wheel: started\n",
      "  Getting requirements to build wheel: finished with status 'done'\n",
      "  Preparing metadata (pyproject.toml): started\n",
      "  Preparing metadata (pyproject.toml): finished with status 'done'\n",
      "INFO: pip is still looking at multiple versions of ibm-cloud-sdk-core to determine which version is compatible with other requirements. This could take a while.\n",
      "  Downloading ibm-platform-services-0.50.0.tar.gz (308 kB)\n",
      "     ---------------------------------------- 0.0/308.5 kB ? eta -:--:--\n",
      "     ------------------------------------- 308.5/308.5 kB 19.9 MB/s eta 0:00:00\n",
      "  Installing build dependencies: started\n",
      "  Installing build dependencies: finished with status 'done'\n",
      "  Getting requirements to build wheel: started\n",
      "  Getting requirements to build wheel: finished with status 'done'\n",
      "  Preparing metadata (pyproject.toml): started\n",
      "  Preparing metadata (pyproject.toml): finished with status 'done'\n",
      "  Downloading ibm-platform-services-0.49.2.tar.gz (301 kB)\n",
      "     ---------------------------------------- 0.0/301.9 kB ? eta -:--:--\n",
      "     ------------------------------------  297.0/301.9 kB 19.1 MB/s eta 0:00:01\n",
      "     -------------------------------------- 301.9/301.9 kB 6.2 MB/s eta 0:00:00\n",
      "  Installing build dependencies: started\n",
      "  Installing build dependencies: finished with status 'done'\n",
      "  Getting requirements to build wheel: started\n",
      "  Getting requirements to build wheel: finished with status 'done'\n",
      "  Preparing metadata (pyproject.toml): started\n",
      "  Preparing metadata (pyproject.toml): finished with status 'done'\n",
      "Collecting ibm-cloud-sdk-core<4.0.0,>=3.18.2 (from ibm-platform-services>=0.22.6->qiskit-ibm-runtime<0.21->pennylane-qiskit)\n",
      "  Downloading ibm-cloud-sdk-core-3.19.0.tar.gz (58 kB)\n",
      "     ---------------------------------------- 0.0/58.1 kB ? eta -:--:--\n",
      "     ---------------------------------------- 58.1/58.1 kB ? eta 0:00:00\n",
      "  Installing build dependencies: started\n",
      "  Installing build dependencies: finished with status 'done'\n",
      "  Getting requirements to build wheel: started\n",
      "  Getting requirements to build wheel: finished with status 'done'\n",
      "  Preparing metadata (pyproject.toml): started\n",
      "  Preparing metadata (pyproject.toml): finished with status 'done'\n",
      "INFO: This is taking longer than usual. You might need to provide the dependency resolver with stricter constraints to reduce runtime. See https://pip.pypa.io/warnings/backtracking for guidance. If you want to abort this run, press Ctrl + C.\n",
      "  Downloading ibm-cloud-sdk-core-3.18.2.tar.gz (57 kB)\n",
      "     ---------------------------------------- 0.0/57.9 kB ? eta -:--:--\n",
      "     ---------------------------------------- 57.9/57.9 kB 3.2 MB/s eta 0:00:00\n",
      "  Installing build dependencies: started\n",
      "  Installing build dependencies: finished with status 'done'\n",
      "  Getting requirements to build wheel: started\n",
      "  Getting requirements to build wheel: finished with status 'done'\n",
      "  Preparing metadata (pyproject.toml): started\n",
      "  Preparing metadata (pyproject.toml): finished with status 'done'\n",
      "Collecting ibm-platform-services>=0.22.6 (from qiskit-ibm-runtime<0.21->pennylane-qiskit)\n",
      "  Downloading ibm-platform-services-0.49.1.tar.gz (301 kB)\n",
      "     ---------------------------------------- 0.0/301.9 kB ? eta -:--:--\n",
      "     -------------------------------------- 301.9/301.9 kB 9.4 MB/s eta 0:00:00\n",
      "  Installing build dependencies: started\n",
      "  Installing build dependencies: finished with status 'done'\n",
      "  Getting requirements to build wheel: started\n",
      "  Getting requirements to build wheel: finished with status 'done'\n",
      "  Preparing metadata (pyproject.toml): started\n",
      "  Preparing metadata (pyproject.toml): finished with status 'done'\n",
      "  Downloading ibm-platform-services-0.49.0.tar.gz (301 kB)\n",
      "     ---------------------------------------- 0.0/301.9 kB ? eta -:--:--\n",
      "     -------------------------------------- 301.9/301.9 kB 9.1 MB/s eta 0:00:00\n",
      "  Installing build dependencies: started\n",
      "  Installing build dependencies: finished with status 'done'\n",
      "  Getting requirements to build wheel: started\n",
      "  Getting requirements to build wheel: finished with status 'done'\n",
      "  Preparing metadata (pyproject.toml): started\n",
      "  Preparing metadata (pyproject.toml): finished with status 'done'\n",
      "  Downloading ibm-platform-services-0.48.1.tar.gz (300 kB)\n",
      "     ---------------------------------------- 0.0/300.8 kB ? eta -:--:--\n",
      "     ------------------------------------- 300.8/300.8 kB 18.2 MB/s eta 0:00:00\n",
      "  Installing build dependencies: started\n",
      "  Installing build dependencies: finished with status 'done'\n",
      "  Getting requirements to build wheel: started\n",
      "  Getting requirements to build wheel: finished with status 'done'\n",
      "  Preparing metadata (pyproject.toml): started\n",
      "  Preparing metadata (pyproject.toml): finished with status 'done'\n",
      "Collecting ibm-cloud-sdk-core<4.0.0,>=3.18.1 (from ibm-platform-services>=0.22.6->qiskit-ibm-runtime<0.21->pennylane-qiskit)\n",
      "  Downloading ibm-cloud-sdk-core-3.18.1.tar.gz (57 kB)\n",
      "     ---------------------------------------- 0.0/57.9 kB ? eta -:--:--\n",
      "     ---------------------------------------- 57.9/57.9 kB 3.0 MB/s eta 0:00:00\n",
      "  Installing build dependencies: started\n",
      "  Installing build dependencies: finished with status 'done'\n",
      "  Getting requirements to build wheel: started\n",
      "  Getting requirements to build wheel: finished with status 'done'\n",
      "  Preparing metadata (pyproject.toml): started\n",
      "  Preparing metadata (pyproject.toml): finished with status 'done'\n",
      "Collecting ibm-platform-services>=0.22.6 (from qiskit-ibm-runtime<0.21->pennylane-qiskit)\n",
      "  Downloading ibm-platform-services-0.48.0.tar.gz (300 kB)\n",
      "     ---------------------------------------- 0.0/300.8 kB ? eta -:--:--\n",
      "     ------------------------------------- 300.8/300.8 kB 19.4 MB/s eta 0:00:00\n",
      "  Installing build dependencies: started\n",
      "  Installing build dependencies: finished with status 'done'\n",
      "  Getting requirements to build wheel: started\n",
      "  Getting requirements to build wheel: finished with status 'done'\n",
      "  Preparing metadata (pyproject.toml): started\n",
      "  Preparing metadata (pyproject.toml): finished with status 'done'\n",
      "Collecting ibm-cloud-sdk-core<4.0.0,>=3.17.0 (from ibm-platform-services>=0.22.6->qiskit-ibm-runtime<0.21->pennylane-qiskit)\n",
      "  Downloading ibm-cloud-sdk-core-3.18.0.tar.gz (57 kB)\n",
      "     ---------------------------------------- 0.0/57.9 kB ? eta -:--:--\n",
      "     ---------------------------------------- 57.9/57.9 kB 3.2 MB/s eta 0:00:00\n",
      "  Installing build dependencies: started\n",
      "  Installing build dependencies: finished with status 'done'\n",
      "  Getting requirements to build wheel: started\n",
      "  Getting requirements to build wheel: finished with status 'done'\n",
      "  Preparing metadata (pyproject.toml): started\n",
      "  Preparing metadata (pyproject.toml): finished with status 'done'\n",
      "Collecting urllib3>=1.21.1 (from qiskit-ibm-runtime<0.21->pennylane-qiskit)\n",
      "  Downloading urllib3-1.26.18-py2.py3-none-any.whl.metadata (48 kB)\n",
      "     ---------------------------------------- 0.0/48.9 kB ? eta -:--:--\n",
      "     ---------------------------------------- 48.9/48.9 kB 2.4 MB/s eta 0:00:00\n",
      "Requirement already satisfied: PyJWT<3.0.0,>=2.8.0 in c:\\users\\asus\\appdata\\local\\programs\\python\\python310\\lib\\site-packages (from ibm-cloud-sdk-core<4.0.0,>=3.17.0->ibm-platform-services>=0.22.6->qiskit-ibm-runtime<0.21->pennylane-qiskit) (2.8.0)\n",
      "Requirement already satisfied: pbr!=2.1.0,>=2.0.0 in c:\\users\\asus\\appdata\\local\\programs\\python\\python310\\lib\\site-packages (from stevedore>=3.0.0->qiskit-terra==0.45.1->qiskit>=0.32->pennylane-qiskit) (6.0.0)\n",
      "Requirement already satisfied: mpmath>=0.19 in c:\\users\\asus\\appdata\\local\\programs\\python\\python310\\lib\\site-packages (from sympy>=1.3->qiskit-terra==0.45.1->qiskit>=0.32->pennylane-qiskit) (1.3.0)\n",
      "Requirement already satisfied: pycparser in c:\\users\\asus\\appdata\\local\\programs\\python\\python310\\lib\\site-packages (from cffi>=1.12->cryptography>=1.3->requests-ntlm>=1.1.0->qiskit-ibm-runtime<0.21->pennylane-qiskit) (2.21)\n",
      "Downloading PennyLane_qiskit-0.35.1-py3-none-any.whl (37 kB)\n",
      "Downloading qiskit_ibm_runtime-0.20.0-py3-none-any.whl (1.8 MB)\n",
      "   ---------------------------------------- 0.0/1.8 MB ? eta -:--:--\n",
      "   ---------------------- ----------------- 1.0/1.8 MB 64.6 MB/s eta 0:00:01\n",
      "   ---------------------- ----------------- 1.0/1.8 MB 64.6 MB/s eta 0:00:01\n",
      "   ---------------------------------------  1.8/1.8 MB 14.6 MB/s eta 0:00:01\n",
      "   ---------------------------------------- 1.8/1.8 MB 11.7 MB/s eta 0:00:00\n",
      "Downloading requests-2.31.0-py3-none-any.whl (62 kB)\n",
      "   ---------------------------------------- 0.0/62.6 kB ? eta -:--:--\n",
      "   ---------------------------------------- 62.6/62.6 kB 3.3 MB/s eta 0:00:00\n",
      "Downloading urllib3-1.26.18-py2.py3-none-any.whl (143 kB)\n",
      "   ---------------------------------------- 0.0/143.8 kB ? eta -:--:--\n",
      "   ---------------------------------------- 143.8/143.8 kB 4.3 MB/s eta 0:00:00\n",
      "Building wheels for collected packages: ibm-platform-services, ibm-cloud-sdk-core\n",
      "  Building wheel for ibm-platform-services (pyproject.toml): started\n",
      "  Building wheel for ibm-platform-services (pyproject.toml): finished with status 'done'\n",
      "  Created wheel for ibm-platform-services: filename=ibm_platform_services-0.48.0-py3-none-any.whl size=315037 sha256=41fa02e88d29000eb2efa94e791309b767507b4e7616c5128508e4031dbd9484\n",
      "  Stored in directory: c:\\users\\asus\\appdata\\local\\pip\\cache\\wheels\\61\\c9\\b2\\97eaa297a6e49d28a10d90046f9d6e884f9ac75a72d3d5bb41\n",
      "  Building wheel for ibm-cloud-sdk-core (pyproject.toml): started\n",
      "  Building wheel for ibm-cloud-sdk-core (pyproject.toml): finished with status 'done'\n",
      "  Created wheel for ibm-cloud-sdk-core: filename=ibm_cloud_sdk_core-3.18.0-py3-none-any.whl size=94356 sha256=9594432549c61ba6612d1e4ba0485c4bf7532a4ceffa602e730af0a6dad94f01\n",
      "  Stored in directory: c:\\users\\asus\\appdata\\local\\pip\\cache\\wheels\\8c\\2e\\13\\15b9c8e00b275ccb25f4484bccc880f32e4780631a0938a879\n",
      "Successfully built ibm-platform-services ibm-cloud-sdk-core\n",
      "Installing collected packages: urllib3, requests, ibm-cloud-sdk-core, ibm-platform-services, qiskit-ibm-runtime, pennylane-qiskit\n",
      "  Attempting uninstall: urllib3\n",
      "    Found existing installation: urllib3 1.26.10\n",
      "    Uninstalling urllib3-1.26.10:\n",
      "      Successfully uninstalled urllib3-1.26.10\n",
      "  Attempting uninstall: requests\n",
      "    Found existing installation: requests 2.28.1\n",
      "    Uninstalling requests-2.28.1:\n",
      "      Successfully uninstalled requests-2.28.1\n",
      "Successfully installed ibm-cloud-sdk-core-3.18.0 ibm-platform-services-0.48.0 pennylane-qiskit-0.35.1 qiskit-ibm-runtime-0.20.0 requests-2.31.0 urllib3-1.26.18\n",
      "Note: you may need to restart the kernel to use updated packages.\n"
     ]
    },
    {
     "name": "stderr",
     "output_type": "stream",
     "text": [
      "\n",
      "[notice] A new release of pip is available: 23.3.2 -> 24.0\n",
      "[notice] To update, run: python.exe -m pip install --upgrade pip\n"
     ]
    }
   ],
   "source": [
    "%pip install numpy\n",
    "%pip install scikit-learn\n",
    "%pip install numpy\n",
    "%pip install pennylane\n",
    "%pip install pennylane pennylane-qiskit"
   ]
  },
  {
   "cell_type": "code",
   "execution_count": 33,
   "metadata": {},
   "outputs": [],
   "source": [
    "import numpy as np\n",
    "import pennylane as qml\n",
    "\n",
    "from sklearn.datasets import load_wine\n",
    "from sklearn.model_selection import train_test_split\n",
    "from sklearn.preprocessing import MaxAbsScaler\n",
    "from sklearn.svm import SVC\n",
    "from sklearn.metrics import accuracy_score\n",
    "from sklearn.metrics import classification_report\n",
    "\n",
    "seed = 1234\n",
    "np.random.seed(seed)"
   ]
  },
  {
   "cell_type": "code",
   "execution_count": 34,
   "metadata": {},
   "outputs": [],
   "source": [
    "import numpy as np\n",
    "\n",
    "\n",
    "class Perceptron:\n",
    "    def __init__(self, learning_rate, epochs):\n",
    "        self.weights = None\n",
    "        self.bias = None\n",
    "        self.learning_rate = learning_rate\n",
    "        self.epochs = epochs\n",
    "\n",
    "    # heaviside activation function\n",
    "    def activation(self, z):\n",
    "        return np.heaviside(z, 0)  # haviside(z) heaviside -> activation\n",
    "\n",
    "    def fit(self, X, y):\n",
    "        n_features = X.shape[1]\n",
    "\n",
    "        # Initializing weights and bias\n",
    "        self.weights = np.zeros((n_features))\n",
    "        self.bias = 0\n",
    "\n",
    "        # Iterating until the number of epochs\n",
    "        for _ in range(self.epochs):\n",
    "\n",
    "            # Traversing through the entire training set\n",
    "            for i in range(len(X)):\n",
    "                z = (\n",
    "                    np.dot(X, self.weights) + self.bias\n",
    "                )  # Finding the dot product and adding the bias\n",
    "                y_pred = self.activation(z)  # Passing through an activation function\n",
    "\n",
    "                # Updating weights and bias\n",
    "                self.weights = (\n",
    "                    self.weights + self.learning_rate * (y[i] - y_pred[i]) * X[i]\n",
    "                )\n",
    "                self.bias = self.bias + self.learning_rate * (y[i] - y_pred[i])\n",
    "\n",
    "        return self.weights, self.bias\n",
    "\n",
    "    def predict(self, X):\n",
    "        z = np.dot(X, self.weights) + self.bias\n",
    "        return self.activation(z)"
   ]
  },
  {
   "cell_type": "code",
   "execution_count": 35,
   "metadata": {},
   "outputs": [],
   "source": [
    "x, y = load_wine(return_X_y=True)\n",
    "\n",
    "x = x[: 59 + 71]\n",
    "y = y[: 59 + 71]\n",
    "\n",
    "x_train, x_test, y_train, y_test = train_test_split(x, y, train_size=0.9)"
   ]
  },
  {
   "cell_type": "code",
   "execution_count": 36,
   "metadata": {},
   "outputs": [
    {
     "data": {
      "text/plain": [
       "0.6153846153846154"
      ]
     },
     "execution_count": 36,
     "metadata": {},
     "output_type": "execute_result"
    }
   ],
   "source": [
    "perceptron = Perceptron(0.001, 100)\n",
    "perceptron.fit(x_train, y_train)\n",
    "pred = perceptron.predict(x_test)\n",
    "\n",
    "accuracy_score(pred, y_test)"
   ]
  },
  {
   "cell_type": "code",
   "execution_count": 37,
   "metadata": {},
   "outputs": [
    {
     "name": "stdout",
     "output_type": "stream",
     "text": [
      "              precision    recall  f1-score   support\n",
      "\n",
      "         0.0       1.00      0.55      0.71        11\n",
      "         1.0       0.29      1.00      0.44         2\n",
      "\n",
      "    accuracy                           0.62        13\n",
      "   macro avg       0.64      0.77      0.58        13\n",
      "weighted avg       0.89      0.62      0.67        13\n",
      "\n"
     ]
    }
   ],
   "source": [
    "report = classification_report(pred, y_test, digits=2)\n",
    "print(report)"
   ]
  },
  {
   "cell_type": "code",
   "execution_count": 38,
   "metadata": {},
   "outputs": [],
   "source": [
    "scaler = MaxAbsScaler()\n",
    "x_train = scaler.fit_transform(x_train)\n",
    "\n",
    "x_test = scaler.transform(x_test)\n",
    "x_test = np.clip(x_test, 0, 1)"
   ]
  },
  {
   "cell_type": "code",
   "execution_count": 39,
   "metadata": {},
   "outputs": [],
   "source": [
    "nqubits = 4\n",
    "dev = qml.device(\"qiskit.aer\", wires=nqubits)\n",
    "\n",
    "\n",
    "@qml.qnode(dev)\n",
    "def kernel_circ(a, b):\n",
    "    # AmplitudeEmbedding returns an operation equivalent to the amplitude encoding of its first argument.\n",
    "    # We also ask AmplitudeEmbedding to normalize each input vector for us, just as amplitude encoding\n",
    "    # needs us to do, and, since our arrays have 13 elements instead of the required 16,\n",
    "    # we set pad_with = 0 to fill the remaining values with zeros.\n",
    "    qml.AmplitudeEmbedding(a, wires=range(nqubits), pad_with=0, normalize=True)\n",
    "\n",
    "    # Also notice that we are using qml.adjoint to compute the\n",
    "    # adjoint (or inverse) of the amplitude encoding of b\n",
    "    qml.adjoint(\n",
    "        qml.AmplitudeEmbedding(b, wires=range(nqubits), pad_with=0, normalize=True)\n",
    "    )\n",
    "\n",
    "    # We retrieve an array with the probabilities of measuring each possible state in the\n",
    "    # computational basis. The first element of this array (that is, the probability of getting a\n",
    "    # zero value in all the qubits) will be the output of our kernel.\n",
    "    return qml.probs(wires=range(nqubits))"
   ]
  },
  {
   "cell_type": "code",
   "execution_count": 40,
   "metadata": {},
   "outputs": [
    {
     "name": "stderr",
     "output_type": "stream",
     "text": [
      "c:\\Users\\Asus\\AppData\\Local\\Programs\\Python\\Python310\\lib\\site-packages\\qiskit\\visualization\\circuit\\matplotlib.py:266: FutureWarning: The default matplotlib drawer scheme will be changed to \"iqp\" in a following release. To silence this warning, specify the current default explicitly as style=\"clifford\", or the new default as style=\"iqp\".\n",
      "  self._style, def_font_ratio = load_style(self._style)\n"
     ]
    },
    {
     "data": {
      "image/png": "[encoded data removed]",
      "text/plain": [
       "<Figure size 162.08x451.5 with 1 Axes>"
      ]
     },
     "execution_count": 40,
     "metadata": {},
     "output_type": "execute_result"
    }
   ],
   "source": [
    "dev._circuit.draw(output=\"mpl\")"
   ]
  },
  {
   "cell_type": "code",
   "execution_count": 43,
   "metadata": {},
   "outputs": [
    {
     "ename": "ValueError",
     "evalue": "Features must be a one-dimensional tensor, or two-dimensional with batching; got shape ().",
     "output_type": "error",
     "traceback": [
      "\u001b[1;31m---------------------------------------------------------------------------\u001b[0m",
      "\u001b[1;31mValueError\u001b[0m                                Traceback (most recent call last)",
      "Cell \u001b[1;32mIn[43], line 11\u001b[0m\n\u001b[0;32m      8\u001b[0m \u001b[38;5;66;03m# Iterate over elements of B\u001b[39;00m\n\u001b[0;32m      9\u001b[0m \u001b[38;5;28;01mfor\u001b[39;00m b \u001b[38;5;129;01min\u001b[39;00m y_train:\n\u001b[0;32m     10\u001b[0m     \u001b[38;5;66;03m# Apply kernel_circ(a, b) and append result to temp\u001b[39;00m\n\u001b[1;32m---> 11\u001b[0m     kernel \u001b[38;5;241m=\u001b[39m \u001b[43mkernel_circ\u001b[49m\u001b[43m(\u001b[49m\u001b[43ma\u001b[49m\u001b[43m,\u001b[49m\u001b[43m \u001b[49m\u001b[43mb\u001b[49m\u001b[43m)\u001b[49m[\u001b[38;5;241m0\u001b[39m]\n\u001b[0;32m     12\u001b[0m     temp\u001b[38;5;241m.\u001b[39mappend(kernel)\n\u001b[0;32m     13\u001b[0m     \u001b[38;5;28mprint\u001b[39m(\u001b[38;5;124mf\u001b[39m\u001b[38;5;124m'\u001b[39m\u001b[38;5;124mKernel of \u001b[39m\u001b[38;5;132;01m{\u001b[39;00ma\u001b[38;5;132;01m}\u001b[39;00m\u001b[38;5;124m and \u001b[39m\u001b[38;5;132;01m{\u001b[39;00mb\u001b[38;5;132;01m}\u001b[39;00m\u001b[38;5;124m is \u001b[39m\u001b[38;5;132;01m{\u001b[39;00mkernel\u001b[38;5;132;01m}\u001b[39;00m\u001b[38;5;124m'\u001b[39m)\n",
      "File \u001b[1;32mc:\\Users\\Asus\\AppData\\Local\\Programs\\Python\\Python310\\lib\\site-packages\\pennylane\\workflow\\qnode.py:1002\u001b[0m, in \u001b[0;36mQNode.__call__\u001b[1;34m(self, *args, **kwargs)\u001b[0m\n\u001b[0;32m    999\u001b[0m         kwargs[\u001b[38;5;124m\"\u001b[39m\u001b[38;5;124mshots\u001b[39m\u001b[38;5;124m\"\u001b[39m] \u001b[38;5;241m=\u001b[39m _get_device_shots(\u001b[38;5;28mself\u001b[39m\u001b[38;5;241m.\u001b[39m_original_device)\n\u001b[0;32m   1001\u001b[0m \u001b[38;5;66;03m# construct the tape\u001b[39;00m\n\u001b[1;32m-> 1002\u001b[0m \u001b[38;5;28;43mself\u001b[39;49m\u001b[38;5;241;43m.\u001b[39;49m\u001b[43mconstruct\u001b[49m\u001b[43m(\u001b[49m\u001b[43margs\u001b[49m\u001b[43m,\u001b[49m\u001b[43m \u001b[49m\u001b[43mkwargs\u001b[49m\u001b[43m)\u001b[49m\n\u001b[0;32m   1004\u001b[0m cache \u001b[38;5;241m=\u001b[39m \u001b[38;5;28mself\u001b[39m\u001b[38;5;241m.\u001b[39mexecute_kwargs\u001b[38;5;241m.\u001b[39mget(\u001b[38;5;124m\"\u001b[39m\u001b[38;5;124mcache\u001b[39m\u001b[38;5;124m\"\u001b[39m, \u001b[38;5;28;01mFalse\u001b[39;00m)\n\u001b[0;32m   1005\u001b[0m using_custom_cache \u001b[38;5;241m=\u001b[39m (\n\u001b[0;32m   1006\u001b[0m     \u001b[38;5;28mhasattr\u001b[39m(cache, \u001b[38;5;124m\"\u001b[39m\u001b[38;5;124m__getitem__\u001b[39m\u001b[38;5;124m\"\u001b[39m)\n\u001b[0;32m   1007\u001b[0m     \u001b[38;5;129;01mand\u001b[39;00m \u001b[38;5;28mhasattr\u001b[39m(cache, \u001b[38;5;124m\"\u001b[39m\u001b[38;5;124m__setitem__\u001b[39m\u001b[38;5;124m\"\u001b[39m)\n\u001b[0;32m   1008\u001b[0m     \u001b[38;5;129;01mand\u001b[39;00m \u001b[38;5;28mhasattr\u001b[39m(cache, \u001b[38;5;124m\"\u001b[39m\u001b[38;5;124m__delitem__\u001b[39m\u001b[38;5;124m\"\u001b[39m)\n\u001b[0;32m   1009\u001b[0m )\n",
      "File \u001b[1;32mc:\\Users\\Asus\\AppData\\Local\\Programs\\Python\\Python310\\lib\\site-packages\\pennylane\\workflow\\qnode.py:888\u001b[0m, in \u001b[0;36mQNode.construct\u001b[1;34m(self, args, kwargs)\u001b[0m\n\u001b[0;32m    885\u001b[0m     \u001b[38;5;28mself\u001b[39m\u001b[38;5;241m.\u001b[39minterface \u001b[38;5;241m=\u001b[39m qml\u001b[38;5;241m.\u001b[39mmath\u001b[38;5;241m.\u001b[39mget_interface(\u001b[38;5;241m*\u001b[39margs, \u001b[38;5;241m*\u001b[39m\u001b[38;5;28mlist\u001b[39m(kwargs\u001b[38;5;241m.\u001b[39mvalues()))\n\u001b[0;32m    887\u001b[0m \u001b[38;5;28;01mwith\u001b[39;00m qml\u001b[38;5;241m.\u001b[39mqueuing\u001b[38;5;241m.\u001b[39mAnnotatedQueue() \u001b[38;5;28;01mas\u001b[39;00m q:\n\u001b[1;32m--> 888\u001b[0m     \u001b[38;5;28mself\u001b[39m\u001b[38;5;241m.\u001b[39m_qfunc_output \u001b[38;5;241m=\u001b[39m \u001b[38;5;28mself\u001b[39m\u001b[38;5;241m.\u001b[39mfunc(\u001b[38;5;241m*\u001b[39margs, \u001b[38;5;241m*\u001b[39m\u001b[38;5;241m*\u001b[39mkwargs)\n\u001b[0;32m    890\u001b[0m \u001b[38;5;28mself\u001b[39m\u001b[38;5;241m.\u001b[39m_tape \u001b[38;5;241m=\u001b[39m QuantumScript\u001b[38;5;241m.\u001b[39mfrom_queue(q, shots)\n\u001b[0;32m    892\u001b[0m params \u001b[38;5;241m=\u001b[39m \u001b[38;5;28mself\u001b[39m\u001b[38;5;241m.\u001b[39mtape\u001b[38;5;241m.\u001b[39mget_parameters(trainable_only\u001b[38;5;241m=\u001b[39m\u001b[38;5;28;01mFalse\u001b[39;00m)\n",
      "Cell \u001b[1;32mIn[39], line 14\u001b[0m, in \u001b[0;36mkernel_circ\u001b[1;34m(a, b)\u001b[0m\n\u001b[0;32m     10\u001b[0m qml\u001b[38;5;241m.\u001b[39mAmplitudeEmbedding(a, wires\u001b[38;5;241m=\u001b[39m\u001b[38;5;28mrange\u001b[39m(nqubits), pad_with\u001b[38;5;241m=\u001b[39m\u001b[38;5;241m0\u001b[39m, normalize\u001b[38;5;241m=\u001b[39m\u001b[38;5;28;01mTrue\u001b[39;00m)\n\u001b[0;32m     12\u001b[0m \u001b[38;5;66;03m# Also notice that we are using qml.adjoint to compute the\u001b[39;00m\n\u001b[0;32m     13\u001b[0m \u001b[38;5;66;03m# adjoint (or inverse) of the amplitude encoding of b\u001b[39;00m\n\u001b[1;32m---> 14\u001b[0m qml\u001b[38;5;241m.\u001b[39madjoint(\u001b[43mqml\u001b[49m\u001b[38;5;241;43m.\u001b[39;49m\u001b[43mAmplitudeEmbedding\u001b[49m\u001b[43m(\u001b[49m\u001b[43mb\u001b[49m\u001b[43m,\u001b[49m\u001b[43m \u001b[49m\u001b[43mwires\u001b[49m\u001b[38;5;241;43m=\u001b[39;49m\u001b[38;5;28;43mrange\u001b[39;49m\u001b[43m(\u001b[49m\u001b[43mnqubits\u001b[49m\u001b[43m)\u001b[49m\u001b[43m,\u001b[49m\u001b[43m \u001b[49m\u001b[43mpad_with\u001b[49m\u001b[38;5;241;43m=\u001b[39;49m\u001b[38;5;241;43m0\u001b[39;49m\u001b[43m,\u001b[49m\u001b[43m \u001b[49m\u001b[43mnormalize\u001b[49m\u001b[38;5;241;43m=\u001b[39;49m\u001b[38;5;28;43;01mTrue\u001b[39;49;00m\u001b[43m)\u001b[49m)\n\u001b[0;32m     16\u001b[0m \u001b[38;5;66;03m# We retrieve an array with the probabilities of measuring each possible state in the\u001b[39;00m\n\u001b[0;32m     17\u001b[0m \u001b[38;5;66;03m# computational basis. The first element of this array (that is, the probability of getting a\u001b[39;00m\n\u001b[0;32m     18\u001b[0m \u001b[38;5;66;03m# zero value in all the qubits) will be the output of our kernel.\u001b[39;00m\n\u001b[0;32m     19\u001b[0m \u001b[38;5;28;01mreturn\u001b[39;00m qml\u001b[38;5;241m.\u001b[39mprobs(wires \u001b[38;5;241m=\u001b[39m \u001b[38;5;28mrange\u001b[39m(nqubits))\n",
      "File \u001b[1;32mc:\\Users\\Asus\\AppData\\Local\\Programs\\Python\\Python310\\lib\\site-packages\\pennylane\\templates\\embeddings\\amplitude.py:125\u001b[0m, in \u001b[0;36mAmplitudeEmbedding.__init__\u001b[1;34m(self, features, wires, pad_with, normalize, id)\u001b[0m\n\u001b[0;32m    123\u001b[0m \u001b[38;5;28mself\u001b[39m\u001b[38;5;241m.\u001b[39mpad_with \u001b[38;5;241m=\u001b[39m pad_with\n\u001b[0;32m    124\u001b[0m \u001b[38;5;28mself\u001b[39m\u001b[38;5;241m.\u001b[39mnormalize \u001b[38;5;241m=\u001b[39m normalize\n\u001b[1;32m--> 125\u001b[0m features \u001b[38;5;241m=\u001b[39m \u001b[38;5;28;43mself\u001b[39;49m\u001b[38;5;241;43m.\u001b[39;49m\u001b[43m_preprocess\u001b[49m\u001b[43m(\u001b[49m\u001b[43mfeatures\u001b[49m\u001b[43m,\u001b[49m\u001b[43m \u001b[49m\u001b[43mwires\u001b[49m\u001b[43m,\u001b[49m\u001b[43m \u001b[49m\u001b[43mpad_with\u001b[49m\u001b[43m,\u001b[49m\u001b[43m \u001b[49m\u001b[43mnormalize\u001b[49m\u001b[43m)\u001b[49m\n\u001b[0;32m    126\u001b[0m \u001b[38;5;28msuper\u001b[39m(StatePrep, \u001b[38;5;28mself\u001b[39m)\u001b[38;5;241m.\u001b[39m\u001b[38;5;21m__init__\u001b[39m(features, wires\u001b[38;5;241m=\u001b[39mwires, \u001b[38;5;28mid\u001b[39m\u001b[38;5;241m=\u001b[39m\u001b[38;5;28mid\u001b[39m)\n",
      "File \u001b[1;32mc:\\Users\\Asus\\AppData\\Local\\Programs\\Python\\Python310\\lib\\site-packages\\pennylane\\templates\\embeddings\\amplitude.py:172\u001b[0m, in \u001b[0;36mAmplitudeEmbedding._preprocess\u001b[1;34m(features, wires, pad_with, normalize)\u001b[0m\n\u001b[0;32m    170\u001b[0m \u001b[38;5;66;03m# check shape\u001b[39;00m\n\u001b[0;32m    171\u001b[0m \u001b[38;5;28;01mif\u001b[39;00m \u001b[38;5;28mlen\u001b[39m(shape) \u001b[38;5;129;01mnot\u001b[39;00m \u001b[38;5;129;01min\u001b[39;00m (\u001b[38;5;241m1\u001b[39m, \u001b[38;5;241m2\u001b[39m):\n\u001b[1;32m--> 172\u001b[0m     \u001b[38;5;28;01mraise\u001b[39;00m \u001b[38;5;167;01mValueError\u001b[39;00m(\n\u001b[0;32m    173\u001b[0m         \u001b[38;5;124mf\u001b[39m\u001b[38;5;124m\"\u001b[39m\u001b[38;5;124mFeatures must be a one-dimensional tensor, or two-dimensional with batching; got shape \u001b[39m\u001b[38;5;132;01m{\u001b[39;00mshape\u001b[38;5;132;01m}\u001b[39;00m\u001b[38;5;124m.\u001b[39m\u001b[38;5;124m\"\u001b[39m\n\u001b[0;32m    174\u001b[0m     )\n\u001b[0;32m    176\u001b[0m n_features \u001b[38;5;241m=\u001b[39m shape[\u001b[38;5;241m-\u001b[39m\u001b[38;5;241m1\u001b[39m]\n\u001b[0;32m    177\u001b[0m dim \u001b[38;5;241m=\u001b[39m \u001b[38;5;241m2\u001b[39m \u001b[38;5;241m*\u001b[39m\u001b[38;5;241m*\u001b[39m \u001b[38;5;28mlen\u001b[39m(wires)\n",
      "\u001b[1;31mValueError\u001b[0m: Features must be a one-dimensional tensor, or two-dimensional with batching; got shape ()."
     ]
    }
   ],
   "source": [
    "# Initialize an empty list to store results\n",
    "result = []\n",
    "\n",
    "for a in x_train:\n",
    "    # Initialize an empty list to store results for current value of a\n",
    "    temp = []\n",
    "\n",
    "    # Iterate over elements of B\n",
    "    for b in y_train:\n",
    "        # Apply kernel_circ(a, b) and append result to temp\n",
    "        kernel = kernel_circ(a, b)[0]\n",
    "        temp.append(kernel)\n",
    "        print(f\"Kernel of {a} and {b} is {kernel}\")\n",
    "\n",
    "    # Append temp to result\n",
    "    result.append(temp)\n",
    "\n",
    "# Convert result to a NumPy array\n",
    "result_array = np.array(result)"
   ]
  },
  {
   "cell_type": "code",
   "execution_count": 41,
   "metadata": {},
   "outputs": [
    {
     "name": "stdout",
     "output_type": "stream",
     "text": [
      "0.9230769230769231\n"
     ]
    }
   ],
   "source": [
    "def qkernel(A, B):\n",
    "    return np.array([[kernel_circ(a, b)[0] for b in B] for a in A])\n",
    "\n",
    "\n",
    "svm = SVC(kernel=qkernel).fit(x_train, y_train)\n",
    "pred = svm.predict(x_test)\n",
    "print(accuracy_score(pred, y_test))"
   ]
  },
  {
   "cell_type": "code",
   "execution_count": 42,
   "metadata": {},
   "outputs": [
    {
     "name": "stdout",
     "output_type": "stream",
     "text": [
      "              precision    recall  f1-score   support\n",
      "\n",
      "           0       1.00      0.86      0.92         7\n",
      "           1       0.86      1.00      0.92         6\n",
      "\n",
      "    accuracy                           0.92        13\n",
      "   macro avg       0.93      0.93      0.92        13\n",
      "weighted avg       0.93      0.92      0.92        13\n",
      "\n"
     ]
    }
   ],
   "source": [
    "report = classification_report(pred, y_test, digits=2)\n",
    "print(report)"
   ]
  }
 ],
 "metadata": {
  "kernelspec": {
   "display_name": "Python 3",
   "language": "python",
   "name": "python3"
  },
  "language_info": {
   "codemirror_mode": {
    "name": "ipython",
    "version": 3
   },
   "file_extension": ".py",
   "mimetype": "text/x-python",
   "name": "python",
   "nbconvert_exporter": "python",
   "pygments_lexer": "ipython3",
   "version": "3.10.8"
  }
 },
 "nbformat": 4,
 "nbformat_minor": 2
}
