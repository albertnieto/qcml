{
 "cells": [
  {
   "cell_type": "markdown",
   "id": "6eWgO1cP1kHW",
   "metadata": {
    "id": "6eWgO1cP1kHW"
   },
   "source": [
    "## Notebook Information\n",
    "\n",
    "**Master in Quantum Computing - UNIR**\n",
    "\n",
    "**Subject:** Algebra in Quantum Computing\n",
    "\n",
    "**Notebook Activity by:** Albert Nieto Morales\n",
    "\n",
    "**Date:** 2023-12-15\n",
    "\n",
    "---\n",
    "\n",
    "*Note: This notebook is part of the Master's program in Quantum Computing at UNIR. The content focuses on Quantum Computing and was created by Albert Nieto. Please refer to the date for the latest update.*\n"
   ]
  },
  {
   "cell_type": "markdown",
   "id": "d4e01edf-fa31-4c93-a4f3-bd05642d4806",
   "metadata": {
    "id": "d4e01edf-fa31-4c93-a4f3-bd05642d4806",
    "tags": []
   },
   "source": [
    "# Librerias y enunciados"
   ]
  },
  {
   "cell_type": "markdown",
   "id": "a25bf6f0-29e8-4691-be32-0f6947d418f4",
   "metadata": {
    "id": "a25bf6f0-29e8-4691-be32-0f6947d418f4",
    "tags": []
   },
   "source": [
    "## Librerias"
   ]
  },
  {
   "cell_type": "markdown",
   "id": "2c9a2497-252e-4dd3-ae86-42c8ef3238f6",
   "metadata": {
    "id": "2c9a2497-252e-4dd3-ae86-42c8ef3238f6"
   },
   "source": [
    "Las librerías que se van a utilizar son:\n",
    "\n",
    "- NumPy: Biblioteca fundamental de Python para computación numérica y manipulación de arrays multidimensionales. Proporciona funciones y herramientas para realizar operaciones matemáticas complejas de manera eficiente.\n",
    "\n",
    "- math: Módulo incorporado de Python que ofrece funciones matemáticas estándar para operaciones con números reales, como trigonometría, álgebra, funciones exponenciales y logaritmos.\n",
    "\n",
    "- cmath: Módulo incorporado de Python que proporciona funciones matemáticas para operaciones con números complejos, incluyendo cálculo del valor absoluto, fase, exponenciación, logaritmos y otras operaciones específicas para números complejos.\n",
    "\n",
    "- Qiskit: conjunto de herramientas de código abierto desarrollado por IBM para trabajar con computación cuántica en Python. Permite la creación, manipulación y ejecución de circuitos cuánticos, así como la simulación y conexión con procesadores cuánticos reales disponibles en la nube. Qiskit facilita la programación y experimentación en el campo emergente de la computación cuántica."
   ]
  },
  {
   "cell_type": "code",
   "execution_count": null,
   "id": "pAq7rCNpInc9",
   "metadata": {
    "id": "pAq7rCNpInc9"
   },
   "outputs": [],
   "source": [
    "%pip install qiskit\n",
    "%pip install qiskit-ibmq-provider\n",
    "%pip install qiskit-aer"
   ]
  },
  {
   "cell_type": "code",
   "execution_count": null,
   "id": "9dab389e-3674-47e1-901d-81a26bf9f874",
   "metadata": {
    "id": "9dab389e-3674-47e1-901d-81a26bf9f874",
    "tags": []
   },
   "outputs": [],
   "source": [
    "# Importing standard Qiskit libraries\n",
    "from qiskit import IBMQ, QuantumCircuit, transpile, Aer\n",
    "from qiskit.tools.jupyter import *\n",
    "from qiskit.visualization import *\n",
    "\n",
    "# Importing matplotlib\n",
    "import matplotlib.pyplot as plt\n",
    "\n",
    "# Importing Numpy, Cmath and math\n",
    "import numpy as np\n",
    "import cmath\n",
    "\n",
    "# Other imports\n",
    "from IPython.display import display, Math, Latex\n",
    "from itertools import product\n",
    "\n",
    "# Configuramos en Numpy que los números complejos se muestren con dos decimales\n",
    "np.set_printoptions(precision=3)\n",
    "\n",
    "# Loading your IBM Quantum account(s)\n",
    "IBMQ.save_account(\"\")\n",
    "\n",
    "# Load your account information. (You need to run IBMQ.save_account beforehand. If you want to use multiple accounts, do it here)\n",
    "provider = IBMQ.load_account()\n",
    "\n",
    "# Run the quantum circuit on a statevector simulator backend\n",
    "backend = Aer.get_backend(\"statevector_simulator\")"
   ]
  },
  {
   "cell_type": "markdown",
   "id": "5b3370fe-d739-4d1c-8aa4-10f9d5636dfe",
   "metadata": {
    "id": "5b3370fe-d739-4d1c-8aa4-10f9d5636dfe"
   },
   "source": [
    "## Enunciado\n",
    "\n",
    "La actividad consiste en familiarizarse con el entorno de Python y con librerías como Numpy. Adicionalmente, usaremos Qiskit, una de las herramientas para la computación cuántica, por lo que la actividad se dividirá en dos partes:\n",
    "\n",
    "- La primera, en la que hacemos uso de NumPy.\n",
    "- La segunda, en la que, además, utilizaremos Qiskit.\n",
    "\n",
    "Para ello vamos a realizar las operaciones que se han aprendido hasta el momento durante la primera parte del curso, entre ellas: identificar una matriz normal, hermitiana, unitaria y el producto tensorial entre matrices y vectores.\n",
    "\n",
    "Considere las siguientes matrices:"
   ]
  },
  {
   "cell_type": "code",
   "execution_count": 3,
   "id": "77e60167-0c41-45e8-ae58-5e1b30338f4c",
   "metadata": {
    "id": "77e60167-0c41-45e8-ae58-5e1b30338f4c"
   },
   "outputs": [],
   "source": [
    "A = np.array([[9j, 2 + 1j, 6 - 2j], [-2 + 1j, 4j, -7 + 7j], [-6 - 2j, 7 + 7j, -2j]])\n",
    "\n",
    "B = np.array(\n",
    "    [[1 + 1j, 1 + 2j, 1 + 3j], [2 + 1j, 2 + 2j, 3 + 3j], [3 + 1j, 3 + 2j, 3 + 3j]]\n",
    ")\n",
    "\n",
    "C = np.array(\n",
    "    [\n",
    "        [2j, 1 + 1j, 4 + 1j, -2j],\n",
    "        [-1 + 1j, 3j, 4 + 7j, 1 - 1j],\n",
    "        [-4 + 1j, -4 + 7j, -9j, 3 - 4j],\n",
    "        [-2j, -1 - 1j, -3 - 4j, 5j],\n",
    "    ]\n",
    ")\n",
    "\n",
    "D = np.array([[1j, 0], [0, 3 - 5j]])"
   ]
  },
  {
   "cell_type": "markdown",
   "id": "0218cd87-53d1-4ec8-8602-54e316d432d0",
   "metadata": {
    "id": "0218cd87-53d1-4ec8-8602-54e316d432d0",
    "tags": []
   },
   "source": [
    "# *Ejercicio 1*:\n",
    "Utiliza la librería de Numpy, junto con los módulos Cmath y math, y obtén:"
   ]
  },
  {
   "cell_type": "markdown",
   "id": "d1f4255c-a098-4c9d-90d7-9a9f656d4984",
   "metadata": {
    "id": "d1f4255c-a098-4c9d-90d7-9a9f656d4984",
    "tags": []
   },
   "source": [
    "## Punto 1:\n",
    "Forma polar de cada uno de los determinantes y de la traza de cada matriz."
   ]
  },
  {
   "cell_type": "markdown",
   "id": "94ce7da3-4052-42de-aed2-acc664fa2644",
   "metadata": {
    "id": "94ce7da3-4052-42de-aed2-acc664fa2644",
    "tags": []
   },
   "source": [
    "### Calcular el determinante de una matriz\n",
    "Para calcular el determinante de una matriz, podemos utilizar la función det() de la librería numpy.linalg:"
   ]
  },
  {
   "cell_type": "code",
   "execution_count": 4,
   "id": "ae3d57bd-27f4-4b7a-b0b7-070c5dcaf6e6",
   "metadata": {
    "id": "ae3d57bd-27f4-4b7a-b0b7-070c5dcaf6e6",
    "tags": []
   },
   "outputs": [],
   "source": [
    "det_A = np.linalg.det(A)\n",
    "det_B = np.linalg.det(B)\n",
    "det_C = np.linalg.det(C)\n",
    "det_D = np.linalg.det(D)"
   ]
  },
  {
   "cell_type": "code",
   "execution_count": 5,
   "id": "a5c26970-7996-49b5-9068-2d53d82a2946",
   "metadata": {
    "colab": {
     "base_uri": "https://localhost:8080/",
     "height": 0
    },
    "id": "a5c26970-7996-49b5-9068-2d53d82a2946",
    "outputId": "bb0d3625-3d05-40e8-8619-5fa5c95c420f",
    "tags": []
   },
   "outputs": [
    {
     "name": "stdout",
     "output_type": "stream",
     "text": [
      "Determinante de A: (-6.128431095930863e-14+1103.9999999999998j)\n",
      "Determinante de B: (-7.771561172376097e-16+1.9999999999999996j)\n",
      "Determinante de C: (-409.0000000000003-3.175237850427949e-14j)\n",
      "Determinante de D: (5+3j)\n"
     ]
    }
   ],
   "source": [
    "print(f\"Determinante de A: {det_A}\")\n",
    "print(f\"Determinante de B: {det_B}\")\n",
    "print(f\"Determinante de C: {det_C}\")\n",
    "print(f\"Determinante de D: {det_D}\")"
   ]
  },
  {
   "cell_type": "markdown",
   "id": "c5cf5a18-c796-4582-b7f4-e05bc396d986",
   "metadata": {
    "id": "c5cf5a18-c796-4582-b7f4-e05bc396d986",
    "tags": []
   },
   "source": [
    "### Calcular la traza de una matriz\n",
    "Para calcular el traza de una matriz, podemos utilizar la función trace() de la librería numpy:"
   ]
  },
  {
   "cell_type": "code",
   "execution_count": 6,
   "id": "b898f3fb-d23e-4099-9885-be2773b1f34d",
   "metadata": {
    "id": "b898f3fb-d23e-4099-9885-be2773b1f34d",
    "tags": []
   },
   "outputs": [],
   "source": [
    "trace_A = np.trace(A)\n",
    "trace_B = np.trace(B)\n",
    "trace_C = np.trace(C)\n",
    "trace_D = np.trace(D)"
   ]
  },
  {
   "cell_type": "code",
   "execution_count": 7,
   "id": "0c513732-51fd-4b85-812d-a885c0162699",
   "metadata": {
    "colab": {
     "base_uri": "https://localhost:8080/",
     "height": 0
    },
    "id": "0c513732-51fd-4b85-812d-a885c0162699",
    "outputId": "a4142382-70c1-4aaf-e0bb-9b01dfcc09d6",
    "tags": []
   },
   "outputs": [
    {
     "name": "stdout",
     "output_type": "stream",
     "text": [
      "Traza de A: 11j\n",
      "Traza de B: (6+6j)\n",
      "Traza de C: 1j\n",
      "Traza de D: (3-4j)\n"
     ]
    }
   ],
   "source": [
    "print(f\"Traza de A: {trace_A}\")\n",
    "print(f\"Traza de B: {trace_B}\")\n",
    "print(f\"Traza de C: {trace_C}\")\n",
    "print(f\"Traza de D: {trace_D}\")"
   ]
  },
  {
   "cell_type": "markdown",
   "id": "61361333-096c-4607-9b96-4af446de7a7d",
   "metadata": {
    "id": "61361333-096c-4607-9b96-4af446de7a7d",
    "tags": []
   },
   "source": [
    "### Calcular la forma polar\n",
    "Repasamos las formas posibles de los números complejos:\n",
    "\n",
    "|Forma|Rectangular|Polar|\n",
    "|---|---|---|\n",
    "|Algebraic|z = x + yj|-|\n",
    "|Geometric|z = (x, y)|z = (r, φ)|\n",
    "|Trigonometric|z = abs(z)(cos(x/abs(z)) + jsin(y/abs(z)))|z = r(cos(φ) + jsin(φ))|\n",
    "|Exponential|z = abs(z)eatan2(y/x)j|z = r(ejφ)|\n",
    "\n",
    "Para conseguir la forma geométrica polar de un número complejo en Cmath, utilizamos la función polar de cmath. Esta función devuelve el radio y el ángulo del número complejo en forma polar."
   ]
  },
  {
   "cell_type": "code",
   "execution_count": 8,
   "id": "7356f4ab-aeb6-4b0c-b9ed-4920c7d8d6b6",
   "metadata": {
    "id": "7356f4ab-aeb6-4b0c-b9ed-4920c7d8d6b6",
    "tags": []
   },
   "outputs": [],
   "source": [
    "radius_det_A, angle_det_A = cmath.polar(det_A)\n",
    "radius_det_B, angle_det_B = cmath.polar(det_B)\n",
    "radius_det_C, angle_det_C = cmath.polar(det_C)\n",
    "radius_det_D, angle_det_D = cmath.polar(det_D)"
   ]
  },
  {
   "cell_type": "code",
   "execution_count": 9,
   "id": "d8119a93-18de-4e00-8280-24e44d15bb56",
   "metadata": {
    "colab": {
     "base_uri": "https://localhost:8080/",
     "height": 0
    },
    "id": "d8119a93-18de-4e00-8280-24e44d15bb56",
    "outputId": "4211a325-c986-4817-f645-b4574d8d9ee3",
    "tags": []
   },
   "outputs": [
    {
     "name": "stdout",
     "output_type": "stream",
     "text": [
      "Forma polar del determinante de A: (1103.9999999999998, 1.5707963267948968)\n",
      "Forma polar del determinante de B: (1.9999999999999996, 1.570796326794897)\n",
      "Forma polar del determinante de C: (409.0000000000003, -3.141592653589793)\n",
      "Forma polar del determinante de D: (5.830951894845301, 0.5404195002705842)\n"
     ]
    }
   ],
   "source": [
    "print(f\"Forma polar del determinante de A: {radius_det_A, angle_det_A}\")\n",
    "print(f\"Forma polar del determinante de B: {radius_det_B, angle_det_B}\")\n",
    "print(f\"Forma polar del determinante de C: {radius_det_C, angle_det_C}\")\n",
    "print(f\"Forma polar del determinante de D: {radius_det_D, angle_det_D}\")"
   ]
  },
  {
   "cell_type": "code",
   "execution_count": 10,
   "id": "a384608e-9352-4701-b924-e09f32237ffe",
   "metadata": {
    "id": "a384608e-9352-4701-b924-e09f32237ffe"
   },
   "outputs": [],
   "source": [
    "radius_det_A, angle_det_A = cmath.polar(det_A)\n",
    "radius_det_B, angle_det_B = cmath.polar(det_B)\n",
    "radius_det_C, angle_det_C = cmath.polar(det_C)\n",
    "radius_det_D, angle_det_D = cmath.polar(det_D)"
   ]
  },
  {
   "cell_type": "code",
   "execution_count": 11,
   "id": "85feac15-7df5-4f07-87c5-089427f7ed1b",
   "metadata": {
    "colab": {
     "base_uri": "https://localhost:8080/",
     "height": 0
    },
    "id": "85feac15-7df5-4f07-87c5-089427f7ed1b",
    "outputId": "eb586181-9a22-4bd0-edd7-7b1f7c4e3281",
    "tags": []
   },
   "outputs": [
    {
     "name": "stdout",
     "output_type": "stream",
     "text": [
      "Forma polar de la traza de A: (1103.9999999999998, 1.5707963267948968)\n",
      "Forma polar de la traza de B: (1.9999999999999996, 1.570796326794897)\n",
      "Forma polar de la traza de C: (409.0000000000003, -3.141592653589793)\n",
      "Forma polar de la traza de D: (5.830951894845301, 0.5404195002705842)\n"
     ]
    }
   ],
   "source": [
    "print(f\"Forma polar de la traza de A: {radius_det_A, angle_det_A}\")\n",
    "print(f\"Forma polar de la traza de B: {radius_det_B, angle_det_B}\")\n",
    "print(f\"Forma polar de la traza de C: {radius_det_C, angle_det_C}\")\n",
    "print(f\"Forma polar de la traza de D: {radius_det_D, angle_det_D}\")"
   ]
  },
  {
   "cell_type": "markdown",
   "id": "a4d99aaf-6d03-4e09-9a4a-b7c677840b2b",
   "metadata": {
    "id": "a4d99aaf-6d03-4e09-9a4a-b7c677840b2b"
   },
   "source": [
    "## Punto 2:\n",
    "Obtener el resultado de:\n",
    "$$\n",
    "2i(det(D)+tr(C))AB-(1+i)  det⁡(C)tr(D)BA\n",
    "$$"
   ]
  },
  {
   "cell_type": "code",
   "execution_count": 12,
   "id": "d84160f5-b367-4b09-902b-8149b86ab390",
   "metadata": {
    "id": "d84160f5-b367-4b09-902b-8149b86ab390",
    "tags": []
   },
   "outputs": [],
   "source": [
    "resultado = 2j * (det_D + trace_C) * A * B - (1 + 1j) * det_C * trace_C * B * A"
   ]
  },
  {
   "cell_type": "code",
   "execution_count": 13,
   "id": "3c5cb29e-77ba-4850-92ea-652d312389f5",
   "metadata": {
    "colab": {
     "base_uri": "https://localhost:8080/",
     "height": 0
    },
    "id": "3c5cb29e-77ba-4850-92ea-652d312389f5",
    "outputId": "0b017004-a7db-4528-ce44-a9568e48bd0c",
    "tags": []
   },
   "outputs": [
    {
     "name": "stdout",
     "output_type": "stream",
     "text": [
      "[[-1.800e+01 -7524.j -2.095e+03 -2085.j -1.171e+04 -1644.j]\n",
      " [ 2.085e+03 -2095.j -1.600e+01 -6688.j  1.751e+04-17598.j]\n",
      " [ 1.170e+04 -1700.j -1.758e+04-11662.j  1.200e+01 +5016.j]]\n"
     ]
    }
   ],
   "source": [
    "print(resultado)"
   ]
  },
  {
   "cell_type": "markdown",
   "id": "490c4166-57be-4df1-8f2b-b98ad4f85eb9",
   "metadata": {
    "id": "490c4166-57be-4df1-8f2b-b98ad4f85eb9"
   },
   "source": [
    "## Punto 3:\n",
    "La inversa de cada matriz, si existe."
   ]
  },
  {
   "cell_type": "markdown",
   "id": "091d3cfc-0b3a-42fc-b576-58690d1a009b",
   "metadata": {
    "id": "091d3cfc-0b3a-42fc-b576-58690d1a009b"
   },
   "source": [
    "### Calcular la inversa de una matriz\n",
    "Para calcular la inversa de una matriz, podemos utilizar la función linalg.inv() de la librería numpy:"
   ]
  },
  {
   "cell_type": "code",
   "execution_count": 14,
   "id": "a8b1db6c-1b87-4530-a30e-4207f3380616",
   "metadata": {
    "id": "a8b1db6c-1b87-4530-a30e-4207f3380616",
    "tags": []
   },
   "outputs": [],
   "source": [
    "inv_A = np.linalg.inv(A)\n",
    "inv_B = np.linalg.inv(B)\n",
    "inv_C = np.linalg.inv(C)\n",
    "inv_D = np.linalg.inv(D)"
   ]
  },
  {
   "cell_type": "code",
   "execution_count": 15,
   "id": "424f552e-9a56-4da1-b161-90352f953227",
   "metadata": {
    "colab": {
     "base_uri": "https://localhost:8080/",
     "height": 0
    },
    "id": "424f552e-9a56-4da1-b161-90352f953227",
    "outputId": "1baee0e5-8808-40f6-94fc-c9d699d57e31",
    "tags": []
   },
   "outputs": [
    {
     "name": "stdout",
     "output_type": "stream",
     "text": [
      "Inversa de la matriz A: \n",
      "[[ 0.000e+00-0.096j  2.899e-02-0.049j -1.540e-02+0.026j]\n",
      " [-2.899e-02-0.049j -6.939e-18-0.053j  6.612e-02-0.048j]\n",
      " [ 1.540e-02+0.026j -6.612e-02-0.048j  3.469e-18+0.028j]]\n",
      "\n",
      "Inversa de la matriz B: \n",
      "[[-1.5+1.500e+00j  1. -8.327e-16j  0.5-5.000e-01j]\n",
      " [ 1.5-1.500e+00j -2. +1.110e-15j  0.5+5.000e-01j]\n",
      " [-0.5+6.384e-16j  1. -4.441e-16j -0.5+9.714e-17j]]\n",
      "\n",
      "Inversa de la matriz C: \n",
      "[[-5.551e-17-1.044j  3.252e-01+0.205j -1.711e-02+0.029j -7.335e-03-0.298j]\n",
      " [-3.252e-01+0.205j -5.551e-17-0.306j -3.667e-02-0.066j -5.868e-02-0.054j]\n",
      " [ 1.711e-02+0.029j  3.667e-02-0.066j  1.735e-18+0.029j  9.780e-03+0.029j]\n",
      " [ 7.335e-03-0.298j  5.868e-02-0.054j -9.780e-03+0.029j  1.004e-17-0.301j]]\n",
      "\n",
      "Inversa de la matriz D: \n",
      "[[0.   -1.j    0.   +0.j   ]\n",
      " [0.   +0.j    0.088+0.147j]]\n",
      "\n"
     ]
    }
   ],
   "source": [
    "print(f\"Inversa de la matriz A: \\n{inv_A}\\n\")\n",
    "print(f\"Inversa de la matriz B: \\n{inv_B}\\n\")\n",
    "print(f\"Inversa de la matriz C: \\n{inv_C}\\n\")\n",
    "print(f\"Inversa de la matriz D: \\n{inv_D}\\n\")"
   ]
  },
  {
   "cell_type": "markdown",
   "id": "8ea82d84-46ac-4d30-af6b-b75e4239266f",
   "metadata": {
    "id": "8ea82d84-46ac-4d30-af6b-b75e4239266f"
   },
   "source": [
    "## Punto 4:\n",
    "Usando la definición y, al mismo tiempo, las propiedades de los valores propios, clasifica cada una de las matrices en normales, hermitianas o unitarias."
   ]
  },
  {
   "cell_type": "markdown",
   "id": "e9219fc6-a8a1-4c11-b28c-b4e25bb21e02",
   "metadata": {
    "id": "e9219fc6-a8a1-4c11-b28c-b4e25bb21e02"
   },
   "source": [
    "### Definición\n",
    "\n",
    "- **Matriz Normal**: Una matriz $M$ se considera normal si cumple con la propiedad $M M^\\dagger = M^\\dagger M$, donde $M^\\dagger$ es la matriz conjugada transpuesta de $M$."
   ]
  },
  {
   "cell_type": "code",
   "execution_count": 16,
   "id": "88f690f4-099b-450d-8b69-5efabf75362c",
   "metadata": {
    "id": "88f690f4-099b-450d-8b69-5efabf75362c",
    "tags": []
   },
   "outputs": [],
   "source": [
    "def is_normal(matrix):\n",
    "    return np.allclose(matrix @ matrix.conj().T, matrix.conj().T @ matrix)"
   ]
  },
  {
   "cell_type": "markdown",
   "id": "04790c93-e948-400c-a25b-b1d4adb6a35f",
   "metadata": {
    "id": "04790c93-e948-400c-a25b-b1d4adb6a35f"
   },
   "source": [
    "- **Matriz Hermitiana**: Una matriz $H$ se considera hermitiana si es igual a su matriz conjugada transpuesta, es decir, si $H = H^\\dagger$."
   ]
  },
  {
   "cell_type": "code",
   "execution_count": 17,
   "id": "ad6ef0f6-4f1a-4525-bdf7-d3a173ca3e78",
   "metadata": {
    "id": "ad6ef0f6-4f1a-4525-bdf7-d3a173ca3e78",
    "tags": []
   },
   "outputs": [],
   "source": [
    "def is_hermitian(matrix):\n",
    "    return np.allclose(matrix, matrix.conj().T)"
   ]
  },
  {
   "cell_type": "markdown",
   "id": "34ec3ddc-139d-4524-9fdc-03a30b3aeba1",
   "metadata": {
    "id": "34ec3ddc-139d-4524-9fdc-03a30b3aeba1"
   },
   "source": [
    "- **Matriz Unitaria**: Una matriz $U$ se considera unitaria si su matriz inversa es igual a su conjugada transpuesta, es decir, si $U^{-1} = U^\\dagger$."
   ]
  },
  {
   "cell_type": "code",
   "execution_count": 18,
   "id": "abc276a8-0aa2-4fb8-89fb-868dd20aee00",
   "metadata": {
    "id": "abc276a8-0aa2-4fb8-89fb-868dd20aee00",
    "tags": []
   },
   "outputs": [],
   "source": [
    "def is_unitary(matrix):\n",
    "    return np.allclose(np.linalg.inv(matrix), matrix.conj().T)"
   ]
  },
  {
   "cell_type": "markdown",
   "id": "6cfa6c02-db82-4a6a-856e-fe8f4aa94e44",
   "metadata": {
    "id": "6cfa6c02-db82-4a6a-856e-fe8f4aa94e44"
   },
   "source": [
    "### Comprobación"
   ]
  },
  {
   "cell_type": "code",
   "execution_count": 19,
   "id": "e7ef185d-6bda-4473-884b-b080c36076ee",
   "metadata": {
    "colab": {
     "base_uri": "https://localhost:8080/",
     "height": 0
    },
    "id": "e7ef185d-6bda-4473-884b-b080c36076ee",
    "outputId": "115f84da-81e1-4184-c812-eb9724f8ff5b",
    "tags": []
   },
   "outputs": [
    {
     "name": "stdout",
     "output_type": "stream",
     "text": [
      "La matriz A es normal\n",
      "La matriz A no es hermitiana\n",
      "La matriz A no es unitaria\n"
     ]
    }
   ],
   "source": [
    "print(f\"La matriz A {'es' if is_normal(A) else 'no es'} normal\")\n",
    "print(f\"La matriz A {'es' if is_hermitian(A) else 'no es'} hermitiana\")\n",
    "print(f\"La matriz A {'es' if is_unitary(A) else 'no es'} unitaria\")"
   ]
  },
  {
   "cell_type": "code",
   "execution_count": 20,
   "id": "8c89dc24-0426-423a-8a98-971aca5e778f",
   "metadata": {
    "colab": {
     "base_uri": "https://localhost:8080/",
     "height": 0
    },
    "id": "8c89dc24-0426-423a-8a98-971aca5e778f",
    "outputId": "c3b6c743-b7ad-46ef-89eb-be6bc3101f66",
    "tags": []
   },
   "outputs": [
    {
     "name": "stdout",
     "output_type": "stream",
     "text": [
      "La matriz B no es normal\n",
      "La matriz B no es hermitiana\n",
      "La matriz B no es unitaria\n"
     ]
    }
   ],
   "source": [
    "print(f\"La matriz B {'es' if is_normal(B) else 'no es'} normal\")\n",
    "print(f\"La matriz B {'es' if is_hermitian(B) else 'no es'} hermitiana\")\n",
    "print(f\"La matriz B {'es' if is_unitary(B) else 'no es'} unitaria\")"
   ]
  },
  {
   "cell_type": "code",
   "execution_count": 21,
   "id": "6d875783-4f8b-4804-a76e-a5ad470373c3",
   "metadata": {
    "colab": {
     "base_uri": "https://localhost:8080/",
     "height": 0
    },
    "id": "6d875783-4f8b-4804-a76e-a5ad470373c3",
    "outputId": "aa19d1aa-42de-4f5b-ed87-d91ebb42f837",
    "tags": []
   },
   "outputs": [
    {
     "name": "stdout",
     "output_type": "stream",
     "text": [
      "La matriz C es normal\n",
      "La matriz C no es hermitiana\n",
      "La matriz C no es unitaria\n"
     ]
    }
   ],
   "source": [
    "print(f\"La matriz C {'es' if is_normal(C) else 'no es'} normal\")\n",
    "print(f\"La matriz C {'es' if is_hermitian(C) else 'no es'} hermitiana\")\n",
    "print(f\"La matriz C {'es' if is_unitary(C) else 'no es'} unitaria\")"
   ]
  },
  {
   "cell_type": "code",
   "execution_count": 22,
   "id": "3f745211-da0c-45a4-947d-7804ab089a60",
   "metadata": {
    "colab": {
     "base_uri": "https://localhost:8080/",
     "height": 0
    },
    "id": "3f745211-da0c-45a4-947d-7804ab089a60",
    "outputId": "0e5101ea-73fe-4b17-a624-0a7a164ab3f1",
    "tags": []
   },
   "outputs": [
    {
     "name": "stdout",
     "output_type": "stream",
     "text": [
      "La matriz D es normal\n",
      "La matriz D no es hermitiana\n",
      "La matriz D no es unitaria\n"
     ]
    }
   ],
   "source": [
    "print(f\"La matriz D {'es' if is_normal(D) else 'no es'} normal\")\n",
    "print(f\"La matriz D {'es' if is_hermitian(D) else 'no es'} hermitiana\")\n",
    "print(f\"La matriz D {'es' if is_unitary(D) else 'no es'} unitaria\")"
   ]
  },
  {
   "cell_type": "markdown",
   "id": "b5bd031d-a296-45b2-b023-c3d63eddc3a5",
   "metadata": {
    "id": "b5bd031d-a296-45b2-b023-c3d63eddc3a5"
   },
   "source": [
    "# *Ejercicio 2*:\n",
    "Utiliza NumPy y Qiskit y obtén:"
   ]
  },
  {
   "cell_type": "markdown",
   "id": "Kz6DbuCaoNE-",
   "metadata": {
    "id": "Kz6DbuCaoNE-"
   },
   "source": [
    "Función que ejecuta un circuito y devuelve el vector de estado resultante en representación Latex.\n"
   ]
  },
  {
   "cell_type": "code",
   "execution_count": 23,
   "id": "gBv5hCQjoOAv",
   "metadata": {
    "id": "gBv5hCQjoOAv"
   },
   "outputs": [],
   "source": [
    "def draw_result_in_latex(circuit):\n",
    "    job = backend.run(circuit)\n",
    "    result = job.result()\n",
    "    sv = result.get_statevector()\n",
    "    latex = sv.draw(output=\"latex\")\n",
    "    return latex"
   ]
  },
  {
   "cell_type": "code",
   "execution_count": 24,
   "id": "h2ZMyAspobJa",
   "metadata": {
    "id": "h2ZMyAspobJa"
   },
   "outputs": [],
   "source": [
    "def result_in_latex_source(circuit):\n",
    "    job = backend.run(circuit)\n",
    "    result = job.result()\n",
    "    sv = result.get_statevector()\n",
    "    latex = sv.draw(output=\"latex_source\")\n",
    "    return latex"
   ]
  },
  {
   "cell_type": "markdown",
   "id": "482a754f-22e1-49b1-87a5-32e1885f0261",
   "metadata": {
    "id": "482a754f-22e1-49b1-87a5-32e1885f0261",
    "tags": []
   },
   "source": [
    "## Punto 1:\n",
    "Crear los vectores estados $C^2$: $|0⟩$, $|1⟩$."
   ]
  },
  {
   "cell_type": "markdown",
   "id": "lSZeuWL3MxC7",
   "metadata": {
    "id": "lSZeuWL3MxC7"
   },
   "source": [
    "### Mediante puertas lógicas"
   ]
  },
  {
   "cell_type": "markdown",
   "id": "h4w5rgXeM4Xg",
   "metadata": {
    "id": "h4w5rgXeM4Xg"
   },
   "source": [
    "Para obtener el vectores de estado $|0⟩$, no hace falta utilizar puertas lógicas, ya que los qubits se inicializan en el estado 0"
   ]
  },
  {
   "cell_type": "code",
   "execution_count": 25,
   "id": "8v8McB_SMzQ0",
   "metadata": {
    "colab": {
     "base_uri": "https://localhost:8080/",
     "height": 37
    },
    "id": "8v8McB_SMzQ0",
    "outputId": "07f5c4bf-b61c-4d6b-968f-bd8165d3e975"
   },
   "outputs": [
    {
     "data": {
      "text/latex": [
       "$$ |0\\rangle$$"
      ],
      "text/plain": [
       "<IPython.core.display.Latex object>"
      ]
     },
     "execution_count": 25,
     "metadata": {},
     "output_type": "execute_result"
    }
   ],
   "source": [
    "qc_0 = QuantumCircuit(1)\n",
    "draw_result_in_latex(qc_0)"
   ]
  },
  {
   "cell_type": "markdown",
   "id": "6LQFzdZqNK9V",
   "metadata": {
    "id": "6LQFzdZqNK9V"
   },
   "source": [
    "Para obtener el vectores de estado $|1⟩$, aplicamos la puerta Pauli-X"
   ]
  },
  {
   "cell_type": "code",
   "execution_count": 26,
   "id": "ubkSWqxVNQa8",
   "metadata": {
    "colab": {
     "base_uri": "https://localhost:8080/",
     "height": 37
    },
    "id": "ubkSWqxVNQa8",
    "outputId": "660fbded-04d6-4bd9-a24a-385520f6ef0a"
   },
   "outputs": [
    {
     "data": {
      "text/latex": [
       "$$ |1\\rangle$$"
      ],
      "text/plain": [
       "<IPython.core.display.Latex object>"
      ]
     },
     "execution_count": 26,
     "metadata": {},
     "output_type": "execute_result"
    }
   ],
   "source": [
    "qc_1 = QuantumCircuit(1)\n",
    "qc_1.x(0)\n",
    "draw_result_in_latex(qc_1)"
   ]
  },
  {
   "cell_type": "markdown",
   "id": "LBVfB98rMnV5",
   "metadata": {
    "id": "LBVfB98rMnV5"
   },
   "source": [
    "### Mediante inicialización con Numpy"
   ]
  },
  {
   "cell_type": "markdown",
   "id": "4afe152f-1749-4aee-ac4d-4dbf3a5ffa4a",
   "metadata": {
    "id": "4afe152f-1749-4aee-ac4d-4dbf3a5ffa4a",
    "tags": []
   },
   "source": [
    "Definamos los vectores de estado $|0⟩$ y $|1⟩$"
   ]
  },
  {
   "cell_type": "code",
   "execution_count": 27,
   "id": "1a4d6a02-642a-453a-8140-505067d7e0cb",
   "metadata": {
    "id": "1a4d6a02-642a-453a-8140-505067d7e0cb",
    "tags": []
   },
   "outputs": [],
   "source": [
    "sv_0 = np.array([1, 0])\n",
    "sv_1 = np.array([0, 1])"
   ]
  },
  {
   "cell_type": "markdown",
   "id": "a45dad1b-fa01-4a9a-9c38-19d3a8c4d839",
   "metadata": {
    "id": "a45dad1b-fa01-4a9a-9c38-19d3a8c4d839"
   },
   "source": [
    "Creamos los circuitos para el estado $|0⟩$"
   ]
  },
  {
   "cell_type": "code",
   "execution_count": 28,
   "id": "cb2fcc8e-0eb3-43e5-be56-8553f00c464f",
   "metadata": {
    "colab": {
     "base_uri": "https://localhost:8080/",
     "height": 37
    },
    "id": "cb2fcc8e-0eb3-43e5-be56-8553f00c464f",
    "outputId": "0ac138f3-9b0d-4658-ffce-77d21be75be4",
    "tags": []
   },
   "outputs": [
    {
     "data": {
      "text/latex": [
       "$$ |0\\rangle$$"
      ],
      "text/plain": [
       "<IPython.core.display.Latex object>"
      ]
     },
     "execution_count": 28,
     "metadata": {},
     "output_type": "execute_result"
    }
   ],
   "source": [
    "qc_0 = QuantumCircuit(1)\n",
    "qc_0.initialize(sv_0, [0])\n",
    "draw_result_in_latex(qc_0)"
   ]
  },
  {
   "cell_type": "markdown",
   "id": "d03ec498-9a9a-4730-878a-7cf103ccb257",
   "metadata": {
    "id": "d03ec498-9a9a-4730-878a-7cf103ccb257"
   },
   "source": [
    "Creamos los circuitos para el estado $|1⟩$"
   ]
  },
  {
   "cell_type": "code",
   "execution_count": 29,
   "id": "743c527e-2ed3-49e4-b136-37b0805d5dbd",
   "metadata": {
    "colab": {
     "base_uri": "https://localhost:8080/",
     "height": 37
    },
    "id": "743c527e-2ed3-49e4-b136-37b0805d5dbd",
    "outputId": "4b8fd64a-b466-49ff-f123-8603007329ee",
    "tags": []
   },
   "outputs": [
    {
     "data": {
      "text/latex": [
       "$$ |1\\rangle$$"
      ],
      "text/plain": [
       "<IPython.core.display.Latex object>"
      ]
     },
     "execution_count": 29,
     "metadata": {},
     "output_type": "execute_result"
    }
   ],
   "source": [
    "qc_1 = QuantumCircuit(1)\n",
    "qc_1.initialize(sv_1, [0])\n",
    "draw_result_in_latex(qc_1)"
   ]
  },
  {
   "cell_type": "markdown",
   "id": "40e6c895-b69c-4782-b554-9b96d246d2af",
   "metadata": {
    "id": "40e6c895-b69c-4782-b554-9b96d246d2af"
   },
   "source": [
    "## Punto 2:\n",
    "A partir de los vectores estado creados, halla los estados $|+⟩$, $|-⟩$, $|i+⟩$, $|i-⟩$ y los estados de Bell. Estos resultados deben quedar en formato LaTex."
   ]
  },
  {
   "cell_type": "markdown",
   "id": "1ER9VNTmOT-T",
   "metadata": {
    "id": "1ER9VNTmOT-T"
   },
   "source": [
    "### Mediante puertas lógicas"
   ]
  },
  {
   "cell_type": "markdown",
   "id": "bd4X2GahOf8t",
   "metadata": {
    "id": "bd4X2GahOf8t"
   },
   "source": [
    "Para obtener el vectores de estado $|+⟩$, aplicamos la puerta Hadamart"
   ]
  },
  {
   "cell_type": "code",
   "execution_count": 30,
   "id": "SG1s2WbeOUdn",
   "metadata": {
    "colab": {
     "base_uri": "https://localhost:8080/",
     "height": 40
    },
    "id": "SG1s2WbeOUdn",
    "outputId": "68d5c4e7-799e-42a7-a3f2-d871b485506d"
   },
   "outputs": [
    {
     "data": {
      "text/latex": [
       "$$\\frac{\\sqrt{2}}{2} |0\\rangle+\\frac{\\sqrt{2}}{2} |1\\rangle$$"
      ],
      "text/plain": [
       "<IPython.core.display.Latex object>"
      ]
     },
     "execution_count": 30,
     "metadata": {},
     "output_type": "execute_result"
    }
   ],
   "source": [
    "qc_plus = QuantumCircuit(1)\n",
    "qc_plus.h(0)\n",
    "draw_result_in_latex(qc_plus)"
   ]
  },
  {
   "cell_type": "markdown",
   "id": "WnpSIEhCPPqm",
   "metadata": {
    "id": "WnpSIEhCPPqm"
   },
   "source": [
    "Para obtener el vectores de estado $|-⟩$, aplicamos la puerta Hadamart"
   ]
  },
  {
   "cell_type": "code",
   "execution_count": 31,
   "id": "g6W_7rL-PUir",
   "metadata": {
    "colab": {
     "base_uri": "https://localhost:8080/",
     "height": 40
    },
    "id": "g6W_7rL-PUir",
    "outputId": "bee1791c-3544-4cac-db0a-a5eb0bbdd666"
   },
   "outputs": [
    {
     "data": {
      "text/latex": [
       "$$\\frac{\\sqrt{2}}{2} |0\\rangle- \\frac{\\sqrt{2}}{2} |1\\rangle$$"
      ],
      "text/plain": [
       "<IPython.core.display.Latex object>"
      ]
     },
     "execution_count": 31,
     "metadata": {},
     "output_type": "execute_result"
    }
   ],
   "source": [
    "qc_minus = QuantumCircuit(1)\n",
    "qc_minus.x(0)\n",
    "qc_minus.h(0)\n",
    "draw_result_in_latex(qc_minus)"
   ]
  },
  {
   "cell_type": "markdown",
   "id": "FcL9ssktPt-B",
   "metadata": {
    "id": "FcL9ssktPt-B"
   },
   "source": [
    "Para obtener el vectores de estado $|i⟩$, aplicamos la puerta Hadamart junto S"
   ]
  },
  {
   "cell_type": "code",
   "execution_count": 32,
   "id": "lN02yIhEPuJ2",
   "metadata": {
    "colab": {
     "base_uri": "https://localhost:8080/",
     "height": 40
    },
    "id": "lN02yIhEPuJ2",
    "outputId": "f0f78139-880f-4752-d83e-c7141a55e418"
   },
   "outputs": [
    {
     "data": {
      "text/latex": [
       "$$\\frac{\\sqrt{2}}{2} |0\\rangle+\\frac{\\sqrt{2} i}{2} |1\\rangle$$"
      ],
      "text/plain": [
       "<IPython.core.display.Latex object>"
      ]
     },
     "execution_count": 32,
     "metadata": {},
     "output_type": "execute_result"
    }
   ],
   "source": [
    "qc_i_plus = QuantumCircuit(1)\n",
    "qc_i_plus.h(0)\n",
    "qc_i_plus.s(0)\n",
    "draw_result_in_latex(qc_i_plus)"
   ]
  },
  {
   "cell_type": "markdown",
   "id": "2KmCkpYwPuVs",
   "metadata": {
    "id": "2KmCkpYwPuVs"
   },
   "source": [
    "Para obtener el vectores de estado $|-i⟩$, aplicamos la puerta Pauli-X junto la Hadamart y la S"
   ]
  },
  {
   "cell_type": "code",
   "execution_count": 33,
   "id": "DB-Z68zUPufs",
   "metadata": {
    "colab": {
     "base_uri": "https://localhost:8080/",
     "height": 40
    },
    "id": "DB-Z68zUPufs",
    "outputId": "36358dd8-f69a-41c7-eb4d-e46cc588fcb0"
   },
   "outputs": [
    {
     "data": {
      "text/latex": [
       "$$\\frac{\\sqrt{2}}{2} |0\\rangle- \\frac{\\sqrt{2} i}{2} |1\\rangle$$"
      ],
      "text/plain": [
       "<IPython.core.display.Latex object>"
      ]
     },
     "execution_count": 33,
     "metadata": {},
     "output_type": "execute_result"
    }
   ],
   "source": [
    "qc_i_minus = QuantumCircuit(1)\n",
    "qc_i_minus.x(0)\n",
    "qc_i_minus.h(0)\n",
    "qc_i_minus.s(0)\n",
    "draw_result_in_latex(qc_i_minus)"
   ]
  },
  {
   "cell_type": "markdown",
   "id": "sSEZO7HLVE9b",
   "metadata": {
    "id": "sSEZO7HLVE9b"
   },
   "source": [
    "Obtención de los estados de Bell"
   ]
  },
  {
   "cell_type": "code",
   "execution_count": 34,
   "id": "-h6gThugVGwo",
   "metadata": {
    "colab": {
     "base_uri": "https://localhost:8080/",
     "height": 40
    },
    "id": "-h6gThugVGwo",
    "outputId": "f791cbc4-e281-4829-bc2f-9590233d42ac"
   },
   "outputs": [
    {
     "data": {
      "text/latex": [
       "$$\\frac{\\sqrt{2}}{2} |00\\rangle+\\frac{\\sqrt{2}}{2} |11\\rangle$$"
      ],
      "text/plain": [
       "<IPython.core.display.Latex object>"
      ]
     },
     "execution_count": 34,
     "metadata": {},
     "output_type": "execute_result"
    }
   ],
   "source": [
    "qc_b1 = QuantumCircuit(2, 2)\n",
    "qc_b1.h(0)\n",
    "qc_b1.cx(0, 1)\n",
    "draw_result_in_latex(qc_b1)"
   ]
  },
  {
   "cell_type": "code",
   "execution_count": 35,
   "id": "qlnGjzQ5Vqsg",
   "metadata": {
    "colab": {
     "base_uri": "https://localhost:8080/",
     "height": 40
    },
    "id": "qlnGjzQ5Vqsg",
    "outputId": "7c483395-5125-4f07-c88b-7c0214e5d066"
   },
   "outputs": [
    {
     "data": {
      "text/latex": [
       "$$\\frac{\\sqrt{2}}{2} |00\\rangle- \\frac{\\sqrt{2}}{2} |11\\rangle$$"
      ],
      "text/plain": [
       "<IPython.core.display.Latex object>"
      ]
     },
     "execution_count": 35,
     "metadata": {},
     "output_type": "execute_result"
    }
   ],
   "source": [
    "qc_b2 = QuantumCircuit(2, 2)\n",
    "qc_b2.h(0)\n",
    "qc_b2.cx(0, 1)\n",
    "qc_b2.z(0)\n",
    "draw_result_in_latex(qc_b2)"
   ]
  },
  {
   "cell_type": "code",
   "execution_count": 36,
   "id": "tW3vm-KuV4oN",
   "metadata": {
    "colab": {
     "base_uri": "https://localhost:8080/",
     "height": 40
    },
    "id": "tW3vm-KuV4oN",
    "outputId": "39c46dbe-674c-468a-c64e-f2a3c337c50a"
   },
   "outputs": [
    {
     "data": {
      "text/latex": [
       "$$\\frac{\\sqrt{2}}{2} |00\\rangle- \\frac{\\sqrt{2}}{2} |11\\rangle$$"
      ],
      "text/plain": [
       "<IPython.core.display.Latex object>"
      ]
     },
     "execution_count": 36,
     "metadata": {},
     "output_type": "execute_result"
    }
   ],
   "source": [
    "qc_b3 = QuantumCircuit(2, 2)\n",
    "qc_b3.x(0)\n",
    "qc_b3.h(0)\n",
    "qc_b3.cx(0, 1)\n",
    "draw_result_in_latex(qc_b3)"
   ]
  },
  {
   "cell_type": "code",
   "execution_count": 37,
   "id": "JKhDf0eXV8Js",
   "metadata": {
    "colab": {
     "base_uri": "https://localhost:8080/",
     "height": 40
    },
    "id": "JKhDf0eXV8Js",
    "outputId": "ea074ba8-785f-45c5-ab3f-2044c45c4974"
   },
   "outputs": [
    {
     "data": {
      "text/latex": [
       "$$\\frac{\\sqrt{2}}{2} |00\\rangle+\\frac{\\sqrt{2}}{2} |11\\rangle$$"
      ],
      "text/plain": [
       "<IPython.core.display.Latex object>"
      ]
     },
     "execution_count": 37,
     "metadata": {},
     "output_type": "execute_result"
    }
   ],
   "source": [
    "qc_b4 = QuantumCircuit(2, 2)\n",
    "qc_b4.x(0)\n",
    "qc_b4.h(0)\n",
    "qc_b4.cx(0, 1)\n",
    "qc_b4.z(0)\n",
    "draw_result_in_latex(qc_b4)"
   ]
  },
  {
   "cell_type": "markdown",
   "id": "3F2eYEnNNtSS",
   "metadata": {
    "id": "3F2eYEnNNtSS"
   },
   "source": [
    "### Mediante inicialización con Numpy"
   ]
  },
  {
   "cell_type": "markdown",
   "id": "d4225be3-dd63-4821-b990-75c5104db58a",
   "metadata": {
    "id": "d4225be3-dd63-4821-b990-75c5104db58a"
   },
   "source": [
    "Definimos $|+⟩$ y $|-⟩$ como:\n",
    "- $ |+\\rangle $: $ \\frac{1}{\\sqrt{2}}(|0\\rangle + |1\\rangle) $\n",
    "- $ |-\\rangle $: $ \\frac{1}{\\sqrt{2}}(|0\\rangle - |1\\rangle) $"
   ]
  },
  {
   "cell_type": "code",
   "execution_count": 38,
   "id": "74f88abf-e406-411e-aae3-a904dbf7c2d2",
   "metadata": {
    "id": "74f88abf-e406-411e-aae3-a904dbf7c2d2"
   },
   "outputs": [],
   "source": [
    "sv_plus = (sv_0 + sv_1) / np.sqrt(2)\n",
    "sv_minus = (sv_0 - sv_1) / np.sqrt(2)"
   ]
  },
  {
   "cell_type": "markdown",
   "id": "kM9ctcuPN7VK",
   "metadata": {
    "id": "kM9ctcuPN7VK"
   },
   "source": [
    "Definimos el circuito y ejecutamos para $ |+\\rangle $:"
   ]
  },
  {
   "cell_type": "code",
   "execution_count": 39,
   "id": "FienhvD0N7ml",
   "metadata": {
    "colab": {
     "base_uri": "https://localhost:8080/",
     "height": 40
    },
    "id": "FienhvD0N7ml",
    "outputId": "c2a012c9-7d2b-4b89-d3a6-b8da18531f61"
   },
   "outputs": [
    {
     "data": {
      "text/latex": [
       "$$\\frac{\\sqrt{2}}{2} |0\\rangle+\\frac{\\sqrt{2}}{2} |1\\rangle$$"
      ],
      "text/plain": [
       "<IPython.core.display.Latex object>"
      ]
     },
     "execution_count": 39,
     "metadata": {},
     "output_type": "execute_result"
    }
   ],
   "source": [
    "qc_plus = QuantumCircuit(1)\n",
    "qc_plus.initialize(sv_plus, [0])\n",
    "draw_result_in_latex(qc_plus)"
   ]
  },
  {
   "cell_type": "markdown",
   "id": "Aq2M5xTMQXkr",
   "metadata": {
    "id": "Aq2M5xTMQXkr"
   },
   "source": [
    "Definimos el circuito y ejecutamos para $ |-\\rangle $:"
   ]
  },
  {
   "cell_type": "code",
   "execution_count": 40,
   "id": "3NXhMvosQYn8",
   "metadata": {
    "colab": {
     "base_uri": "https://localhost:8080/",
     "height": 40
    },
    "id": "3NXhMvosQYn8",
    "outputId": "10ccaabe-70cc-4ae5-af7c-5a5c8cec3b8d"
   },
   "outputs": [
    {
     "data": {
      "text/latex": [
       "$$\\frac{\\sqrt{2}}{2} |0\\rangle- \\frac{\\sqrt{2}}{2} |1\\rangle$$"
      ],
      "text/plain": [
       "<IPython.core.display.Latex object>"
      ]
     },
     "execution_count": 40,
     "metadata": {},
     "output_type": "execute_result"
    }
   ],
   "source": [
    "qc_minus = QuantumCircuit(1)\n",
    "qc_minus.initialize(sv_minus, [0])\n",
    "draw_result_in_latex(qc_minus)"
   ]
  },
  {
   "cell_type": "markdown",
   "id": "41a40a08-9abc-481b-b4fb-c655ad51c972",
   "metadata": {
    "id": "41a40a08-9abc-481b-b4fb-c655ad51c972"
   },
   "source": [
    "Definimos $|i⟩$ y $|-i⟩$ como:\n",
    "- $ |i\\rangle $: $ \\frac{1}{\\sqrt{2}}(|0\\rangle + i|1\\rangle) $\n",
    "- $ |-i\\rangle $: $ \\frac{1}{\\sqrt{2}}(|0\\rangle - i|1\\rangle) $"
   ]
  },
  {
   "cell_type": "code",
   "execution_count": 41,
   "id": "cf4bc6f0-13dc-4368-98ef-9f0ee56739b1",
   "metadata": {
    "id": "cf4bc6f0-13dc-4368-98ef-9f0ee56739b1"
   },
   "outputs": [],
   "source": [
    "sv_i_plus = (sv_0 + 1j * sv_1) / np.sqrt(2)\n",
    "sv_i_minus = (sv_0 - 1j * sv_1) / np.sqrt(2)"
   ]
  },
  {
   "cell_type": "markdown",
   "id": "0JxtECXFQNLW",
   "metadata": {
    "id": "0JxtECXFQNLW"
   },
   "source": [
    "Definimos el circuito y ejecutamos para $ |i\\rangle $:"
   ]
  },
  {
   "cell_type": "code",
   "execution_count": 42,
   "id": "JxCPchtYQNT-",
   "metadata": {
    "colab": {
     "base_uri": "https://localhost:8080/",
     "height": 40
    },
    "id": "JxCPchtYQNT-",
    "outputId": "74e6416f-c76f-4398-a781-beb5fe9aa36f"
   },
   "outputs": [
    {
     "data": {
      "text/latex": [
       "$$\\frac{\\sqrt{2}}{2} |0\\rangle+\\frac{\\sqrt{2} i}{2} |1\\rangle$$"
      ],
      "text/plain": [
       "<IPython.core.display.Latex object>"
      ]
     },
     "execution_count": 42,
     "metadata": {},
     "output_type": "execute_result"
    }
   ],
   "source": [
    "qc_i_plus = QuantumCircuit(1)\n",
    "qc_i_plus.initialize(sv_i_plus, [0])\n",
    "draw_result_in_latex(qc_i_plus)"
   ]
  },
  {
   "cell_type": "markdown",
   "id": "6uzJ4D-YUAVL",
   "metadata": {
    "id": "6uzJ4D-YUAVL"
   },
   "source": [
    "Definimos el circuito y ejecutamos para $ |-i\\rangle $:"
   ]
  },
  {
   "cell_type": "code",
   "execution_count": 43,
   "id": "FE7TogKzUApg",
   "metadata": {
    "colab": {
     "base_uri": "https://localhost:8080/",
     "height": 40
    },
    "id": "FE7TogKzUApg",
    "outputId": "57189e87-032c-44e8-d19d-1bbd7263316b"
   },
   "outputs": [
    {
     "data": {
      "text/latex": [
       "$$\\frac{\\sqrt{2}}{2} |0\\rangle- \\frac{\\sqrt{2} i}{2} |1\\rangle$$"
      ],
      "text/plain": [
       "<IPython.core.display.Latex object>"
      ]
     },
     "execution_count": 43,
     "metadata": {},
     "output_type": "execute_result"
    }
   ],
   "source": [
    "qc_i_minus = QuantumCircuit(1)\n",
    "qc_i_minus.initialize(sv_i_minus, [0])\n",
    "draw_result_in_latex(qc_i_minus)"
   ]
  },
  {
   "cell_type": "markdown",
   "id": "aa420bc9-6346-4ed4-817b-e3b9dc9925d7",
   "metadata": {
    "id": "aa420bc9-6346-4ed4-817b-e3b9dc9925d7"
   },
   "source": [
    "Definimos los estados de Bell como:\n",
    "- $ |\\Phi^+\\rangle $: $ \\frac{1}{\\sqrt{2}}(|00\\rangle + |11\\rangle) $\n",
    "- $ |\\Phi^-\\rangle $: $ \\frac{1}{\\sqrt{2}}(|00\\rangle - |11\\rangle) $\n",
    "- $ |\\Psi^+\\rangle $: $ \\frac{1}{\\sqrt{2}}(|01\\rangle + |10\\rangle) $\n",
    "- $ |\\Psi^-\\rangle $: $ \\frac{1}{\\sqrt{2}}(|01\\rangle - |10\\rangle) $"
   ]
  },
  {
   "cell_type": "code",
   "execution_count": 44,
   "id": "56f1aff3-b881-41f8-b1a3-0794cea9618a",
   "metadata": {
    "id": "56f1aff3-b881-41f8-b1a3-0794cea9618a"
   },
   "outputs": [],
   "source": [
    "sv_b1 = (np.kron(sv_0, sv_0) + np.kron(sv_1, sv_1)) / np.sqrt(2)\n",
    "sv_b2 = (np.kron(sv_0, sv_0) - np.kron(sv_1, sv_1)) / np.sqrt(2)\n",
    "sv_b3 = (np.kron(sv_0, sv_1) + np.kron(sv_1, sv_0)) / np.sqrt(2)\n",
    "sv_b4 = (np.kron(sv_0, sv_1) - np.kron(sv_1, sv_0)) / np.sqrt(2)"
   ]
  },
  {
   "cell_type": "markdown",
   "id": "bW0kTvB0W0vz",
   "metadata": {
    "id": "bW0kTvB0W0vz"
   },
   "source": [
    "Inicializamos y ejecutamos el circuito:"
   ]
  },
  {
   "cell_type": "code",
   "execution_count": 45,
   "id": "ty_DOSuEW4Dn",
   "metadata": {
    "colab": {
     "base_uri": "https://localhost:8080/",
     "height": 40
    },
    "id": "ty_DOSuEW4Dn",
    "outputId": "94090a1f-9275-4df3-d96d-932be1b019e0"
   },
   "outputs": [
    {
     "data": {
      "text/latex": [
       "$$\\frac{\\sqrt{2}}{2} |00\\rangle+\\frac{\\sqrt{2}}{2} |11\\rangle$$"
      ],
      "text/plain": [
       "<IPython.core.display.Latex object>"
      ]
     },
     "execution_count": 45,
     "metadata": {},
     "output_type": "execute_result"
    }
   ],
   "source": [
    "qc_b1 = QuantumCircuit(2)\n",
    "qc_b1.initialize(sv_b1, qc_b1.qubits)\n",
    "draw_result_in_latex(qc_b1)"
   ]
  },
  {
   "cell_type": "code",
   "execution_count": 46,
   "id": "RYm8YlMTXFul",
   "metadata": {
    "colab": {
     "base_uri": "https://localhost:8080/",
     "height": 40
    },
    "id": "RYm8YlMTXFul",
    "outputId": "d146c0b9-0aa9-4c01-85d6-1d6a4ba7589d"
   },
   "outputs": [
    {
     "data": {
      "text/latex": [
       "$$\\frac{\\sqrt{2}}{2} |00\\rangle- \\frac{\\sqrt{2}}{2} |11\\rangle$$"
      ],
      "text/plain": [
       "<IPython.core.display.Latex object>"
      ]
     },
     "execution_count": 46,
     "metadata": {},
     "output_type": "execute_result"
    }
   ],
   "source": [
    "qc_b2 = QuantumCircuit(2)\n",
    "qc_b2.initialize(sv_b2, qc_b2.qubits)\n",
    "draw_result_in_latex(qc_b2)"
   ]
  },
  {
   "cell_type": "code",
   "execution_count": 47,
   "id": "mtJ9gYVyXKRz",
   "metadata": {
    "colab": {
     "base_uri": "https://localhost:8080/",
     "height": 40
    },
    "id": "mtJ9gYVyXKRz",
    "outputId": "68d39f70-f6f1-444a-dba8-8eb445649d73"
   },
   "outputs": [
    {
     "data": {
      "text/latex": [
       "$$\\frac{\\sqrt{2}}{2} |01\\rangle+\\frac{\\sqrt{2}}{2} |10\\rangle$$"
      ],
      "text/plain": [
       "<IPython.core.display.Latex object>"
      ]
     },
     "execution_count": 47,
     "metadata": {},
     "output_type": "execute_result"
    }
   ],
   "source": [
    "qc_b3 = QuantumCircuit(2)\n",
    "qc_b3.initialize(sv_b3, qc_b3.qubits)\n",
    "draw_result_in_latex(qc_b3)"
   ]
  },
  {
   "cell_type": "code",
   "execution_count": 48,
   "id": "DHBCmc31XKbw",
   "metadata": {
    "colab": {
     "base_uri": "https://localhost:8080/",
     "height": 40
    },
    "id": "DHBCmc31XKbw",
    "outputId": "148b13ba-274d-482b-c112-05ec6d8642e9"
   },
   "outputs": [
    {
     "data": {
      "text/latex": [
       "$$\\frac{\\sqrt{2}}{2} |01\\rangle- \\frac{\\sqrt{2}}{2} |10\\rangle$$"
      ],
      "text/plain": [
       "<IPython.core.display.Latex object>"
      ]
     },
     "execution_count": 48,
     "metadata": {},
     "output_type": "execute_result"
    }
   ],
   "source": [
    "qc_b4 = QuantumCircuit(2)\n",
    "qc_b4.initialize(sv_b4, qc_b4.qubits)\n",
    "draw_result_in_latex(qc_b4)"
   ]
  },
  {
   "cell_type": "markdown",
   "id": "LcRxZK5cXanA",
   "metadata": {
    "id": "LcRxZK5cXanA"
   },
   "source": [
    "## Punto 3:\n",
    "A partir de los vectores estado creados, encuentra la base computacional de $C^4$, es decir, por ejemplo, $|10⟩$. El resultado se debe visualizar en formato LaTex."
   ]
  },
  {
   "cell_type": "markdown",
   "id": "iKQPpRwBZ3Wo",
   "metadata": {
    "id": "iKQPpRwBZ3Wo"
   },
   "source": [
    "### Mediante puertas lógicas"
   ]
  },
  {
   "cell_type": "markdown",
   "id": "IjTTfmMQZ6BT",
   "metadata": {
    "id": "IjTTfmMQZ6BT"
   },
   "source": [
    "Creamos un circuito de 4 qubits"
   ]
  },
  {
   "cell_type": "code",
   "execution_count": 49,
   "id": "Z37Vj2XXXiR2",
   "metadata": {
    "id": "Z37Vj2XXXiR2"
   },
   "outputs": [],
   "source": [
    "qc_bc4 = QuantumCircuit(4)"
   ]
  },
  {
   "cell_type": "markdown",
   "id": "Dic3PWgyZ8mU",
   "metadata": {
    "id": "Dic3PWgyZ8mU"
   },
   "source": [
    "Aplicamos la puerta Hadamart para cada qubit, haciendo que cualquier estado tenga la misma posibilidad:"
   ]
  },
  {
   "cell_type": "code",
   "execution_count": 50,
   "id": "Bf4txGtuZrog",
   "metadata": {
    "id": "Bf4txGtuZrog"
   },
   "outputs": [],
   "source": [
    "for qubit in range(4):\n",
    "    qc_bc4.h(qubit)"
   ]
  },
  {
   "cell_type": "markdown",
   "id": "4Tt4Z4Z5aHPt",
   "metadata": {
    "id": "4Tt4Z4Z5aHPt"
   },
   "source": [
    "Ejecutamos el circuito"
   ]
  },
  {
   "cell_type": "code",
   "execution_count": 51,
   "id": "C6WmFgPYZYsu",
   "metadata": {
    "id": "C6WmFgPYZYsu"
   },
   "outputs": [],
   "source": [
    "job = backend.run(qc_bc4)\n",
    "result = job.result()\n",
    "sv = result.get_statevector()"
   ]
  },
  {
   "cell_type": "markdown",
   "id": "Z8xE8ZUaaKqA",
   "metadata": {
    "id": "Z8xE8ZUaaKqA"
   },
   "source": [
    "Obtenemos la base computacional a partir del diccionario de las probabilidades:"
   ]
  },
  {
   "cell_type": "code",
   "execution_count": 52,
   "id": "poT14_4NaOAF",
   "metadata": {
    "id": "poT14_4NaOAF"
   },
   "outputs": [],
   "source": [
    "computational_base = sv.probabilities_dict().keys()\n",
    "computational_base = [f\"|{key}⟩\" for key in computational_base]\n",
    "computational_base = \", \".join(computational_base)"
   ]
  },
  {
   "cell_type": "markdown",
   "id": "j2j151VKbEdV",
   "metadata": {
    "id": "j2j151VKbEdV"
   },
   "source": [
    "Lo mostramos en Latex"
   ]
  },
  {
   "cell_type": "code",
   "execution_count": 53,
   "id": "7nFCx3jMbGQN",
   "metadata": {
    "colab": {
     "base_uri": "https://localhost:8080/",
     "height": 37
    },
    "id": "7nFCx3jMbGQN",
    "outputId": "8512756a-bc96-4a40-ec29-cf1467472456"
   },
   "outputs": [
    {
     "data": {
      "text/latex": [
       "|0000⟩, |0001⟩, |0010⟩, |0011⟩, |0100⟩, |0101⟩, |0110⟩, |0111⟩, |1000⟩, |1001⟩, |1010⟩, |1011⟩, |1100⟩, |1101⟩, |1110⟩, |1111⟩"
      ],
      "text/plain": [
       "<IPython.core.display.Latex object>"
      ]
     },
     "metadata": {},
     "output_type": "display_data"
    }
   ],
   "source": [
    "display(Latex(computational_base))"
   ]
  },
  {
   "cell_type": "markdown",
   "id": "6lYi3B0FceG1",
   "metadata": {
    "id": "6lYi3B0FceG1"
   },
   "source": [
    "### Mediante inicialización con Numpy"
   ]
  },
  {
   "cell_type": "markdown",
   "id": "t90T4MIDfT_L",
   "metadata": {
    "id": "t90T4MIDfT_L"
   },
   "source": [
    "El código utiliza `itertools.product` para generar todas las combinaciones posibles de dos estados cuánticos $|0\\rangle$ y $|1\\rangle$ en un sistema de 4 qubits. Luego, se usa `np.kron` (producto tensorial de NumPy) para combinar estos estados en una lista llamada `computational_basis`. Esta lista contiene todos los estados resultantes de la base computacional de $C^4$.\n"
   ]
  },
  {
   "cell_type": "code",
   "execution_count": 54,
   "id": "4NqgTh1ZfTT3",
   "metadata": {
    "id": "4NqgTh1ZfTT3"
   },
   "outputs": [],
   "source": [
    "computational_basis = [\n",
    "    np.kron(states[0], np.kron(states[1], np.kron(states[2], states[3])))\n",
    "    for states in product([sv_0, sv_1], repeat=4)\n",
    "]"
   ]
  },
  {
   "cell_type": "markdown",
   "id": "9nHSUgWunc3j",
   "metadata": {
    "id": "9nHSUgWunc3j"
   },
   "source": [
    "Para entender como funciona, vemos cómo funciona itertools.product para el estado 0000"
   ]
  },
  {
   "cell_type": "code",
   "execution_count": 55,
   "id": "ChkEcl5pmcAf",
   "metadata": {
    "colab": {
     "base_uri": "https://localhost:8080/",
     "height": 0
    },
    "id": "ChkEcl5pmcAf",
    "outputId": "ddd5458e-48bb-4c04-d00e-f66aaee99a7a"
   },
   "outputs": [
    {
     "name": "stdout",
     "output_type": "stream",
     "text": [
      "(array([1, 0]), array([1, 0]), array([1, 0]), array([1, 0]))\n"
     ]
    }
   ],
   "source": [
    "state_0 = [states for states in product([sv_0, sv_1], repeat=4)][0]\n",
    "print(state_0)"
   ]
  },
  {
   "cell_type": "markdown",
   "id": "TSlrtW9Anorn",
   "metadata": {
    "id": "TSlrtW9Anorn"
   },
   "source": [
    "Para cada estado de cada cubit, se multiplica para obtener la matriz de densidad 0000"
   ]
  },
  {
   "cell_type": "code",
   "execution_count": 56,
   "id": "3w9QSLeimzVO",
   "metadata": {
    "colab": {
     "base_uri": "https://localhost:8080/",
     "height": 0
    },
    "id": "3w9QSLeimzVO",
    "outputId": "af9303f8-7d15-4468-e9e3-e911686573bd"
   },
   "outputs": [
    {
     "name": "stdout",
     "output_type": "stream",
     "text": [
      "[1 0 0 0]\n",
      "[1 0 0 0 0 0 0 0]\n",
      "[1 0 0 0 0 0 0 0 0 0 0 0 0 0 0 0]\n"
     ]
    }
   ],
   "source": [
    "kron_1 = np.kron(state_0[2], state_0[3])\n",
    "kron_2 = np.kron(state_0[1], kron_1)\n",
    "kron_3 = np.kron(state_0[0], kron_2)\n",
    "\n",
    "print(kron_1)\n",
    "print(kron_2)\n",
    "print(kron_3)"
   ]
  },
  {
   "cell_type": "markdown",
   "id": "Hvt-1EuHnwpj",
   "metadata": {
    "id": "Hvt-1EuHnwpj"
   },
   "source": [
    "Y finalmente obtenemos todos los estados posibles de $C^4$"
   ]
  },
  {
   "cell_type": "code",
   "execution_count": 57,
   "id": "dhqKiwu7lBBF",
   "metadata": {
    "colab": {
     "base_uri": "https://localhost:8080/",
     "height": 0
    },
    "id": "dhqKiwu7lBBF",
    "outputId": "44795603-d277-4aa8-c93f-3e981d2a9391"
   },
   "outputs": [
    {
     "data": {
      "text/plain": [
       "[array([1, 0, 0, 0, 0, 0, 0, 0, 0, 0, 0, 0, 0, 0, 0, 0]),\n",
       " array([0, 1, 0, 0, 0, 0, 0, 0, 0, 0, 0, 0, 0, 0, 0, 0]),\n",
       " array([0, 0, 1, 0, 0, 0, 0, 0, 0, 0, 0, 0, 0, 0, 0, 0]),\n",
       " array([0, 0, 0, 1, 0, 0, 0, 0, 0, 0, 0, 0, 0, 0, 0, 0]),\n",
       " array([0, 0, 0, 0, 1, 0, 0, 0, 0, 0, 0, 0, 0, 0, 0, 0]),\n",
       " array([0, 0, 0, 0, 0, 1, 0, 0, 0, 0, 0, 0, 0, 0, 0, 0]),\n",
       " array([0, 0, 0, 0, 0, 0, 1, 0, 0, 0, 0, 0, 0, 0, 0, 0]),\n",
       " array([0, 0, 0, 0, 0, 0, 0, 1, 0, 0, 0, 0, 0, 0, 0, 0]),\n",
       " array([0, 0, 0, 0, 0, 0, 0, 0, 1, 0, 0, 0, 0, 0, 0, 0]),\n",
       " array([0, 0, 0, 0, 0, 0, 0, 0, 0, 1, 0, 0, 0, 0, 0, 0]),\n",
       " array([0, 0, 0, 0, 0, 0, 0, 0, 0, 0, 1, 0, 0, 0, 0, 0]),\n",
       " array([0, 0, 0, 0, 0, 0, 0, 0, 0, 0, 0, 1, 0, 0, 0, 0]),\n",
       " array([0, 0, 0, 0, 0, 0, 0, 0, 0, 0, 0, 0, 1, 0, 0, 0]),\n",
       " array([0, 0, 0, 0, 0, 0, 0, 0, 0, 0, 0, 0, 0, 1, 0, 0]),\n",
       " array([0, 0, 0, 0, 0, 0, 0, 0, 0, 0, 0, 0, 0, 0, 1, 0]),\n",
       " array([0, 0, 0, 0, 0, 0, 0, 0, 0, 0, 0, 0, 0, 0, 0, 1])]"
      ]
     },
     "execution_count": 57,
     "metadata": {},
     "output_type": "execute_result"
    }
   ],
   "source": [
    "computational_basis"
   ]
  },
  {
   "cell_type": "markdown",
   "id": "R2wmQS-Zo0OM",
   "metadata": {
    "id": "R2wmQS-Zo0OM"
   },
   "source": []
  },
  {
   "cell_type": "code",
   "execution_count": 58,
   "id": "tCrk_74Aozwt",
   "metadata": {
    "id": "tCrk_74Aozwt"
   },
   "outputs": [],
   "source": [
    "latex_list = []\n",
    "for base in computational_basis:\n",
    "    qc_bc4 = QuantumCircuit(4)\n",
    "    qc_bc4.initialize(base, qc_bc4.qubits)\n",
    "    latex_list.append(result_in_latex_source(qc_bc4))\n",
    "latex_list = \", \".join(latex_list)"
   ]
  },
  {
   "cell_type": "code",
   "execution_count": 59,
   "id": "ormDlQTiptNb",
   "metadata": {
    "colab": {
     "base_uri": "https://localhost:8080/",
     "height": 37
    },
    "id": "ormDlQTiptNb",
    "outputId": "f1a171e9-425d-4754-a7c6-b0f3d15125e4"
   },
   "outputs": [
    {
     "data": {
      "text/latex": [
       " |0000\\rangle,  |0001\\rangle,  |0010\\rangle,  |0011\\rangle,  |0100\\rangle,  |0101\\rangle,  |0110\\rangle,  |0111\\rangle,  |1000\\rangle,  |1001\\rangle,  |1010\\rangle,  |1011\\rangle,  |1100\\rangle,  |1101\\rangle,  |1110\\rangle,  |1111\\rangle"
      ],
      "text/plain": [
       "<IPython.core.display.Latex object>"
      ]
     },
     "metadata": {},
     "output_type": "display_data"
    }
   ],
   "source": [
    "display(Latex(latex_list))"
   ]
  },
  {
   "cell_type": "markdown",
   "id": "5ajauKs1dXjd",
   "metadata": {
    "id": "5ajauKs1dXjd"
   },
   "source": [
    "## Punto 4:\n",
    "A partir de los vectores estados, halla los vectores $1/√2 |000⟩+1/√2|111⟩$, $i/√2 |000⟩-1/√2 |111⟩$, $1/√2 |000⟩+i/√2|111⟩$. Estos resultados deben quedar en formato LaTex."
   ]
  },
  {
   "cell_type": "markdown",
   "id": "NfkXf4vyqJYH",
   "metadata": {
    "id": "NfkXf4vyqJYH"
   },
   "source": [
    "### Mediante puertas lógicas"
   ]
  },
  {
   "cell_type": "code",
   "execution_count": 60,
   "id": "D1lQ7Y7VdUau",
   "metadata": {
    "colab": {
     "base_uri": "https://localhost:8080/",
     "height": 40
    },
    "id": "D1lQ7Y7VdUau",
    "outputId": "6be04bd9-1eb2-4291-b01b-35063231ac10"
   },
   "outputs": [
    {
     "data": {
      "text/latex": [
       "$$\\frac{\\sqrt{2}}{2} |000\\rangle+\\frac{\\sqrt{2}}{2} |111\\rangle$$"
      ],
      "text/plain": [
       "<IPython.core.display.Latex object>"
      ]
     },
     "execution_count": 60,
     "metadata": {},
     "output_type": "execute_result"
    }
   ],
   "source": [
    "qc_v1 = QuantumCircuit(3)\n",
    "qc_v1.h(0)\n",
    "qc_v1.cx(0, 1)\n",
    "qc_v1.cx(1, 2)\n",
    "draw_result_in_latex(qc_v1)"
   ]
  },
  {
   "cell_type": "code",
   "execution_count": 61,
   "id": "oYbcghX4tUDn",
   "metadata": {
    "colab": {
     "base_uri": "https://localhost:8080/",
     "height": 40
    },
    "id": "oYbcghX4tUDn",
    "outputId": "9f14f11c-cdbf-4a08-8ace-f009c4a35274"
   },
   "outputs": [
    {
     "data": {
      "text/latex": [
       "$$\\frac{\\sqrt{2}}{2} |000\\rangle- \\frac{\\sqrt{2} i}{2} |111\\rangle$$"
      ],
      "text/plain": [
       "<IPython.core.display.Latex object>"
      ]
     },
     "execution_count": 61,
     "metadata": {},
     "output_type": "execute_result"
    }
   ],
   "source": [
    "qc_v2 = QuantumCircuit(3)\n",
    "qc_v2.h(0)\n",
    "qc_v2.cx(0, 1)\n",
    "qc_v2.cx(1, 2)\n",
    "qc_v2.sdg(0)\n",
    "draw_result_in_latex(qc_v2)"
   ]
  },
  {
   "cell_type": "code",
   "execution_count": 62,
   "id": "YiQrOXfdtcvb",
   "metadata": {
    "colab": {
     "base_uri": "https://localhost:8080/",
     "height": 40
    },
    "id": "YiQrOXfdtcvb",
    "outputId": "e383e480-1bf9-4395-8751-606342b0a548"
   },
   "outputs": [
    {
     "data": {
      "text/latex": [
       "$$\\frac{\\sqrt{2}}{2} |000\\rangle+\\frac{\\sqrt{2} i}{2} |111\\rangle$$"
      ],
      "text/plain": [
       "<IPython.core.display.Latex object>"
      ]
     },
     "execution_count": 62,
     "metadata": {},
     "output_type": "execute_result"
    }
   ],
   "source": [
    "qc_v3 = QuantumCircuit(3)\n",
    "qc_v3.h(0)\n",
    "qc_v3.cx(0, 1)\n",
    "qc_v3.cx(1, 2)\n",
    "qc_v3.s(2)\n",
    "draw_result_in_latex(qc_v3)"
   ]
  },
  {
   "cell_type": "markdown",
   "id": "IjgTm2Zfq7cC",
   "metadata": {
    "id": "IjgTm2Zfq7cC"
   },
   "source": [
    "### Mediante inicialización con Numpy"
   ]
  },
  {
   "cell_type": "code",
   "execution_count": 63,
   "id": "OfytL16jq85z",
   "metadata": {
    "id": "OfytL16jq85z"
   },
   "outputs": [],
   "source": [
    "sv_v1 = np.kron(np.kron(sv_0, sv_0), sv_0) / np.sqrt(2) + np.kron(\n",
    "    np.kron(sv_1, sv_1), sv_1\n",
    ") / np.sqrt(2)\n",
    "sv_v2 = 1j * np.kron(np.kron(sv_0, sv_0), sv_0) / np.sqrt(2) - np.kron(\n",
    "    np.kron(sv_1, sv_1), sv_1\n",
    ") / np.sqrt(2)\n",
    "sv_v3 = np.kron(np.kron(sv_0, sv_0), sv_0) / np.sqrt(2) + 1j * np.kron(\n",
    "    np.kron(sv_1, sv_1), sv_1\n",
    ") / np.sqrt(2)"
   ]
  },
  {
   "cell_type": "markdown",
   "id": "q6jGjyLSrI9I",
   "metadata": {
    "id": "q6jGjyLSrI9I"
   },
   "source": [
    "Ejecutamos los circuitos de los estados"
   ]
  },
  {
   "cell_type": "code",
   "execution_count": 64,
   "id": "FKcCEGTnrJH0",
   "metadata": {
    "colab": {
     "base_uri": "https://localhost:8080/",
     "height": 40
    },
    "id": "FKcCEGTnrJH0",
    "outputId": "e01d0e7c-834d-4be3-b2ab-6c217b859a98"
   },
   "outputs": [
    {
     "data": {
      "text/latex": [
       "$$\\frac{\\sqrt{2}}{2} |000\\rangle+\\frac{\\sqrt{2}}{2} |111\\rangle$$"
      ],
      "text/plain": [
       "<IPython.core.display.Latex object>"
      ]
     },
     "execution_count": 64,
     "metadata": {},
     "output_type": "execute_result"
    }
   ],
   "source": [
    "qc_v1 = QuantumCircuit(3)\n",
    "qc_v1.initialize(sv_v1, qc_v1.qubits)\n",
    "draw_result_in_latex(qc_v1)"
   ]
  },
  {
   "cell_type": "code",
   "execution_count": 65,
   "id": "Ykn3jAWJrJt7",
   "metadata": {
    "colab": {
     "base_uri": "https://localhost:8080/",
     "height": 40
    },
    "id": "Ykn3jAWJrJt7",
    "outputId": "cd42cbfb-b06d-4680-b981-baab40d20394"
   },
   "outputs": [
    {
     "data": {
      "text/latex": [
       "$$\\frac{\\sqrt{2} i}{2} |000\\rangle- \\frac{\\sqrt{2}}{2} |111\\rangle$$"
      ],
      "text/plain": [
       "<IPython.core.display.Latex object>"
      ]
     },
     "execution_count": 65,
     "metadata": {},
     "output_type": "execute_result"
    }
   ],
   "source": [
    "qc_v2 = QuantumCircuit(3)\n",
    "qc_v2.initialize(sv_v2, qc_v2.qubits)\n",
    "draw_result_in_latex(qc_v2)"
   ]
  },
  {
   "cell_type": "code",
   "execution_count": 66,
   "id": "z98-G90ZrJ1y",
   "metadata": {
    "colab": {
     "base_uri": "https://localhost:8080/",
     "height": 40
    },
    "id": "z98-G90ZrJ1y",
    "outputId": "37573f6f-8cdf-4a60-e3c5-ee52e166ed92"
   },
   "outputs": [
    {
     "data": {
      "text/latex": [
       "$$\\frac{\\sqrt{2}}{2} |000\\rangle+\\frac{\\sqrt{2} i}{2} |111\\rangle$$"
      ],
      "text/plain": [
       "<IPython.core.display.Latex object>"
      ]
     },
     "execution_count": 66,
     "metadata": {},
     "output_type": "execute_result"
    }
   ],
   "source": [
    "qc_v3 = QuantumCircuit(3)\n",
    "qc_v3.initialize(sv_v3, qc_v3.qubits)\n",
    "draw_result_in_latex(qc_v3)"
   ]
  }
 ],
 "metadata": {
  "colab": {
   "provenance": []
  },
  "kernelspec": {
   "display_name": "Python 3 (ipykernel)",
   "language": "python",
   "name": "python3"
  },
  "language_info": {
   "codemirror_mode": {
    "name": "ipython",
    "version": 3
   },
   "file_extension": ".py",
   "mimetype": "text/x-python",
   "name": "python",
   "nbconvert_exporter": "python",
   "pygments_lexer": "ipython3",
   "version": "3.10.8"
  }
 },
 "nbformat": 4,
 "nbformat_minor": 5
}
