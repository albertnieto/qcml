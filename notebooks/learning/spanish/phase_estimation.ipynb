{
 "cells": [
  {
   "cell_type": "markdown",
   "metadata": {},
   "source": [
    "## Notebook Information\n",
    "\n",
    "**Master in Quantum Computing - UNIR**\n",
    "\n",
    "**Subject:** Quantum Computing\n",
    "\n",
    "**Notebook Activity by:** Albert Nieto Morales\n",
    "\n",
    "**Date:** 2024-02-05\n",
    "\n",
    "---\n",
    "\n",
    "*Note: This notebook is part of the Master's program in Quantum Computing at UNIR. The content focuses on Quantum Computing and was created by Albert Nieto. Please refer to the date for the latest update.*\n"
   ]
  },
  {
   "cell_type": "markdown",
   "metadata": {},
   "source": [
    "# Laboratorio: Estimación de fase\n",
    "\n",
    "Aplicar los conocimientos adquiridos para aplicar el algoritmo QPE (Quantum Phase Estimation) y determinar la fase de un operador unitario U. Para ello se utilizará el entorno de desarrollo de QISKit, Quantum Lab."
   ]
  },
  {
   "cell_type": "markdown",
   "metadata": {},
   "source": [
    "# Librerías"
   ]
  },
  {
   "cell_type": "markdown",
   "metadata": {},
   "source": [
    "Primero tenemos que instalar las bibliotecas necesarias para trabajar con Qiskit: las bibliotecas `qiskit`, `qiskit-ibmq-provider` y `qiskit-aer` (el comando mágico `%%capture` suprime la salida de la instalación de paquetes con pip).\n",
    "\n",
    "1. Qiskit: Librería general.\n",
    "2. Qiskit-ibmq-provider: Proporciona acceso a los servicios en la nube de IBM Quantum.\n",
    "3. Qiskit-aer: Ofrece simuladores de alto rendimiento para simular circuitos cuánticos."
   ]
  },
  {
   "cell_type": "code",
   "execution_count": 1,
   "metadata": {},
   "outputs": [],
   "source": [
    "%%capture\n",
    "%pip install qiskit\n",
    "%pip install qiskit-ibmq-provider\n",
    "%pip install qiskit-aer"
   ]
  },
  {
   "cell_type": "markdown",
   "metadata": {},
   "source": [
    "Importa las bibliotecas estándar de Qiskit, así como herramientas de visualización y carga la cuenta de IBM Quantum: `IBMProvider.save_account()` para guardar las credenciales de la cuenta de IBM Quantum."
   ]
  },
  {
   "cell_type": "code",
   "execution_count": 2,
   "metadata": {},
   "outputs": [],
   "source": [
    "# Importing standard Qiskit libraries\n",
    "from qiskit import *\n",
    "from qiskit.tools.jupyter import *\n",
    "from qiskit.visualization import *\n",
    "from qiskit_ibm_provider import IBMProvider\n",
    "\n",
    "# Other imports\n",
    "import matplotlib.pyplot as plt\n",
    "import numpy as np\n",
    "import math\n",
    "\n",
    "# Loading your IBM Quantum account(s)\n",
    "IBMProvider.save_account(\"\", overwrite=True)"
   ]
  },
  {
   "cell_type": "markdown",
   "metadata": {},
   "source": [
    "# Explicación del QPE"
   ]
  },
  {
   "cell_type": "markdown",
   "metadata": {},
   "source": [
    "## Definición"
   ]
  },
  {
   "cell_type": "markdown",
   "metadata": {},
   "source": [
    "### Operador Unitario\n",
    "El algoritmo de Estimación Cuántica de Fase (QPE) resuelve una tarea sencilla: dado un estado propio de un operador unitario, encontrar su valor propio. \n",
    "\n",
    "Tenemos un operador unitario $U$ y uno de sus estados propios $|\\psi\\rangle$. El operador es unitario, por lo que podemos escribir\n",
    "\n",
    "$$ U|\\psi\\rangle = e^{i\\phi}|\\psi\\rangle, $$\n",
    "\n",
    "donde $\\phi$ es la fase del valor propio. El objetivo es estimar $\\phi$, de ahí el nombre de estimación de fase. Llamaremos a $\\theta$ como la fase.\n"
   ]
  },
  {
   "cell_type": "markdown",
   "metadata": {},
   "source": [
    "### Representando la fase\n",
    "\n",
    "Definimos $\\phi = 2\\pi\\theta$ de modo que:\n",
    "- $\\theta$ sea un número comprendido entre 0 y 1, es decir, una fracción de $2\\pi$. \n",
    "- $\\phi$ esté entre 0 y $2\\pi$.\n",
    "\n",
    "Para poder representar $\\theta$ en un ordenador cuántico, lo tenemos que representar en binario: $\\theta' = 0.\\theta_1\\theta_2\\theta_3...\\theta_n$. Siendo $n$ la precisión deseada. Gracias a esto lo podemos codificar utilizando qubits."
   ]
  },
  {
   "cell_type": "markdown",
   "metadata": {},
   "source": [
    "Definimos una función que nos convertirá la fase que queramos a fracción:"
   ]
  },
  {
   "cell_type": "code",
   "execution_count": 3,
   "metadata": {},
   "outputs": [],
   "source": [
    "def phase_to_fraction(phase):\n",
    "    \"\"\"\n",
    "    Convert a phase angle in radians to a fraction of a full cycle.\n",
    "\n",
    "    Parameters:\n",
    "    - phase (float): The phase angle in radians.\n",
    "\n",
    "    Returns:\n",
    "    - float: The fraction of the phase angle compared to a full cycle (2π).\n",
    "    \"\"\"\n",
    "    return phase / (math.pi * 2)"
   ]
  },
  {
   "cell_type": "markdown",
   "metadata": {},
   "source": [
    "Definimos una función que nos convertirá la fracción decimal a fracción binaria:"
   ]
  },
  {
   "cell_type": "code",
   "execution_count": 4,
   "metadata": {},
   "outputs": [],
   "source": [
    "def fraction_to_binary(fraction: float, precision: int = 10) -> str:\n",
    "    \"\"\"\n",
    "    Convert a fraction to its binary representation.\n",
    "\n",
    "    1. Multiply br by 2.\n",
    "    2. If the result is greater than or equal to 1, append '1' to the binary representation and subtract 1 from the result.\n",
    "    3. If the result is less than 1, append '0' to the binary representation.\n",
    "    4. Repeat steps 1-3 until you either run out of precision or the result becomes zero.\n",
    "\n",
    "    Args:\n",
    "    - fraction (float): The fraction to be converted.\n",
    "    - precision (int): The number of binary digits after the decimal point. Default is 10.\n",
    "\n",
    "    Returns:\n",
    "    - str: The binary representation of the fraction.\n",
    "    \"\"\"\n",
    "\n",
    "    if fraction < 0:\n",
    "        return \"Fraction must be non-negative\"\n",
    "\n",
    "    integer_part = int(fraction)\n",
    "    fractional_part = fraction - integer_part\n",
    "\n",
    "    # Convert integer part to binary\n",
    "    integer_binary = bin(integer_part)[2:]\n",
    "\n",
    "    # If there's no fractional part, return just the integer binary\n",
    "    if fractional_part == 0:\n",
    "        return integer_binary\n",
    "\n",
    "    binary_frac = \".\"\n",
    "\n",
    "    # In binary representation, multiplying by 2 corresponds to shifting all digits one position to the left.\n",
    "    # This is equivalent to doubling the value in base 10.\n",
    "    while fractional_part > 0 and precision > 0:\n",
    "        fractional_part *= 2\n",
    "        if fractional_part >= 1:\n",
    "            binary_frac += \"1\"\n",
    "            fractional_part -= 1\n",
    "        else:\n",
    "            binary_frac += \"0\"\n",
    "        precision -= 1\n",
    "\n",
    "    return integer_binary + binary_frac"
   ]
  },
  {
   "cell_type": "markdown",
   "metadata": {},
   "source": [
    "Y de fracción binaria a decimal:"
   ]
  },
  {
   "cell_type": "code",
   "execution_count": 5,
   "metadata": {},
   "outputs": [],
   "source": [
    "def binary_to_fraction(binary_frac: str) -> float:\n",
    "    \"\"\"\n",
    "    Convert a binary fraction to its equivalent decimal fraction.\n",
    "\n",
    "    Args:\n",
    "    - binary_frac (str): The binary fraction to be converted.\n",
    "\n",
    "    Returns:\n",
    "    - float: The equivalent decimal fraction.\n",
    "    \"\"\"\n",
    "    # Check if the binary fraction is empty\n",
    "    if not binary_frac:\n",
    "        return 0.0\n",
    "\n",
    "    # Check if the binary fraction has no fractional part\n",
    "    if \".\" not in binary_frac:\n",
    "        return int(binary_frac)\n",
    "\n",
    "    # Split the binary fraction into its decimal and fractional parts\n",
    "    decimal_part, fractional_part = binary_frac.split(\".\")\n",
    "\n",
    "    # Convert the decimal part to decimal value\n",
    "    decimal_value = int(decimal_part, 2)\n",
    "\n",
    "    # Convert the fractional part to decimal value\n",
    "    # Sum the contribution of each bit in the fractional part\n",
    "    fractional_value = sum(\n",
    "        int(bit) * 2 ** -(i + 1) for i, bit in enumerate(fractional_part)\n",
    "    )\n",
    "\n",
    "    # Combine the decimal and fractional values to get the final decimal fraction\n",
    "    return float(decimal_value) + fractional_value"
   ]
  },
  {
   "cell_type": "markdown",
   "metadata": {},
   "source": [
    "Utilizando estas funciones podemos ver cuál es el resultado esperado para $\\pi/9$"
   ]
  },
  {
   "cell_type": "code",
   "execution_count": 6,
   "metadata": {},
   "outputs": [
    {
     "name": "stdout",
     "output_type": "stream",
     "text": [
      "Expected result in decimal:\t0.05555555555555555\n",
      "Expected result in binary:\t0.0000111000111000\n"
     ]
    }
   ],
   "source": [
    "expected_result = phase_to_fraction(math.pi / 9)\n",
    "expected_output = fraction_to_binary(expected_result, precision=16)\n",
    "\n",
    "print(f\"Expected result in decimal:\\t{expected_result}\")\n",
    "print(f\"Expected result in binary:\\t{expected_output}\")"
   ]
  },
  {
   "cell_type": "markdown",
   "metadata": {},
   "source": [
    "# Implementación\n",
    "\n",
    "El objetivo del ejercicio es estimar, con la suficiente precisión, la fase del operador unitario $U$ que aplica una rotación con respecto al eje $Z$ de $\\frac{\\pi}{9}$ al estado $|1\\rangle$:\n",
    "\n",
    "$$ U|1\\rangle = e^{i\\frac{\\pi}{9}} |1\\rangle $$\n",
    "\n",
    "Para ello creamos el circuito en una función, para en un futuro crear fácilmente un circuito con cualquier cantidad de qubits y la fase que se requiera."
   ]
  },
  {
   "cell_type": "code",
   "execution_count": 7,
   "metadata": {},
   "outputs": [],
   "source": [
    "from qiskit import QuantumCircuit, QuantumRegister, ClassicalRegister\n",
    "from qiskit.circuit.library import QFT\n",
    "\n",
    "\n",
    "def QPE(pq, phase):\n",
    "    \"\"\"\n",
    "    Quantum Phase Estimation (QPE) algorithm implementation.\n",
    "\n",
    "    Parameters:\n",
    "    - pq (int): The number of precision qubits.\n",
    "    - phase (float): The phase to be estimated, represented as a fraction of pi.\n",
    "\n",
    "    Returns:\n",
    "    - QuantumCircuit: The quantum circuit implementing the QPE algorithm.\n",
    "    \"\"\"\n",
    "    # Initialize the quantum circuit\n",
    "    qreg = QuantumRegister(pq + 1, \"q\")\n",
    "    creg = ClassicalRegister(pq, \"ac\")\n",
    "    qc = QuantumCircuit(qreg, creg)\n",
    "\n",
    "    # Add Hadamart gates to precision qubits\n",
    "    qc.h(range(pq))\n",
    "\n",
    "    # Add Pauli-X to the eigenvector qubit\n",
    "    qc.x(pq)\n",
    "\n",
    "    # Add controlled U-gates\n",
    "    repetitions = 1\n",
    "    for i in range(pq):\n",
    "        for _ in range(repetitions):\n",
    "            qc.cp(theta=phase, control_qubit=i, target_qubit=pq)\n",
    "        repetitions *= 2\n",
    "\n",
    "    # Add inversed QFT to the precision qubits\n",
    "    inverse_qft = QFT(num_qubits=pq, inverse=True)\n",
    "    qc.append(inverse_qft, qargs=qreg[:pq])\n",
    "\n",
    "    # Measure precision qubits\n",
    "    qc.measure(qreg[:pq], creg)\n",
    "\n",
    "    return qc"
   ]
  },
  {
   "cell_type": "markdown",
   "metadata": {},
   "source": [
    "Para no generar un diagrama del circuito muy extenso, probemos a diseñar un circuito con 3 qubits de precisión:"
   ]
  },
  {
   "cell_type": "code",
   "execution_count": 8,
   "metadata": {},
   "outputs": [
    {
     "name": "stderr",
     "output_type": "stream",
     "text": [
      "c:\\Users\\Asus\\AppData\\Local\\Programs\\Python\\Python310\\lib\\site-packages\\qiskit\\visualization\\circuit\\matplotlib.py:266: FutureWarning: The default matplotlib drawer scheme will be changed to \"iqp\" in a following release. To silence this warning, specify the current default explicitly as style=\"clifford\", or the new default as style=\"iqp\".\n",
      "  self._style, def_font_ratio = load_style(self._style)\n"
     ]
    },
    {
     "data": {
      "image/png": "[encoded data removed]",
      "text/plain": [
       "<Figure size 1708.89x451.5 with 1 Axes>"
      ]
     },
     "execution_count": 8,
     "metadata": {},
     "output_type": "execute_result"
    }
   ],
   "source": [
    "precision_qubits = 3\n",
    "phase = math.pi / 9\n",
    "\n",
    "qc = QPE(precision_qubits, phase)\n",
    "qc.draw(\"mpl\")"
   ]
  },
  {
   "cell_type": "markdown",
   "metadata": {},
   "source": [
    "# Ejecución del circuito"
   ]
  },
  {
   "cell_type": "markdown",
   "metadata": {},
   "source": [
    "Diseñemos una función que ejecute el circuito y formatee el resultado en fracción binaria:"
   ]
  },
  {
   "cell_type": "code",
   "execution_count": 9,
   "metadata": {},
   "outputs": [],
   "source": [
    "from qiskit import Aer, transpile, execute\n",
    "\n",
    "\n",
    "def run_QPE(qc):\n",
    "    \"\"\"\n",
    "    Execute the Quantum Phase Estimation (QPE) algorithm on a given quantum circuit.\n",
    "\n",
    "    Parameters:\n",
    "    - qc (QuantumCircuit): The QPE quantum circuit to execute.\n",
    "\n",
    "    Returns:\n",
    "    - dict: A dictionary containing the results of the circuit execution,\n",
    "            where the keys represent the estimated phases and the values are the\n",
    "            corresponding observation frequencies.\n",
    "    \"\"\"\n",
    "    # Run the quantum circuit on a aer_simulator simulator backend\n",
    "    backend = Aer.get_backend(\"statevector_simulator\")\n",
    "\n",
    "    # Transpile the quantum circuit for the selected backend due to QFT\n",
    "    qct = transpile(circuits=qc, backend=backend)\n",
    "\n",
    "    # Execute the quantum circuit and get the results\n",
    "    result = execute(qct, backend=backend, shots=1000).result()\n",
    "    counts = result.get_counts(qct)\n",
    "\n",
    "    # Format the results so that the keys represent the estimated phases\n",
    "    formated_counts = {f\"0.{k}\": v for (k, v) in counts.items()}\n",
    "    return formated_counts"
   ]
  },
  {
   "cell_type": "markdown",
   "metadata": {},
   "source": [
    "Lo vamos a ejecutar 1000 veces en un simulador y mostramos los datos en un histograma."
   ]
  },
  {
   "cell_type": "code",
   "execution_count": 10,
   "metadata": {},
   "outputs": [
    {
     "data": {
      "image/png": "[encoded data removed]",
      "text/plain": [
       "<Figure size 700x500 with 1 Axes>"
      ]
     },
     "execution_count": 10,
     "metadata": {},
     "output_type": "execute_result"
    }
   ],
   "source": [
    "from qiskit.visualization import plot_histogram\n",
    "\n",
    "result = run_QPE(qc)\n",
    "plot_histogram(data=result, number_to_keep=5, sort=\"asc\")"
   ]
  },
  {
   "cell_type": "markdown",
   "metadata": {},
   "source": [
    "Recordemos cuál es el resultado esperado:"
   ]
  },
  {
   "cell_type": "code",
   "execution_count": 11,
   "metadata": {},
   "outputs": [
    {
     "name": "stdout",
     "output_type": "stream",
     "text": [
      "Expected result in decimal:\t0.05555555555555555\n",
      "Expected result in binary:\t0.0000111000111000\n"
     ]
    }
   ],
   "source": [
    "expected_result = phase_to_fraction(phase)\n",
    "expected_output = fraction_to_binary(expected_result, precision=16)\n",
    "\n",
    "print(f\"Expected result in decimal:\\t{expected_result}\")\n",
    "print(f\"Expected result in binary:\\t{expected_output}\")"
   ]
  },
  {
   "cell_type": "markdown",
   "metadata": {},
   "source": [
    "Para el circuito de prueba de 3 bits de precisión definido anteriormente, vemos que el algoritmo funciona correctamente, estimando con más posibilidad la opción correcta. Vemos que si tuviésemos más qubits de precisión, podríamos conseguir el resultado correcto. \n",
    "\n",
    "Evidentemente el resultado no es correcto, porque si tranformamos el valor de binario a decimal nos da 0, pero vemos que si truncamos el resultado esperado con los qubits de precisión, el resultado es correcto."
   ]
  },
  {
   "cell_type": "markdown",
   "metadata": {},
   "source": [
    "Utilizando las funciones anteriormente mencionadas, ejecutemos el circuito QPE de 1 a 18 qubits de precision para poder estimar el número óptimo de qubits."
   ]
  },
  {
   "cell_type": "code",
   "execution_count": 12,
   "metadata": {},
   "outputs": [
    {
     "name": "stdout",
     "output_type": "stream",
     "text": [
      "Simulating with 1 qubits done.\n",
      "Simulating with 2 qubits done.\n",
      "Simulating with 3 qubits done.\n",
      "Simulating with 4 qubits done.\n",
      "Simulating with 5 qubits done.\n",
      "Simulating with 6 qubits done.\n",
      "Simulating with 7 qubits done.\n",
      "Simulating with 8 qubits done.\n",
      "Simulating with 9 qubits done.\n",
      "Simulating with 10 qubits done.\n",
      "Simulating with 11 qubits done.\n",
      "Simulating with 12 qubits done.\n",
      "Simulating with 13 qubits done.\n",
      "Simulating with 14 qubits done.\n",
      "Simulating with 15 qubits done.\n",
      "Simulating with 16 qubits done.\n",
      "Simulating with 17 qubits done.\n",
      "Simulating with 18 qubits done.\n"
     ]
    }
   ],
   "source": [
    "phase = math.pi / 9\n",
    "precision_qubits = 18\n",
    "expected_result = phase_to_fraction(phase)\n",
    "expected_output = fraction_to_binary(expected_result, precision=16)\n",
    "results = []\n",
    "\n",
    "# Loop through each number of precision qubit\n",
    "for i in range(1, precision_qubits + 1):\n",
    "    qc = QPE(i, phase)\n",
    "    result = run_QPE(qc)\n",
    "\n",
    "    # Find the outcome with the highest probability\n",
    "    highest_outcome, highest_probability = max(result.items(), key=lambda item: item[1])\n",
    "\n",
    "    # Calculate the percentage of occurrence of the highest outcome\n",
    "    percentage = int((highest_probability / 1000) * 100)\n",
    "\n",
    "    # Convert the highest outcome from binary to decimal fraction\n",
    "    decimal_fraction = binary_to_fraction(highest_outcome)\n",
    "\n",
    "    # Check if the truncated valid is True (if the expected output matches the highest outcome)\n",
    "    truncate_valid = expected_output[: i + 2] == highest_outcome\n",
    "\n",
    "    # Append the results for this iteration to the results list\n",
    "    results.append(\n",
    "        [\n",
    "            i,\n",
    "            highest_outcome,\n",
    "            highest_probability / 1000,\n",
    "            truncate_valid,\n",
    "            decimal_fraction,\n",
    "        ]\n",
    "    )\n",
    "\n",
    "    print(f\"Simulating with {i} qubits done.\")"
   ]
  },
  {
   "cell_type": "markdown",
   "metadata": {},
   "source": [
    "Imprimimos una tabla con los resultados: número de qubits, el resultado con probabilidad más alta, su probabilidad, el resultado en decimal y un booleano que indica que si truncamos el valor esperado con el número de qubits de precision, da lo mismo."
   ]
  },
  {
   "cell_type": "code",
   "execution_count": 13,
   "metadata": {},
   "outputs": [
    {
     "name": "stderr",
     "output_type": "stream",
     "text": [
      "C:\\Users\\Asus\\AppData\\Local\\Temp\\ipykernel_25120\\3285665193.py:5: FutureWarning: this method is deprecated in favour of `Styler.hide(axis=\"index\")`\n",
      "  df = df.style.hide_index()\n"
     ]
    },
    {
     "data": {
      "text/html": [
       "<style type=\"text/css\">\n",
       "</style>\n",
       "<table id=\"T_ced4e\">\n",
       "  <thead>\n",
       "    <tr>\n",
       "      <th id=\"T_ced4e_level0_col0\" class=\"col_heading level0 col0\" >Precision qubits</th>\n",
       "      <th id=\"T_ced4e_level0_col1\" class=\"col_heading level0 col1\" >Output in binary</th>\n",
       "      <th id=\"T_ced4e_level0_col2\" class=\"col_heading level0 col2\" >Probability</th>\n",
       "      <th id=\"T_ced4e_level0_col3\" class=\"col_heading level0 col3\" >Truncate_valid</th>\n",
       "      <th id=\"T_ced4e_level0_col4\" class=\"col_heading level0 col4\" >Output in decimal</th>\n",
       "    </tr>\n",
       "  </thead>\n",
       "  <tbody>\n",
       "    <tr>\n",
       "      <td id=\"T_ced4e_row0_col0\" class=\"data row0 col0\" >1</td>\n",
       "      <td id=\"T_ced4e_row0_col1\" class=\"data row0 col1\" >0.0</td>\n",
       "      <td id=\"T_ced4e_row0_col2\" class=\"data row0 col2\" >0.977000</td>\n",
       "      <td id=\"T_ced4e_row0_col3\" class=\"data row0 col3\" >True</td>\n",
       "      <td id=\"T_ced4e_row0_col4\" class=\"data row0 col4\" >0.000000</td>\n",
       "    </tr>\n",
       "    <tr>\n",
       "      <td id=\"T_ced4e_row1_col0\" class=\"data row1 col0\" >2</td>\n",
       "      <td id=\"T_ced4e_row1_col1\" class=\"data row1 col1\" >0.00</td>\n",
       "      <td id=\"T_ced4e_row1_col2\" class=\"data row1 col2\" >0.852000</td>\n",
       "      <td id=\"T_ced4e_row1_col3\" class=\"data row1 col3\" >True</td>\n",
       "      <td id=\"T_ced4e_row1_col4\" class=\"data row1 col4\" >0.000000</td>\n",
       "    </tr>\n",
       "    <tr>\n",
       "      <td id=\"T_ced4e_row2_col0\" class=\"data row2 col0\" >3</td>\n",
       "      <td id=\"T_ced4e_row2_col1\" class=\"data row2 col1\" >0.000</td>\n",
       "      <td id=\"T_ced4e_row2_col2\" class=\"data row2 col2\" >0.496000</td>\n",
       "      <td id=\"T_ced4e_row2_col3\" class=\"data row2 col3\" >True</td>\n",
       "      <td id=\"T_ced4e_row2_col4\" class=\"data row2 col4\" >0.000000</td>\n",
       "    </tr>\n",
       "    <tr>\n",
       "      <td id=\"T_ced4e_row3_col0\" class=\"data row3 col0\" >4</td>\n",
       "      <td id=\"T_ced4e_row3_col1\" class=\"data row3 col1\" >0.0001</td>\n",
       "      <td id=\"T_ced4e_row3_col2\" class=\"data row3 col2\" >0.970000</td>\n",
       "      <td id=\"T_ced4e_row3_col3\" class=\"data row3 col3\" >False</td>\n",
       "      <td id=\"T_ced4e_row3_col4\" class=\"data row3 col4\" >0.062500</td>\n",
       "    </tr>\n",
       "    <tr>\n",
       "      <td id=\"T_ced4e_row4_col0\" class=\"data row4 col0\" >5</td>\n",
       "      <td id=\"T_ced4e_row4_col1\" class=\"data row4 col1\" >0.00010</td>\n",
       "      <td id=\"T_ced4e_row4_col2\" class=\"data row4 col2\" >0.839000</td>\n",
       "      <td id=\"T_ced4e_row4_col3\" class=\"data row4 col3\" >False</td>\n",
       "      <td id=\"T_ced4e_row4_col4\" class=\"data row4 col4\" >0.062500</td>\n",
       "    </tr>\n",
       "    <tr>\n",
       "      <td id=\"T_ced4e_row5_col0\" class=\"data row5 col0\" >6</td>\n",
       "      <td id=\"T_ced4e_row5_col1\" class=\"data row5 col1\" >0.000100</td>\n",
       "      <td id=\"T_ced4e_row5_col2\" class=\"data row5 col2\" >0.518000</td>\n",
       "      <td id=\"T_ced4e_row5_col3\" class=\"data row5 col3\" >False</td>\n",
       "      <td id=\"T_ced4e_row5_col4\" class=\"data row5 col4\" >0.062500</td>\n",
       "    </tr>\n",
       "    <tr>\n",
       "      <td id=\"T_ced4e_row6_col0\" class=\"data row6 col0\" >7</td>\n",
       "      <td id=\"T_ced4e_row6_col1\" class=\"data row6 col1\" >0.0000111</td>\n",
       "      <td id=\"T_ced4e_row6_col2\" class=\"data row6 col2\" >0.954000</td>\n",
       "      <td id=\"T_ced4e_row6_col3\" class=\"data row6 col3\" >True</td>\n",
       "      <td id=\"T_ced4e_row6_col4\" class=\"data row6 col4\" >0.054688</td>\n",
       "    </tr>\n",
       "    <tr>\n",
       "      <td id=\"T_ced4e_row7_col0\" class=\"data row7 col0\" >8</td>\n",
       "      <td id=\"T_ced4e_row7_col1\" class=\"data row7 col1\" >0.00001110</td>\n",
       "      <td id=\"T_ced4e_row7_col2\" class=\"data row7 col2\" >0.846000</td>\n",
       "      <td id=\"T_ced4e_row7_col3\" class=\"data row7 col3\" >True</td>\n",
       "      <td id=\"T_ced4e_row7_col4\" class=\"data row7 col4\" >0.054688</td>\n",
       "    </tr>\n",
       "    <tr>\n",
       "      <td id=\"T_ced4e_row8_col0\" class=\"data row8 col0\" >9</td>\n",
       "      <td id=\"T_ced4e_row8_col1\" class=\"data row8 col1\" >0.000011100</td>\n",
       "      <td id=\"T_ced4e_row8_col2\" class=\"data row8 col2\" >0.472000</td>\n",
       "      <td id=\"T_ced4e_row8_col3\" class=\"data row8 col3\" >True</td>\n",
       "      <td id=\"T_ced4e_row8_col4\" class=\"data row8 col4\" >0.054688</td>\n",
       "    </tr>\n",
       "    <tr>\n",
       "      <td id=\"T_ced4e_row9_col0\" class=\"data row9 col0\" >10</td>\n",
       "      <td id=\"T_ced4e_row9_col1\" class=\"data row9 col1\" >0.0000111001</td>\n",
       "      <td id=\"T_ced4e_row9_col2\" class=\"data row9 col2\" >0.965000</td>\n",
       "      <td id=\"T_ced4e_row9_col3\" class=\"data row9 col3\" >False</td>\n",
       "      <td id=\"T_ced4e_row9_col4\" class=\"data row9 col4\" >0.055664</td>\n",
       "    </tr>\n",
       "    <tr>\n",
       "      <td id=\"T_ced4e_row10_col0\" class=\"data row10 col0\" >11</td>\n",
       "      <td id=\"T_ced4e_row10_col1\" class=\"data row10 col1\" >0.00001110010</td>\n",
       "      <td id=\"T_ced4e_row10_col2\" class=\"data row10 col2\" >0.847000</td>\n",
       "      <td id=\"T_ced4e_row10_col3\" class=\"data row10 col3\" >False</td>\n",
       "      <td id=\"T_ced4e_row10_col4\" class=\"data row10 col4\" >0.055664</td>\n",
       "    </tr>\n",
       "    <tr>\n",
       "      <td id=\"T_ced4e_row11_col0\" class=\"data row11 col0\" >12</td>\n",
       "      <td id=\"T_ced4e_row11_col1\" class=\"data row11 col1\" >0.000011100100</td>\n",
       "      <td id=\"T_ced4e_row11_col2\" class=\"data row11 col2\" >0.499000</td>\n",
       "      <td id=\"T_ced4e_row11_col3\" class=\"data row11 col3\" >False</td>\n",
       "      <td id=\"T_ced4e_row11_col4\" class=\"data row11 col4\" >0.055664</td>\n",
       "    </tr>\n",
       "    <tr>\n",
       "      <td id=\"T_ced4e_row12_col0\" class=\"data row12 col0\" >13</td>\n",
       "      <td id=\"T_ced4e_row12_col1\" class=\"data row12 col1\" >0.0000111000111</td>\n",
       "      <td id=\"T_ced4e_row12_col2\" class=\"data row12 col2\" >0.962000</td>\n",
       "      <td id=\"T_ced4e_row12_col3\" class=\"data row12 col3\" >True</td>\n",
       "      <td id=\"T_ced4e_row12_col4\" class=\"data row12 col4\" >0.055542</td>\n",
       "    </tr>\n",
       "    <tr>\n",
       "      <td id=\"T_ced4e_row13_col0\" class=\"data row13 col0\" >14</td>\n",
       "      <td id=\"T_ced4e_row13_col1\" class=\"data row13 col1\" >0.00001110001110</td>\n",
       "      <td id=\"T_ced4e_row13_col2\" class=\"data row13 col2\" >0.827000</td>\n",
       "      <td id=\"T_ced4e_row13_col3\" class=\"data row13 col3\" >True</td>\n",
       "      <td id=\"T_ced4e_row13_col4\" class=\"data row13 col4\" >0.055542</td>\n",
       "    </tr>\n",
       "    <tr>\n",
       "      <td id=\"T_ced4e_row14_col0\" class=\"data row14 col0\" >15</td>\n",
       "      <td id=\"T_ced4e_row14_col1\" class=\"data row14 col1\" >0.000011100011100</td>\n",
       "      <td id=\"T_ced4e_row14_col2\" class=\"data row14 col2\" >0.513000</td>\n",
       "      <td id=\"T_ced4e_row14_col3\" class=\"data row14 col3\" >True</td>\n",
       "      <td id=\"T_ced4e_row14_col4\" class=\"data row14 col4\" >0.055542</td>\n",
       "    </tr>\n",
       "    <tr>\n",
       "      <td id=\"T_ced4e_row15_col0\" class=\"data row15 col0\" >16</td>\n",
       "      <td id=\"T_ced4e_row15_col1\" class=\"data row15 col1\" >0.0000111000111001</td>\n",
       "      <td id=\"T_ced4e_row15_col2\" class=\"data row15 col2\" >0.967000</td>\n",
       "      <td id=\"T_ced4e_row15_col3\" class=\"data row15 col3\" >False</td>\n",
       "      <td id=\"T_ced4e_row15_col4\" class=\"data row15 col4\" >0.055557</td>\n",
       "    </tr>\n",
       "    <tr>\n",
       "      <td id=\"T_ced4e_row16_col0\" class=\"data row16 col0\" >17</td>\n",
       "      <td id=\"T_ced4e_row16_col1\" class=\"data row16 col1\" >0.00001110001110010</td>\n",
       "      <td id=\"T_ced4e_row16_col2\" class=\"data row16 col2\" >0.825000</td>\n",
       "      <td id=\"T_ced4e_row16_col3\" class=\"data row16 col3\" >False</td>\n",
       "      <td id=\"T_ced4e_row16_col4\" class=\"data row16 col4\" >0.055557</td>\n",
       "    </tr>\n",
       "    <tr>\n",
       "      <td id=\"T_ced4e_row17_col0\" class=\"data row17 col0\" >18</td>\n",
       "      <td id=\"T_ced4e_row17_col1\" class=\"data row17 col1\" >0.000011100011100100</td>\n",
       "      <td id=\"T_ced4e_row17_col2\" class=\"data row17 col2\" >0.482000</td>\n",
       "      <td id=\"T_ced4e_row17_col3\" class=\"data row17 col3\" >False</td>\n",
       "      <td id=\"T_ced4e_row17_col4\" class=\"data row17 col4\" >0.055557</td>\n",
       "    </tr>\n",
       "  </tbody>\n",
       "</table>\n"
      ],
      "text/plain": [
       "<pandas.io.formats.style.Styler at 0x2a400885f30>"
      ]
     },
     "execution_count": 13,
     "metadata": {},
     "output_type": "execute_result"
    }
   ],
   "source": [
    "import pandas\n",
    "\n",
    "headers = [\n",
    "    \"Precision qubits\",\n",
    "    \"Output in binary\",\n",
    "    \"Probability\",\n",
    "    \"Truncate_valid\",\n",
    "    \"Output in decimal\",\n",
    "]\n",
    "df = pandas.DataFrame(data=results, columns=headers)\n",
    "df = df.style.hide_index()\n",
    "print(df.to_latex())"
   ]
  },
  {
   "cell_type": "markdown",
   "metadata": {},
   "source": [
    "Si tenemos en cuenta el resultado pasado a decimal, el resultado óptimo sería con 7 o 10 qubits de precisión. A partir de 16 qubits de precisión, obtenemos el resultado de manera muy precisa.\n",
    "\n",
    "Vemos que hay algunos resultados que son perfectamente precisos en representación binaria, pero hay algunos que, aunque recoge la periodicidad, se equivoca en los últimos bits.  Los que están correctos, los marcaremos con un círculo y los erróneos con una X. Veamos estos datos en una gráfica. "
   ]
  },
  {
   "cell_type": "code",
   "execution_count": 14,
   "metadata": {},
   "outputs": [
    {
     "data": {
      "image/png": "[encoded data removed]",
      "text/plain": [
       "<Figure size 640x480 with 1 Axes>"
      ]
     },
     "metadata": {},
     "output_type": "display_data"
    }
   ],
   "source": [
    "import matplotlib.pyplot as plt\n",
    "\n",
    "# Initialize lists to store data for lines\n",
    "x_values = []\n",
    "y_values = []\n",
    "\n",
    "for n_qubits, output, percentage, expected, _ in results:\n",
    "    if expected:\n",
    "        plt.plot(\n",
    "            n_qubits, percentage, \"o\", color=\"blue\", markersize=10\n",
    "        )  # True: plot a circle\n",
    "    else:\n",
    "        plt.plot(\n",
    "            n_qubits, percentage, \"x\", color=\"blue\", markersize=10\n",
    "        )  # False: plot a cross\n",
    "\n",
    "    x_values.append(n_qubits)\n",
    "    y_values.append(percentage)\n",
    "\n",
    "# Plot lines\n",
    "plt.plot(x_values, y_values, linestyle=\"-\", color=\"blue\")  # Draw lines between points\n",
    "\n",
    "# Add labels and title\n",
    "plt.xlabel(\"Number of qubits\")\n",
    "plt.ylabel(\"Percentage\")\n",
    "plt.title(f\"Optimal Qubits for QPE with phase {phase}\")\n",
    "\n",
    "# Show the plot\n",
    "plt.grid(True)\n",
    "plt.show()"
   ]
  },
  {
   "cell_type": "markdown",
   "metadata": {},
   "source": [
    "Claramente vemos un patrón en los resultados. Tanto en la probabilidad de que el resultado sea correcto, como en la precisión del resultado. Además existe una ligera tendencia a que la probabilidad baje al aumentar los qubits, aunque se tendría que probar con más qubits para confirmar esta tendencia. Debido al inmenso tiempo que tardan las ejecuciones a partir de 16 qubits, he limitado la comparativa a 18 qubits.\n",
    "\n",
    "\n",
    "Según la precisión que quisiéramos en nuestro resultado, el número de qubits más óptimo sería 1, 7 y 13 qubits. Si el patrón siguiera, el número de qubits óptimos para la precisión requerida sería: \n",
    "$$1 + (n - 1) \\times 6$$ \n",
    "o si no nos importa que haya algún bit incorrecto:\n",
    "$$1 + (n - 1) \\times 3$$"
   ]
  },
  {
   "cell_type": "markdown",
   "metadata": {},
   "source": [
    "# Extensión de la comprobación\n",
    "Probemos que esta tendencia existe también para otras fases, por ejemplo $\\pi/15$"
   ]
  },
  {
   "cell_type": "code",
   "execution_count": 15,
   "metadata": {},
   "outputs": [],
   "source": [
    "phase = math.pi / 15"
   ]
  },
  {
   "cell_type": "markdown",
   "metadata": {},
   "source": [
    "El resultado esperado sería:"
   ]
  },
  {
   "cell_type": "code",
   "execution_count": 16,
   "metadata": {},
   "outputs": [
    {
     "name": "stdout",
     "output_type": "stream",
     "text": [
      "Expected result in decimal:\t0.03333333333333333\n",
      "Expected result in binary:\t0.0000100010001000\n"
     ]
    }
   ],
   "source": [
    "expected_result = phase_to_fraction(phase)\n",
    "expected_output = fraction_to_binary(expected_result, precision=16)\n",
    "\n",
    "print(f\"Expected result in decimal:\\t{expected_result}\")\n",
    "print(f\"Expected result in binary:\\t{expected_output}\")"
   ]
  },
  {
   "cell_type": "markdown",
   "metadata": {},
   "source": [
    "Ejecutamos el mismo número de veces el circuito para esta fase:"
   ]
  },
  {
   "cell_type": "code",
   "execution_count": 17,
   "metadata": {},
   "outputs": [
    {
     "name": "stdout",
     "output_type": "stream",
     "text": [
      "Simulating with 1 qubits done.\n",
      "Simulating with 2 qubits done.\n",
      "Simulating with 3 qubits done.\n",
      "Simulating with 4 qubits done.\n",
      "Simulating with 5 qubits done.\n",
      "Simulating with 6 qubits done.\n",
      "Simulating with 7 qubits done.\n",
      "Simulating with 8 qubits done.\n",
      "Simulating with 9 qubits done.\n",
      "Simulating with 10 qubits done.\n",
      "Simulating with 11 qubits done.\n",
      "Simulating with 12 qubits done.\n",
      "Simulating with 13 qubits done.\n",
      "Simulating with 14 qubits done.\n",
      "Simulating with 15 qubits done.\n",
      "Simulating with 16 qubits done.\n"
     ]
    }
   ],
   "source": [
    "precision_qubits = 16\n",
    "expected_result = phase_to_fraction(phase)\n",
    "expected_output = fraction_to_binary(expected_result, precision=16)\n",
    "results = []\n",
    "\n",
    "# Loop through each number of precision qubit\n",
    "for i in range(1, precision_qubits + 1):\n",
    "    qc = QPE(i, phase)\n",
    "    result = run_QPE(qc)\n",
    "\n",
    "    # Find the outcome with the highest probability\n",
    "    highest_outcome, highest_probability = max(result.items(), key=lambda item: item[1])\n",
    "\n",
    "    # Calculate the percentage of occurrence of the highest outcome\n",
    "    percentage = int((highest_probability / 1000) * 100)\n",
    "\n",
    "    # Convert the highest outcome from binary to decimal fraction\n",
    "    decimal_fraction = binary_to_fraction(highest_outcome)\n",
    "\n",
    "    # Check if the truncated valid is True (if the expected output matches the highest outcome)\n",
    "    truncate_valid = expected_output[: i + 2] == highest_outcome\n",
    "\n",
    "    # Append the results for this iteration to the results list\n",
    "    results.append(\n",
    "        [\n",
    "            i,\n",
    "            highest_outcome,\n",
    "            highest_probability / 1000,\n",
    "            truncate_valid,\n",
    "            decimal_fraction,\n",
    "        ]\n",
    "    )\n",
    "\n",
    "    print(f\"Simulating with {i} qubits done.\")"
   ]
  },
  {
   "cell_type": "markdown",
   "metadata": {},
   "source": [
    "Imprimimos los resultados:"
   ]
  },
  {
   "cell_type": "code",
   "execution_count": 18,
   "metadata": {},
   "outputs": [
    {
     "name": "stderr",
     "output_type": "stream",
     "text": [
      "C:\\Users\\Asus\\AppData\\Local\\Temp\\ipykernel_25120\\70045175.py:3: FutureWarning: this method is deprecated in favour of `Styler.hide(axis=\"index\")`\n",
      "  df = df.style.hide_index()\n"
     ]
    },
    {
     "data": {
      "text/html": [
       "<style type=\"text/css\">\n",
       "</style>\n",
       "<table id=\"T_7d058\">\n",
       "  <thead>\n",
       "    <tr>\n",
       "      <th id=\"T_7d058_level0_col0\" class=\"col_heading level0 col0\" >Precision qubits</th>\n",
       "      <th id=\"T_7d058_level0_col1\" class=\"col_heading level0 col1\" >Output in binary</th>\n",
       "      <th id=\"T_7d058_level0_col2\" class=\"col_heading level0 col2\" >Probability</th>\n",
       "      <th id=\"T_7d058_level0_col3\" class=\"col_heading level0 col3\" >Truncate_valid</th>\n",
       "      <th id=\"T_7d058_level0_col4\" class=\"col_heading level0 col4\" >Output in decimal</th>\n",
       "    </tr>\n",
       "  </thead>\n",
       "  <tbody>\n",
       "    <tr>\n",
       "      <td id=\"T_7d058_row0_col0\" class=\"data row0 col0\" >1</td>\n",
       "      <td id=\"T_7d058_row0_col1\" class=\"data row0 col1\" >0.0</td>\n",
       "      <td id=\"T_7d058_row0_col2\" class=\"data row0 col2\" >0.990000</td>\n",
       "      <td id=\"T_7d058_row0_col3\" class=\"data row0 col3\" >True</td>\n",
       "      <td id=\"T_7d058_row0_col4\" class=\"data row0 col4\" >0.000000</td>\n",
       "    </tr>\n",
       "    <tr>\n",
       "      <td id=\"T_7d058_row1_col0\" class=\"data row1 col0\" >2</td>\n",
       "      <td id=\"T_7d058_row1_col1\" class=\"data row1 col1\" >0.00</td>\n",
       "      <td id=\"T_7d058_row1_col2\" class=\"data row1 col2\" >0.943000</td>\n",
       "      <td id=\"T_7d058_row1_col3\" class=\"data row1 col3\" >True</td>\n",
       "      <td id=\"T_7d058_row1_col4\" class=\"data row1 col4\" >0.000000</td>\n",
       "    </tr>\n",
       "    <tr>\n",
       "      <td id=\"T_7d058_row2_col0\" class=\"data row2 col0\" >3</td>\n",
       "      <td id=\"T_7d058_row2_col1\" class=\"data row2 col1\" >0.000</td>\n",
       "      <td id=\"T_7d058_row2_col2\" class=\"data row2 col2\" >0.787000</td>\n",
       "      <td id=\"T_7d058_row2_col3\" class=\"data row2 col3\" >True</td>\n",
       "      <td id=\"T_7d058_row2_col4\" class=\"data row2 col4\" >0.000000</td>\n",
       "    </tr>\n",
       "    <tr>\n",
       "      <td id=\"T_7d058_row3_col0\" class=\"data row3 col0\" >4</td>\n",
       "      <td id=\"T_7d058_row3_col1\" class=\"data row3 col1\" >0.0001</td>\n",
       "      <td id=\"T_7d058_row3_col2\" class=\"data row3 col2\" >0.463000</td>\n",
       "      <td id=\"T_7d058_row3_col3\" class=\"data row3 col3\" >False</td>\n",
       "      <td id=\"T_7d058_row3_col4\" class=\"data row3 col4\" >0.062500</td>\n",
       "    </tr>\n",
       "    <tr>\n",
       "      <td id=\"T_7d058_row4_col0\" class=\"data row4 col0\" >5</td>\n",
       "      <td id=\"T_7d058_row4_col1\" class=\"data row4 col1\" >0.00001</td>\n",
       "      <td id=\"T_7d058_row4_col2\" class=\"data row4 col2\" >0.982000</td>\n",
       "      <td id=\"T_7d058_row4_col3\" class=\"data row4 col3\" >True</td>\n",
       "      <td id=\"T_7d058_row4_col4\" class=\"data row4 col4\" >0.031250</td>\n",
       "    </tr>\n",
       "    <tr>\n",
       "      <td id=\"T_7d058_row5_col0\" class=\"data row5 col0\" >6</td>\n",
       "      <td id=\"T_7d058_row5_col1\" class=\"data row5 col1\" >0.000010</td>\n",
       "      <td id=\"T_7d058_row5_col2\" class=\"data row5 col2\" >0.953000</td>\n",
       "      <td id=\"T_7d058_row5_col3\" class=\"data row5 col3\" >True</td>\n",
       "      <td id=\"T_7d058_row5_col4\" class=\"data row5 col4\" >0.031250</td>\n",
       "    </tr>\n",
       "    <tr>\n",
       "      <td id=\"T_7d058_row6_col0\" class=\"data row6 col0\" >7</td>\n",
       "      <td id=\"T_7d058_row6_col1\" class=\"data row6 col1\" >0.0000100</td>\n",
       "      <td id=\"T_7d058_row6_col2\" class=\"data row6 col2\" >0.799000</td>\n",
       "      <td id=\"T_7d058_row6_col3\" class=\"data row6 col3\" >True</td>\n",
       "      <td id=\"T_7d058_row6_col4\" class=\"data row6 col4\" >0.031250</td>\n",
       "    </tr>\n",
       "    <tr>\n",
       "      <td id=\"T_7d058_row7_col0\" class=\"data row7 col0\" >8</td>\n",
       "      <td id=\"T_7d058_row7_col1\" class=\"data row7 col1\" >0.00001001</td>\n",
       "      <td id=\"T_7d058_row7_col2\" class=\"data row7 col2\" >0.452000</td>\n",
       "      <td id=\"T_7d058_row7_col3\" class=\"data row7 col3\" >False</td>\n",
       "      <td id=\"T_7d058_row7_col4\" class=\"data row7 col4\" >0.035156</td>\n",
       "    </tr>\n",
       "    <tr>\n",
       "      <td id=\"T_7d058_row8_col0\" class=\"data row8 col0\" >9</td>\n",
       "      <td id=\"T_7d058_row8_col1\" class=\"data row8 col1\" >0.000010001</td>\n",
       "      <td id=\"T_7d058_row8_col2\" class=\"data row8 col2\" >0.988000</td>\n",
       "      <td id=\"T_7d058_row8_col3\" class=\"data row8 col3\" >True</td>\n",
       "      <td id=\"T_7d058_row8_col4\" class=\"data row8 col4\" >0.033203</td>\n",
       "    </tr>\n",
       "    <tr>\n",
       "      <td id=\"T_7d058_row9_col0\" class=\"data row9 col0\" >10</td>\n",
       "      <td id=\"T_7d058_row9_col1\" class=\"data row9 col1\" >0.0000100010</td>\n",
       "      <td id=\"T_7d058_row9_col2\" class=\"data row9 col2\" >0.940000</td>\n",
       "      <td id=\"T_7d058_row9_col3\" class=\"data row9 col3\" >True</td>\n",
       "      <td id=\"T_7d058_row9_col4\" class=\"data row9 col4\" >0.033203</td>\n",
       "    </tr>\n",
       "    <tr>\n",
       "      <td id=\"T_7d058_row10_col0\" class=\"data row10 col0\" >11</td>\n",
       "      <td id=\"T_7d058_row10_col1\" class=\"data row10 col1\" >0.00001000100</td>\n",
       "      <td id=\"T_7d058_row10_col2\" class=\"data row10 col2\" >0.786000</td>\n",
       "      <td id=\"T_7d058_row10_col3\" class=\"data row10 col3\" >True</td>\n",
       "      <td id=\"T_7d058_row10_col4\" class=\"data row10 col4\" >0.033203</td>\n",
       "    </tr>\n",
       "    <tr>\n",
       "      <td id=\"T_7d058_row11_col0\" class=\"data row11 col0\" >12</td>\n",
       "      <td id=\"T_7d058_row11_col1\" class=\"data row11 col1\" >0.000010001001</td>\n",
       "      <td id=\"T_7d058_row11_col2\" class=\"data row11 col2\" >0.470000</td>\n",
       "      <td id=\"T_7d058_row11_col3\" class=\"data row11 col3\" >False</td>\n",
       "      <td id=\"T_7d058_row11_col4\" class=\"data row11 col4\" >0.033447</td>\n",
       "    </tr>\n",
       "    <tr>\n",
       "      <td id=\"T_7d058_row12_col0\" class=\"data row12 col0\" >13</td>\n",
       "      <td id=\"T_7d058_row12_col1\" class=\"data row12 col1\" >0.0000100010001</td>\n",
       "      <td id=\"T_7d058_row12_col2\" class=\"data row12 col2\" >0.991000</td>\n",
       "      <td id=\"T_7d058_row12_col3\" class=\"data row12 col3\" >True</td>\n",
       "      <td id=\"T_7d058_row12_col4\" class=\"data row12 col4\" >0.033325</td>\n",
       "    </tr>\n",
       "    <tr>\n",
       "      <td id=\"T_7d058_row13_col0\" class=\"data row13 col0\" >14</td>\n",
       "      <td id=\"T_7d058_row13_col1\" class=\"data row13 col1\" >0.00001000100010</td>\n",
       "      <td id=\"T_7d058_row13_col2\" class=\"data row13 col2\" >0.936000</td>\n",
       "      <td id=\"T_7d058_row13_col3\" class=\"data row13 col3\" >True</td>\n",
       "      <td id=\"T_7d058_row13_col4\" class=\"data row13 col4\" >0.033325</td>\n",
       "    </tr>\n",
       "    <tr>\n",
       "      <td id=\"T_7d058_row14_col0\" class=\"data row14 col0\" >15</td>\n",
       "      <td id=\"T_7d058_row14_col1\" class=\"data row14 col1\" >0.000010001000100</td>\n",
       "      <td id=\"T_7d058_row14_col2\" class=\"data row14 col2\" >0.806000</td>\n",
       "      <td id=\"T_7d058_row14_col3\" class=\"data row14 col3\" >True</td>\n",
       "      <td id=\"T_7d058_row14_col4\" class=\"data row14 col4\" >0.033325</td>\n",
       "    </tr>\n",
       "    <tr>\n",
       "      <td id=\"T_7d058_row15_col0\" class=\"data row15 col0\" >16</td>\n",
       "      <td id=\"T_7d058_row15_col1\" class=\"data row15 col1\" >0.0000100010001001</td>\n",
       "      <td id=\"T_7d058_row15_col2\" class=\"data row15 col2\" >0.474000</td>\n",
       "      <td id=\"T_7d058_row15_col3\" class=\"data row15 col3\" >False</td>\n",
       "      <td id=\"T_7d058_row15_col4\" class=\"data row15 col4\" >0.033340</td>\n",
       "    </tr>\n",
       "  </tbody>\n",
       "</table>\n"
      ],
      "text/plain": [
       "<pandas.io.formats.style.Styler at 0x2a400884070>"
      ]
     },
     "execution_count": 18,
     "metadata": {},
     "output_type": "execute_result"
    }
   ],
   "source": [
    "headers = [\n",
    "    \"Precision qubits\",\n",
    "    \"Output in binary\",\n",
    "    \"Probability\",\n",
    "    \"Truncate_valid\",\n",
    "    \"Output in decimal\",\n",
    "]\n",
    "df = pandas.DataFrame(data=results, columns=headers)\n",
    "df = df.style.hide_index()\n",
    "df"
   ]
  },
  {
   "cell_type": "markdown",
   "metadata": {},
   "source": [
    "E imprimimos la gráfica"
   ]
  },
  {
   "cell_type": "code",
   "execution_count": 19,
   "metadata": {},
   "outputs": [
    {
     "data": {
      "image/png": "[encoded data removed]",
      "text/plain": [
       "<Figure size 640x480 with 1 Axes>"
      ]
     },
     "metadata": {},
     "output_type": "display_data"
    }
   ],
   "source": [
    "import matplotlib.pyplot as plt\n",
    "\n",
    "expected_result = phase_to_fraction(phase)\n",
    "expected_output = fraction_to_binary(expected_result, precision=16)\n",
    "\n",
    "# Initialize lists to store data for lines\n",
    "x_values = []\n",
    "y_values = []\n",
    "\n",
    "for n_qubits, output, percentage, expected, _ in results:\n",
    "    if expected:\n",
    "        plt.plot(\n",
    "            n_qubits, percentage, \"o\", color=\"blue\", markersize=10\n",
    "        )  # True: plot a circle\n",
    "    else:\n",
    "        plt.plot(\n",
    "            n_qubits, percentage, \"x\", color=\"blue\", markersize=10\n",
    "        )  # False: plot a cross\n",
    "\n",
    "    x_values.append(n_qubits)\n",
    "    y_values.append(percentage)\n",
    "\n",
    "# Plot lines\n",
    "plt.plot(x_values, y_values, linestyle=\"-\", color=\"blue\")  # Draw lines between points\n",
    "\n",
    "# Add labels and title\n",
    "plt.xlabel(\"Number of qubits\")\n",
    "plt.ylabel(\"Percentage\")\n",
    "plt.title(f\"Optimal Qubits for QPE with phase {phase}\")\n",
    "\n",
    "# Show the plot\n",
    "plt.grid(True)\n",
    "plt.show()"
   ]
  },
  {
   "cell_type": "markdown",
   "metadata": {},
   "source": [
    "Para este caso vemos que existe un patrón y está relacionado con la longitud del periodo de la fracción binaria. Además, tiende a fallar la precisión cuando $n+1$ es el bit 1. \n",
    "\n",
    "Para líneas futuras y para poder confirmar estas suposiciones, se tendría que simular con más bits y diferentes fases."
   ]
  }
 ],
 "metadata": {
  "kernelspec": {
   "display_name": "Python 3",
   "language": "python",
   "name": "python3"
  },
  "language_info": {
   "codemirror_mode": {
    "name": "ipython",
    "version": 3
   },
   "file_extension": ".py",
   "mimetype": "text/x-python",
   "name": "python",
   "nbconvert_exporter": "python",
   "pygments_lexer": "ipython3",
   "version": "3.10.8"
  }
 },
 "nbformat": 4,
 "nbformat_minor": 2
}
