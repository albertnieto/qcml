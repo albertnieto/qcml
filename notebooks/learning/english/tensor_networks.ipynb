{
 "cells": [
  {
   "cell_type": "code",
   "execution_count": null,
   "metadata": {},
   "outputs": [],
   "source": [
    "import cirq\n",
    "import tensorflow as tf\n",
    "import tensorflow_quantum as tfq\n",
    "\n",
    "# Define a simple quantum circuit\n",
    "qubits = cirq.GridQubit.rect(1, 3)\n",
    "circuit = cirq.Circuit(\n",
    "    cirq.H(qubits[0]), cirq.CNOT(qubits[0], qubits[1]), cirq.CNOT(qubits[1], qubits[2])\n",
    ")\n",
    "\n",
    "# Convert the quantum circuit to a TensorFlow Quantum circuit\n",
    "tfcircuit = tfq.convert_to_tensor([circuit])\n",
    "\n",
    "# Define the quantum state vector\n",
    "initial_state = tfq.math.default_initializer()(shape=(2**3,))\n",
    "\n",
    "# Create a symbolic tensor representing the quantum state\n",
    "quantum_state = tf.Variable(initial_state)\n",
    "\n",
    "# Define the tensor network structure (MPS)\n",
    "mps_layer = tfq.layers.MPS(n_bond_dims=2)\n",
    "\n",
    "# Apply the MPS layer to the quantum state\n",
    "mps_output = mps_layer(quantum_state)\n",
    "\n",
    "# Build the model\n",
    "model = tf.keras.Model(inputs=[], outputs=[mps_output])\n",
    "\n",
    "# Display the model summary\n",
    "model.summary()"
   ]
  }
 ],
 "metadata": {
  "language_info": {
   "name": "python"
  }
 },
 "nbformat": 4,
 "nbformat_minor": 2
}
