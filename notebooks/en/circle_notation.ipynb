{
 "cells": [
  {
   "cell_type": "markdown",
   "metadata": {
    "tags": []
   },
   "source": [
    "## Notebook Information\n",
    "\n",
    "**Master in Quantum Computing - UNIR**\n",
    "\n",
    "**Subject:** Quantum Computing\n",
    "\n",
    "**Notebook Activity by:** Albert Nieto Morales\n",
    "\n",
    "**Date:** 2023-11-27\n",
    "\n",
    "---\n",
    "\n",
    "*Note: This notebook is part of the Master's program in Quantum Computing at UNIR. The content focuses on Quantum Computing and was created by Albert Nieto. Please refer to the date for the latest update.*\n"
   ]
  },
  {
   "cell_type": "markdown",
   "metadata": {
    "tags": []
   },
   "source": [
    "# Quantum State Visualization with Qiskit\n",
    "\n",
    "This Jupyter notebook explores the visualization of quantum states using Qiskit and Matplotlib. The code below includes the necessary imports for standard Qiskit libraries, visualization tools, and providers. Additionally, it sets up the IBM Quantum account to leverage IBM Quantum services for runtime execution.\n",
    "\n",
    "## Code Highlights:\n",
    "\n",
    "### Imports:\n",
    "- `qiskit`: Standard Qiskit libraries for quantum computing.\n",
    "- `qiskit.tools.jupyter`: Tools for Jupyter notebook integration.\n",
    "- `qiskit.visualization`: Visualization tools for quantum circuits and states.\n",
    "- `qiskit.quantum_info`: Quantum information tools for statevector manipulation.\n",
    "- `qiskit.providers.aer`: Importing AerSimulator for local simulations.\n",
    "- `qiskit_ibm_runtime`: Importing Qiskit Runtime services.\n",
    "\n",
    "### Other Imports:\n",
    "- `matplotlib.pyplot`: Matplotlib for general plotting.\n",
    "- `numpy`: NumPy for numerical operations.\n",
    "- `math`: Python math library.\n",
    "- `colorsys`: Colorsys for color manipulation.\n",
    "\n",
    "### Setting up IBM Quantum Account:\n",
    "- `QiskitRuntimeService`: Establishing a connection to IBM Quantum services."
   ]
  },
  {
   "cell_type": "code",
   "execution_count": 2,
   "metadata": {},
   "outputs": [
    {
     "name": "stdout",
     "output_type": "stream",
     "text": [
      "Requirement already satisfied: qiskit in c:\\users\\asus\\appdata\\local\\programs\\python\\python310\\lib\\site-packages (0.45.1)Note: you may need to restart the kernel to use updated packages.\n",
      "\n",
      "Requirement already satisfied: qiskit-terra==0.45.1 in c:\\users\\asus\\appdata\\local\\programs\\python\\python310\\lib\\site-packages (from qiskit) (0.45.1)\n",
      "Requirement already satisfied: rustworkx>=0.13.0 in c:\\users\\asus\\appdata\\local\\programs\\python\\python310\\lib\\site-packages (from qiskit-terra==0.45.1->qiskit) (0.13.2)\n",
      "Requirement already satisfied: numpy<2,>=1.17 in c:\\users\\asus\\appdata\\local\\programs\\python\\python310\\lib\\site-packages (from qiskit-terra==0.45.1->qiskit) (1.23.5)\n",
      "Requirement already satisfied: ply>=3.10 in c:\\users\\asus\\appdata\\local\\programs\\python\\python310\\lib\\site-packages (from qiskit-terra==0.45.1->qiskit) (3.11)\n",
      "Requirement already satisfied: psutil>=5 in c:\\users\\asus\\appdata\\local\\programs\\python\\python310\\lib\\site-packages (from qiskit-terra==0.45.1->qiskit) (5.9.7)\n",
      "Requirement already satisfied: scipy>=1.5 in c:\\users\\asus\\appdata\\local\\programs\\python\\python310\\lib\\site-packages (from qiskit-terra==0.45.1->qiskit) (1.11.4)\n",
      "Requirement already satisfied: sympy>=1.3 in c:\\users\\asus\\appdata\\local\\programs\\python\\python310\\lib\\site-packages (from qiskit-terra==0.45.1->qiskit) (1.12)\n",
      "Requirement already satisfied: dill>=0.3 in c:\\users\\asus\\appdata\\local\\programs\\python\\python310\\lib\\site-packages (from qiskit-terra==0.45.1->qiskit) (0.3.7)\n",
      "Requirement already satisfied: python-dateutil>=2.8.0 in c:\\users\\asus\\appdata\\local\\programs\\python\\python310\\lib\\site-packages (from qiskit-terra==0.45.1->qiskit) (2.8.2)\n",
      "Requirement already satisfied: stevedore>=3.0.0 in c:\\users\\asus\\appdata\\local\\programs\\python\\python310\\lib\\site-packages (from qiskit-terra==0.45.1->qiskit) (5.1.0)\n",
      "Requirement already satisfied: typing-extensions in c:\\users\\asus\\appdata\\local\\programs\\python\\python310\\lib\\site-packages (from qiskit-terra==0.45.1->qiskit) (4.3.0)\n",
      "Requirement already satisfied: six>=1.5 in c:\\users\\asus\\appdata\\local\\programs\\python\\python310\\lib\\site-packages (from python-dateutil>=2.8.0->qiskit-terra==0.45.1->qiskit) (1.16.0)\n",
      "Requirement already satisfied: pbr!=2.1.0,>=2.0.0 in c:\\users\\asus\\appdata\\local\\programs\\python\\python310\\lib\\site-packages (from stevedore>=3.0.0->qiskit-terra==0.45.1->qiskit) (6.0.0)\n",
      "Requirement already satisfied: mpmath>=0.19 in c:\\users\\asus\\appdata\\local\\programs\\python\\python310\\lib\\site-packages (from sympy>=1.3->qiskit-terra==0.45.1->qiskit) (1.3.0)\n"
     ]
    },
    {
     "name": "stderr",
     "output_type": "stream",
     "text": [
      "\n",
      "[notice] A new release of pip is available: 23.3.2 -> 24.0\n",
      "[notice] To update, run: python.exe -m pip install --upgrade pip\n"
     ]
    },
    {
     "name": "stdout",
     "output_type": "stream",
     "text": [
      "Requirement already satisfied: qiskit-ibmq-provider in c:\\users\\asus\\appdata\\local\\programs\\python\\python310\\lib\\site-packages (0.20.2)\n",
      "Requirement already satisfied: qiskit-terra>=0.18.0 in c:\\users\\asus\\appdata\\local\\programs\\python\\python310\\lib\\site-packages (from qiskit-ibmq-provider) (0.45.1)\n",
      "Requirement already satisfied: requests>=2.19 in c:\\users\\asus\\appdata\\local\\programs\\python\\python310\\lib\\site-packages (from qiskit-ibmq-provider) (2.28.1)\n",
      "Requirement already satisfied: requests-ntlm<=1.1.0 in c:\\users\\asus\\appdata\\local\\programs\\python\\python310\\lib\\site-packages (from qiskit-ibmq-provider) (1.1.0)\n",
      "Requirement already satisfied: numpy<1.24 in c:\\users\\asus\\appdata\\local\\programs\\python\\python310\\lib\\site-packages (from qiskit-ibmq-provider) (1.23.5)\n",
      "Requirement already satisfied: urllib3>=1.21.1 in c:\\users\\asus\\appdata\\local\\programs\\python\\python310\\lib\\site-packages (from qiskit-ibmq-provider) (1.26.10)\n",
      "Requirement already satisfied: python-dateutil>=2.8.0 in c:\\users\\asus\\appdata\\local\\programs\\python\\python310\\lib\\site-packages (from qiskit-ibmq-provider) (2.8.2)\n",
      "Requirement already satisfied: websocket-client>=1.5.1 in c:\\users\\asus\\appdata\\local\\programs\\python\\python310\\lib\\site-packages (from qiskit-ibmq-provider) (1.7.0)\n",
      "Requirement already satisfied: websockets>=10.0 in c:\\users\\asus\\appdata\\local\\programs\\python\\python310\\lib\\site-packages (from qiskit-ibmq-provider) (12.0)\n",
      "Requirement already satisfied: six>=1.5 in c:\\users\\asus\\appdata\\local\\programs\\python\\python310\\lib\\site-packages (from python-dateutil>=2.8.0->qiskit-ibmq-provider) (1.16.0)\n",
      "Requirement already satisfied: rustworkx>=0.13.0 in c:\\users\\asus\\appdata\\local\\programs\\python\\python310\\lib\\site-packages (from qiskit-terra>=0.18.0->qiskit-ibmq-provider) (0.13.2)\n",
      "Requirement already satisfied: ply>=3.10 in c:\\users\\asus\\appdata\\local\\programs\\python\\python310\\lib\\site-packages (from qiskit-terra>=0.18.0->qiskit-ibmq-provider) (3.11)\n",
      "Requirement already satisfied: psutil>=5 in c:\\users\\asus\\appdata\\local\\programs\\python\\python310\\lib\\site-packages (from qiskit-terra>=0.18.0->qiskit-ibmq-provider) (5.9.7)\n",
      "Requirement already satisfied: scipy>=1.5 in c:\\users\\asus\\appdata\\local\\programs\\python\\python310\\lib\\site-packages (from qiskit-terra>=0.18.0->qiskit-ibmq-provider) (1.11.4)\n",
      "Requirement already satisfied: sympy>=1.3 in c:\\users\\asus\\appdata\\local\\programs\\python\\python310\\lib\\site-packages (from qiskit-terra>=0.18.0->qiskit-ibmq-provider) (1.12)\n",
      "Requirement already satisfied: dill>=0.3 in c:\\users\\asus\\appdata\\local\\programs\\python\\python310\\lib\\site-packages (from qiskit-terra>=0.18.0->qiskit-ibmq-provider) (0.3.7)\n",
      "Requirement already satisfied: stevedore>=3.0.0 in c:\\users\\asus\\appdata\\local\\programs\\python\\python310\\lib\\site-packages (from qiskit-terra>=0.18.0->qiskit-ibmq-provider) (5.1.0)\n",
      "Requirement already satisfied: typing-extensions in c:\\users\\asus\\appdata\\local\\programs\\python\\python310\\lib\\site-packages (from qiskit-terra>=0.18.0->qiskit-ibmq-provider) (4.3.0)\n",
      "Requirement already satisfied: charset-normalizer<3,>=2 in c:\\users\\asus\\appdata\\local\\programs\\python\\python310\\lib\\site-packages (from requests>=2.19->qiskit-ibmq-provider) (2.1.0)\n",
      "Requirement already satisfied: idna<4,>=2.5 in c:\\users\\asus\\appdata\\local\\programs\\python\\python310\\lib\\site-packages (from requests>=2.19->qiskit-ibmq-provider) (3.3)\n",
      "Requirement already satisfied: certifi>=2017.4.17 in c:\\users\\asus\\appdata\\local\\programs\\python\\python310\\lib\\site-packages (from requests>=2.19->qiskit-ibmq-provider) (2022.6.15)\n",
      "Requirement already satisfied: ntlm-auth>=1.0.2 in c:\\users\\asus\\appdata\\local\\programs\\python\\python310\\lib\\site-packages (from requests-ntlm<=1.1.0->qiskit-ibmq-provider) (1.5.0)\n",
      "Requirement already satisfied: cryptography>=1.3 in c:\\users\\asus\\appdata\\local\\programs\\python\\python310\\lib\\site-packages (from requests-ntlm<=1.1.0->qiskit-ibmq-provider) (41.0.7)\n",
      "Requirement already satisfied: cffi>=1.12 in c:\\users\\asus\\appdata\\local\\programs\\python\\python310\\lib\\site-packages (from cryptography>=1.3->requests-ntlm<=1.1.0->qiskit-ibmq-provider) (1.16.0)\n",
      "Requirement already satisfied: pbr!=2.1.0,>=2.0.0 in c:\\users\\asus\\appdata\\local\\programs\\python\\python310\\lib\\site-packages (from stevedore>=3.0.0->qiskit-terra>=0.18.0->qiskit-ibmq-provider) (6.0.0)\n",
      "Requirement already satisfied: mpmath>=0.19 in c:\\users\\asus\\appdata\\local\\programs\\python\\python310\\lib\\site-packages (from sympy>=1.3->qiskit-terra>=0.18.0->qiskit-ibmq-provider) (1.3.0)\n",
      "Requirement already satisfied: pycparser in c:\\users\\asus\\appdata\\local\\programs\\python\\python310\\lib\\site-packages (from cffi>=1.12->cryptography>=1.3->requests-ntlm<=1.1.0->qiskit-ibmq-provider) (2.21)\n",
      "Note: you may need to restart the kernel to use updated packages.\n"
     ]
    },
    {
     "name": "stderr",
     "output_type": "stream",
     "text": [
      "\n",
      "[notice] A new release of pip is available: 23.3.2 -> 24.0\n",
      "[notice] To update, run: python.exe -m pip install --upgrade pip\n"
     ]
    },
    {
     "name": "stdout",
     "output_type": "stream",
     "text": [
      "Requirement already satisfied: qiskit-aer in c:\\users\\asus\\appdata\\local\\programs\\python\\python310\\lib\\site-packages (0.13.1)\n",
      "Requirement already satisfied: qiskit>=0.44.0 in c:\\users\\asus\\appdata\\local\\programs\\python\\python310\\lib\\site-packages (from qiskit-aer) (0.45.1)\n",
      "Requirement already satisfied: numpy>=1.16.3 in c:\\users\\asus\\appdata\\local\\programs\\python\\python310\\lib\\site-packages (from qiskit-aer) (1.23.5)\n",
      "Requirement already satisfied: scipy>=1.0 in c:\\users\\asus\\appdata\\local\\programs\\python\\python310\\lib\\site-packages (from qiskit-aer) (1.11.4)\n",
      "Requirement already satisfied: psutil>=5 in c:\\users\\asus\\appdata\\local\\programs\\python\\python310\\lib\\site-packages (from qiskit-aer) (5.9.7)\n",
      "Requirement already satisfied: qiskit-terra==0.45.1 in c:\\users\\asus\\appdata\\local\\programs\\python\\python310\\lib\\site-packages (from qiskit>=0.44.0->qiskit-aer) (0.45.1)\n",
      "Requirement already satisfied: rustworkx>=0.13.0 in c:\\users\\asus\\appdata\\local\\programs\\python\\python310\\lib\\site-packages (from qiskit-terra==0.45.1->qiskit>=0.44.0->qiskit-aer) (0.13.2)\n",
      "Requirement already satisfied: ply>=3.10 in c:\\users\\asus\\appdata\\local\\programs\\python\\python310\\lib\\site-packages (from qiskit-terra==0.45.1->qiskit>=0.44.0->qiskit-aer) (3.11)\n",
      "Requirement already satisfied: sympy>=1.3 in c:\\users\\asus\\appdata\\local\\programs\\python\\python310\\lib\\site-packages (from qiskit-terra==0.45.1->qiskit>=0.44.0->qiskit-aer) (1.12)\n",
      "Requirement already satisfied: dill>=0.3 in c:\\users\\asus\\appdata\\local\\programs\\python\\python310\\lib\\site-packages (from qiskit-terra==0.45.1->qiskit>=0.44.0->qiskit-aer) (0.3.7)\n",
      "Requirement already satisfied: python-dateutil>=2.8.0 in c:\\users\\asus\\appdata\\local\\programs\\python\\python310\\lib\\site-packages (from qiskit-terra==0.45.1->qiskit>=0.44.0->qiskit-aer) (2.8.2)\n",
      "Requirement already satisfied: stevedore>=3.0.0 in c:\\users\\asus\\appdata\\local\\programs\\python\\python310\\lib\\site-packages (from qiskit-terra==0.45.1->qiskit>=0.44.0->qiskit-aer) (5.1.0)\n",
      "Requirement already satisfied: typing-extensions in c:\\users\\asus\\appdata\\local\\programs\\python\\python310\\lib\\site-packages (from qiskit-terra==0.45.1->qiskit>=0.44.0->qiskit-aer) (4.3.0)\n",
      "Requirement already satisfied: six>=1.5 in c:\\users\\asus\\appdata\\local\\programs\\python\\python310\\lib\\site-packages (from python-dateutil>=2.8.0->qiskit-terra==0.45.1->qiskit>=0.44.0->qiskit-aer) (1.16.0)\n",
      "Requirement already satisfied: pbr!=2.1.0,>=2.0.0 in c:\\users\\asus\\appdata\\local\\programs\\python\\python310\\lib\\site-packages (from stevedore>=3.0.0->qiskit-terra==0.45.1->qiskit>=0.44.0->qiskit-aer) (6.0.0)\n",
      "Requirement already satisfied: mpmath>=0.19 in c:\\users\\asus\\appdata\\local\\programs\\python\\python310\\lib\\site-packages (from sympy>=1.3->qiskit-terra==0.45.1->qiskit>=0.44.0->qiskit-aer) (1.3.0)\n",
      "Note: you may need to restart the kernel to use updated packages.\n"
     ]
    },
    {
     "name": "stderr",
     "output_type": "stream",
     "text": [
      "\n",
      "[notice] A new release of pip is available: 23.3.2 -> 24.0\n",
      "[notice] To update, run: python.exe -m pip install --upgrade pip\n"
     ]
    }
   ],
   "source": [
    "%pip install qiskit\n",
    "%pip install qiskit-ibmq-provider\n",
    "%pip install qiskit-aer"
   ]
  },
  {
   "cell_type": "code",
   "execution_count": 3,
   "metadata": {},
   "outputs": [],
   "source": [
    "# Importing standard Qiskit libraries\n",
    "from qiskit import *\n",
    "from qiskit.tools.jupyter import *\n",
    "from qiskit.visualization import *\n",
    "from qiskit.quantum_info import Statevector\n",
    "from qiskit_ibm_provider import IBMProvider\n",
    "\n",
    "# Importing providers\n",
    "from qiskit.providers.aer import AerSimulator\n",
    "from qiskit import Aer\n",
    "\n",
    "# Other imports\n",
    "import matplotlib.pyplot as plt\n",
    "import numpy as np\n",
    "import math\n",
    "import colorsys\n",
    "\n",
    "# Loading your IBM Quantum account(s)\n",
    "IBMProvider.save_account('', overwrite=True)"
   ]
  },
  {
   "cell_type": "markdown",
   "metadata": {
    "tags": []
   },
   "source": [
    "# Setting up a Quantum Circuit\n",
    "\n",
    "We are going to create a quantum circuit consisting of quantum and classical registers.\n",
    "\n",
    "## Code Highlights:\n",
    "\n",
    "1. **Quantum and Classical Registers:**\n",
    "   - `QuantumRegister(4, 'q')`: Creation of a quantum register named 'q' with 4 qubits.\n",
    "   - `ClassicalRegister(1, 'c')`: Creation of a classical register named 'c' with 1 bit.\n",
    "\n",
    "2. **Circuit Building:**\n",
    "   - Hadamard gates (`circuit.h()`) applied to qubits 1, 2, 3, and 0.\n",
    "   - Pauli-X (`circuit.x()`) and Pauli-Y (`circuit.y()`) gates applied to specific qubits.\n",
    "   - Phase gate (`circuit.p()`) applied to qubit 3 with an angle of π/2.\n",
    "   - Successive Pauli-Y and Pauli-Z gates applied to qubit 3.# Quantum Circuit Exploration with Qiskit"
   ]
  },
  {
   "cell_type": "code",
   "execution_count": 4,
   "metadata": {},
   "outputs": [
    {
     "data": {
      "text/plain": [
       "<qiskit.circuit.instructionset.InstructionSet at 0x1627f2a6b30>"
      ]
     },
     "execution_count": 4,
     "metadata": {},
     "output_type": "execute_result"
    }
   ],
   "source": [
    "qreg_q = QuantumRegister(4, 'q')\n",
    "creg_c = ClassicalRegister(1, 'c')\n",
    "circuit = QuantumCircuit(qreg_q, creg_c)\n",
    "\n",
    "circuit.h(qreg_q[1])\n",
    "circuit.h(qreg_q[2])\n",
    "circuit.h(qreg_q[3])\n",
    "circuit.h(qreg_q[0])\n",
    "circuit.x(qreg_q[2])\n",
    "circuit.y(qreg_q[1])\n",
    "circuit.x(qreg_q[3])\n",
    "circuit.y(qreg_q[2])\n",
    "circuit.p(np.pi / 2, qreg_q[3])\n",
    "circuit.y(qreg_q[3])\n",
    "circuit.z(qreg_q[3])"
   ]
  },
  {
   "cell_type": "markdown",
   "metadata": {},
   "source": [
    "Let's print a diagram of a representation of the quantum gates and the operations applied to each qubit."
   ]
  },
  {
   "cell_type": "code",
   "execution_count": 5,
   "metadata": {
    "tags": []
   },
   "outputs": [
    {
     "name": "stderr",
     "output_type": "stream",
     "text": [
      "c:\\Users\\Asus\\AppData\\Local\\Programs\\Python\\Python310\\lib\\site-packages\\qiskit\\visualization\\circuit\\matplotlib.py:266: FutureWarning: The default matplotlib drawer scheme will be changed to \"iqp\" in a following release. To silence this warning, specify the current default explicitly as style=\"clifford\", or the new default as style=\"iqp\".\n",
      "  self._style, def_font_ratio = load_style(self._style)\n"
     ]
    },
    {
     "data": {
      "image/png": "[encoded data removed]",
      "text/plain": [
       "<Figure size 538.33x451.5 with 1 Axes>"
      ]
     },
     "execution_count": 5,
     "metadata": {},
     "output_type": "execute_result"
    }
   ],
   "source": [
    "circuit.draw('mpl')"
   ]
  },
  {
   "cell_type": "markdown",
   "metadata": {
    "tags": []
   },
   "source": [
    "## Execution Steps:\n",
    "\n",
    "1. **Selecting the Simulator Backend:**\n",
    "   - We choose the statevector simulator backend from Aer to simulate the quantum circuit.\n",
    "\n",
    "2. **Executing the Quantum Circuit:**\n",
    "   - The circuit is run on the selected simulator backend.\n",
    "\n",
    "3. **Analyzing the Results:**\n",
    "   - The result object (`result`) provides detailed information about the simulation.\n",
    "   - The job status (`status`) reflects the current state of the job (e.g., running, completed).\n",
    "   - The state vector (`sv`) is obtained from the result, representing the final quantum state after the circuit execution."
   ]
  },
  {
   "cell_type": "code",
   "execution_count": 6,
   "metadata": {},
   "outputs": [],
   "source": [
    "# Run the quantum circuit on a statevector simulator backend\n",
    "backend = Aer.get_backend('statevector_simulator')\n",
    "\n",
    "# Create a Quantum Program for execution \n",
    "job = backend.run(circuit)\n",
    "\n",
    "# Return the result object of the job\n",
    "result = job.result()\n",
    "\n",
    "# Return the status of the job\n",
    "status = job.status()\n",
    "\n",
    "# Get state vector from result\n",
    "sv = result.get_statevector()"
   ]
  },
  {
   "cell_type": "markdown",
   "metadata": {
    "tags": []
   },
   "source": [
    "# Classes\n",
    "\n",
    "The code defines three classes for quantum state visualization:"
   ]
  },
  {
   "cell_type": "markdown",
   "metadata": {
    "tags": []
   },
   "source": [
    "## 1. QuantumError Class\n",
    "\n",
    "**Purpose:**\n",
    "- The `QuantumError` class is designed to handle quantum-related errors as a custom exception.\n",
    "\n",
    "**Example Usage:**\n",
    "```python\n",
    "try:\n",
    "    # Some quantum operation\n",
    "except QuantumError as e:\n",
    "    print(f\"Quantum error occurred: {e}\")\n",
    "```"
   ]
  },
  {
   "cell_type": "code",
   "execution_count": 7,
   "metadata": {
    "tags": []
   },
   "outputs": [],
   "source": [
    "class QuantumError(Exception):\n",
    "    \"\"\"\n",
    "    Custom exception class for quantum-related errors.\n",
    "    \"\"\"\n",
    "    def __init__(self, message=\"Quantum error\"):\n",
    "        \"\"\"\n",
    "        Initialize the QuantumError instance.\n",
    "\n",
    "        Parameters:\n",
    "        - message (str): Error message. Default is \"Quantum error\".\n",
    "        \"\"\"\n",
    "        super().__init__(message)"
   ]
  },
  {
   "cell_type": "markdown",
   "metadata": {},
   "source": [
    "## 2. CircleNotation Class:\n",
    "\n",
    "**Purpose:**\n",
    "The CircleNotation class is designed for creating annotated circles on a matplotlib Axes. \n",
    "\n",
    "**Attributes:**\n",
    "- Various default values for properties like line length, color, and circle dimensions.\n",
    "\n",
    "**Methods:**\n",
    "- `draw_all(self)`: Draws all circle sets on the Axes.\n",
    "\n",
    "**Example Usage:**\n",
    "```python\n",
    "cn = CircleNotation(label, inner_color, outer_color, angle, x_offset, y_offset, len_outer_circle, len_inner_circle)\n",
    "cn.draw_all()\n",
    "```"
   ]
  },
  {
   "cell_type": "code",
   "execution_count": 8,
   "metadata": {
    "tags": []
   },
   "outputs": [],
   "source": [
    "import matplotlib.pyplot as plt\n",
    "import numpy as np\n",
    "\n",
    "\n",
    "class CircleNotation:\n",
    "    \"\"\"\n",
    "    CircleNotation class for creating annotated circles on a matplotlib Axes.\n",
    "\n",
    "    Parameters:\n",
    "    - label (list): List of labels for each circle.\n",
    "    - inner_color (list): List of colors for the inner circles.\n",
    "    - outer_color (list): List of colors for the outer circles.\n",
    "    - angle (list): List of angles for drawing lines.\n",
    "    - x_offset (list): List of x-coordinates for circle centers.\n",
    "    - y_offset (list): List of y-coordinates for circle centers.\n",
    "    - len_outer_circle (list): List of radii for outer circles.\n",
    "    - len_inner_circle (list): List of radii for inner circles.\n",
    "    - line_length (float, optional): Length of lines drawn from circles. Default is DEFAULT_LINE_LENGTH.\n",
    "    - line_color (str, optional): Color of the lines. Default is DEFAULT_LINE_COLOR.\n",
    "    - omit_line (list, optional): List of booleans indicating whether to omit lines for each circle. Default is DEFAULT_OMIT_LINE.\n",
    "\n",
    "    Attributes:\n",
    "    - DEFAULT_LINE_LENGTH (float): Default length of lines drawn from circles.\n",
    "    - DEFAULT_LINE_COLOR (str): Default color of the lines.\n",
    "    - DEFAULT_CIRCLE_COLOR (str): Default color of circles.\n",
    "    - DEFAULT_TEXT_COLOR (str): Default color of text.\n",
    "    - DEFAULT_HEAD_WIDTH (float): Default width of arrowhead in lines.\n",
    "    - DEFAULT_HEAD_LENGTH (float): Default length of arrowhead in lines.\n",
    "    - DEFAULT_FONT_SIZE (int): Default font size of text.\n",
    "    - DEFAULT_TEXT_DISPLACEMENT (float): Default vertical displacement of text.\n",
    "    - DEFAULT_OMIT_LINE (bool): Default value indicating whether to omit lines for each circle.\n",
    "    - DEFAULT_CIRCLE_FILL (bool): Default value indicating whether circles should be filled.\n",
    "    - DEFAULT_X_OFFSET (float): Default x-coordinate for circle centers.\n",
    "    - DEFAULT_Y_OFFSET (float): Default y-coordinate for circle centers.\n",
    "    - DEFAULT_CIRCLE_RADIUS (float): Default radius of circles.\n",
    "    - DEFAULT_ANGLE (float): Default angle for drawing lines.\n",
    "    - DEFAULT_TEXT_HA (str): Default horizontal alignment of text.\n",
    "    - DEFAULT_TEXT_VA (str): Default vertical alignment of text.\n",
    "    \"\"\"\n",
    "\n",
    "    DEFAULT_LINE_LENGTH = 1\n",
    "    DEFAULT_LINE_COLOR = \"black\"\n",
    "    DEFAULT_CIRCLE_COLOR = \"black\"\n",
    "    DEFAULT_TEXT_COLOR = \"black\"\n",
    "    DEFAULT_HEAD_WIDTH = 0\n",
    "    DEFAULT_HEAD_LENGTH = 0\n",
    "    DEFAULT_FONT_SIZE = 12\n",
    "    DEFAULT_TEXT_DISPLACEMENT = -1.35\n",
    "    DEFAULT_OMIT_LINE = False\n",
    "    DEFAULT_CIRCLE_FILL = False\n",
    "    DEFAULT_X_OFFSET = 0\n",
    "    DEFAULT_Y_OFFSET = 0\n",
    "    DEFAULT_CIRCLE_RADIUS = 1\n",
    "    DEFAULT_ANGLE = 0\n",
    "    DEFAULT_TEXT_HA = \"center\"\n",
    "    DEFAULT_TEXT_VA = \"center\"\n",
    "\n",
    "    def __init__(\n",
    "        self,\n",
    "        label,\n",
    "        inner_color,\n",
    "        outer_color,\n",
    "        angle,\n",
    "        x_offset,\n",
    "        y_offset,\n",
    "        len_outer_circle,\n",
    "        len_inner_circle,\n",
    "        line_length=DEFAULT_LINE_LENGTH,\n",
    "        line_color=DEFAULT_LINE_COLOR,\n",
    "        omit_line=DEFAULT_OMIT_LINE,\n",
    "    ):\n",
    "        \"\"\"\n",
    "        Initialize CircleNotation instance.\n",
    "\n",
    "        Parameters:\n",
    "        - label (list): List of labels for each circle.\n",
    "        - inner_color (list): List of colors for the inner circles.\n",
    "        - outer_color (list): List of colors for the outer circles.\n",
    "        - angle (list): List of angles for drawing lines.\n",
    "        - x_offset (list): List of x-coordinates for circle centers.\n",
    "        - y_offset (list): List of y-coordinates for circle centers.\n",
    "        - len_outer_circle (list): List of radii for outer circles.\n",
    "        - len_inner_circle (list): List of radii for inner circles.\n",
    "        - line_length (float, optional): Length of lines drawn from circles. Default is DEFAULT_LINE_LENGTH.\n",
    "        - line_color (str, optional): Color of the lines. Default is DEFAULT_LINE_COLOR.\n",
    "        - omit_line (list, optional): List of booleans indicating whether to omit lines for each circle. Default is DEFAULT_OMIT_LINE.\n",
    "        \"\"\"\n",
    "\n",
    "        self.fig, self.ax = plt.subplots()\n",
    "        self.label = label\n",
    "        self.inner_color = inner_color\n",
    "        self.outer_color = outer_color\n",
    "        self.line_color = line_color\n",
    "        self.x_offset = x_offset\n",
    "        self.y_offset = y_offset\n",
    "        self.len_outer_circle = len_outer_circle\n",
    "        self.len_inner_circle = len_inner_circle\n",
    "        self.line_length = line_length\n",
    "        self.angle = angle\n",
    "        self.omit_line = omit_line\n",
    "\n",
    "    def draw_circle(\n",
    "        self,\n",
    "        x_offset=DEFAULT_X_OFFSET,\n",
    "        y_offset=DEFAULT_Y_OFFSET,\n",
    "        radius=DEFAULT_CIRCLE_RADIUS,\n",
    "        color=DEFAULT_CIRCLE_COLOR,\n",
    "        is_filled=DEFAULT_CIRCLE_FILL,\n",
    "    ):\n",
    "        \"\"\"\n",
    "        Draw a circle on the Axes.\n",
    "\n",
    "        Parameters:\n",
    "        - x_offset (float, optional): x-coordinate of the circle center. Default is DEFAULT_X_OFFSET.\n",
    "        - y_offset (float, optional): y-coordinate of the circle center. Default is DEFAULT_Y_OFFSET.\n",
    "        - radius (float, optional): Radius of the circle. Default is DEFAULT_CIRCLE_RADIUS.\n",
    "        - color (str, optional): Color of the circle. Default is DEFAULT_CIRCLE_COLOR.\n",
    "        - is_filled (bool, optional): Whether the circle should be filled. Default is DEFAULT_CIRCLE_FILL.\n",
    "        \"\"\"\n",
    "        circle = plt.Circle((x_offset, y_offset), radius, color=color, fill=is_filled)\n",
    "        self.ax.add_patch(circle)\n",
    "\n",
    "    def draw_text(\n",
    "        self,\n",
    "        label,\n",
    "        x_offset=DEFAULT_X_OFFSET,\n",
    "        y_offset=DEFAULT_Y_OFFSET,\n",
    "        text_displacement=DEFAULT_TEXT_DISPLACEMENT,\n",
    "        color=DEFAULT_TEXT_COLOR,\n",
    "        fontsize=DEFAULT_FONT_SIZE,\n",
    "        ha=DEFAULT_TEXT_HA,\n",
    "        va=DEFAULT_TEXT_VA,\n",
    "    ):\n",
    "        \"\"\"\n",
    "        Draw text on the Axes.\n",
    "\n",
    "        Parameters:\n",
    "        - label (str): Text label to be drawn.\n",
    "        - x_offset (float, optional): x-coordinate of the text. Default is DEFAULT_X_OFFSET.\n",
    "        - y_offset (float, optional): y-coordinate of the text. Default is DEFAULT_Y_OFFSET.\n",
    "        - text_displacement (float, optional): Vertical displacement of the text. Default is DEFAULT_TEXT_DISPLACEMENT.\n",
    "        - color (str, optional): Color of the text. Default is DEFAULT_TEXT_COLOR.\n",
    "        - fontsize (int, optional): Font size of the text. Default is DEFAULT_FONT_SIZE.\n",
    "        - ha (str, optional): Horizontal alignment of the text. Default is DEFAULT_TEXT_HA.\n",
    "        - va (str, optional): Vertical alignment of the text. Default is DEFAULT_TEXT_VA.\n",
    "        \"\"\"\n",
    "        self.ax.text(\n",
    "            x_offset,\n",
    "            y_offset + text_displacement,\n",
    "            label,\n",
    "            color=color,\n",
    "            ha=ha,\n",
    "            va=va,\n",
    "            fontsize=fontsize,\n",
    "        )\n",
    "\n",
    "    def draw_line(\n",
    "        self,\n",
    "        angle=DEFAULT_ANGLE,\n",
    "        x_offset=DEFAULT_X_OFFSET,\n",
    "        y_offset=DEFAULT_Y_OFFSET,\n",
    "        color=DEFAULT_LINE_COLOR,\n",
    "        head_width=DEFAULT_HEAD_WIDTH,\n",
    "        head_length=DEFAULT_HEAD_LENGTH,\n",
    "    ):\n",
    "        \"\"\"\n",
    "        Draw a line on the Axes.\n",
    "\n",
    "        Parameters:\n",
    "        - angle (float, optional): Angle of the line. Default is DEFAULT_ANGLE.\n",
    "        - x_offset (float, optional): x-coordinate of the line start. Default is DEFAULT_X_OFFSET.\n",
    "        - y_offset (float, optional): y-coordinate of the line start. Default is DEFAULT_Y_OFFSET.\n",
    "        - color (str, optional): Color of the line. Default is DEFAULT_LINE_COLOR.\n",
    "        - head_width (float, optional): Width of the arrowhead. Default is DEFAULT_HEAD_WIDTH.\n",
    "        - head_length (float, optional): Length of the arrowhead. Default is DEFAULT_HEAD_LENGTH.\n",
    "        \"\"\"\n",
    "        line_x = self.line_length * np.cos(angle) - head_length\n",
    "        line_y = self.line_length * np.sin(angle)\n",
    "\n",
    "        self.ax.arrow(\n",
    "            x_offset,\n",
    "            y_offset,\n",
    "            line_x,\n",
    "            line_y,\n",
    "            head_width=head_width,\n",
    "            head_length=head_length,\n",
    "            fc=color,\n",
    "            ec=color,\n",
    "        )\n",
    "\n",
    "    def draw_single(self, i):\n",
    "        \"\"\"\n",
    "        Draw a single set of circles, text, and lines.\n",
    "\n",
    "        Parameters:\n",
    "        - i (int): Index of the circle set to be drawn.\n",
    "        \"\"\"\n",
    "        self.draw_circle(\n",
    "            x_offset=self.x_offset[i],\n",
    "            y_offset=self.y_offset[i],\n",
    "            radius=self.len_outer_circle[i],\n",
    "            color=self.outer_color[i],\n",
    "        )\n",
    "        self.draw_circle(\n",
    "            x_offset=self.x_offset[i],\n",
    "            y_offset=self.y_offset[i],\n",
    "            radius=self.len_inner_circle[i],\n",
    "            color=self.inner_color[i],\n",
    "            is_filled=True,\n",
    "        )\n",
    "        self.draw_text(\n",
    "            self.label[i], x_offset=self.x_offset[i], y_offset=self.y_offset[i]\n",
    "        )\n",
    "        if not self.omit_line[i]:\n",
    "            self.draw_line(\n",
    "                angle=self.angle[i],\n",
    "                x_offset=self.x_offset[i],\n",
    "                y_offset=self.y_offset[i],\n",
    "            )\n",
    "\n",
    "    def draw_all(self):\n",
    "        \"\"\"Draw all circle sets.\"\"\"\n",
    "        for i in range(len(self.angle)):\n",
    "            self.draw_single(i)\n",
    "\n",
    "        # Set aspect ratio to be equal\n",
    "        self.ax.set_aspect(\"equal\", adjustable=\"box\")\n",
    "\n",
    "        # Hide axis\n",
    "        plt.axis(\"off\")\n",
    "\n",
    "        # Display the plot\n",
    "        plt.show()\n"
   ]
  },
  {
   "cell_type": "markdown",
   "metadata": {},
   "source": [
    "## 3. QuantumState Class:\n",
    "\n",
    "**Purpose:**\n",
    "\n",
    "The QuantumState class represents quantum states and visualizes them using Circle Notation. It can be initialized from a Qiskit StateVector, a list of complex numbers or a string of an state vector. It will fail if the quantum state is not possible. \n",
    "When drawing the circle notation, the flag `use_zero_phase` can be set. It will calculate phases relative to the first state.\n",
    "\n",
    "**Attributes:**\n",
    "- amplitudes, num_qubits, dimension, state_vector: Attributes representing the quantum state and a StateVector object if it was initialized from StateVector.\n",
    "\n",
    "**Methods:**\n",
    "- `draw_circle_notation()`: Visualizes the quantum state using Circle Notation.\n",
    "- Printing the object provides a string representation of the quantum state, including amplitudes, number of qubits, dimension, global phase, relative phase, and probabilities.\n",
    "\n",
    "**Example Usage:**\n",
    "```python\n",
    "qs = QuantumState(amplitudes, num_qubits, dimension)\n",
    "qs.draw_circle_notation()\n",
    "```"
   ]
  },
  {
   "cell_type": "code",
   "execution_count": 9,
   "metadata": {
    "tags": []
   },
   "outputs": [],
   "source": [
    "import matplotlib.pyplot as plt\n",
    "import numpy as np\n",
    "import colorsys\n",
    "import re\n",
    "import math\n",
    "\n",
    "\n",
    "class QuantumState:\n",
    "    \"\"\"\n",
    "    QuantumState class for representing quantum states and visualizing them using Circle Notation.\n",
    "\n",
    "    Attributes:\n",
    "    - DEFAULT_CN_OUTER_COLOR (str): Default color for outer circles in Circle Notation.\n",
    "    - DEFAULT_CN_LEN_OUTER_CIRCLE (float): Default length of outer circles in Circle Notation.\n",
    "    - DEFAULT_CN_CIRCLES_PER_LINE (int): Default number of circles per line in Circle Notation.\n",
    "    - DEFAULT_CN_X_DISTANCE_PER_CIRCLE (float): Default x-distance between circles in Circle Notation.\n",
    "    - DEFAULT_CN_Y_DISTANCE_PER_CIRCLE (float): Default y-distance between circles in Circle Notation.\n",
    "    - DEFAULT_CN_USE_ZERO_PHASE (bool): Default flag indicating whether to use zero phase in Circle Notation.\n",
    "    \"\"\"\n",
    "\n",
    "    DEFAULT_CN_OUTER_COLOR = \"black\"\n",
    "    DEFAULT_CN_LEN_OUTER_CIRCLE = 1\n",
    "    DEFAULT_CN_CIRCLES_PER_LINE = 4\n",
    "    DEFAULT_CN_X_DISTANCE_PER_CIRCLE = 2.5\n",
    "    DEFAULT_CN_Y_DISTANCE_PER_CIRCLE = -2.8\n",
    "    DEFAULT_CN_USE_ZERO_PHASE = False\n",
    "\n",
    "    def __init__(self, amplitudes, num_qubits, dimension, state_vector=None):\n",
    "        \"\"\"\n",
    "        Initialize a QuantumState instance.\n",
    "\n",
    "        Parameters:\n",
    "        - amplitudes (list): List of amplitudes for the quantum state.\n",
    "        - num_qubits (int): Number of qubits in the quantum state.\n",
    "        - dimension (int): Dimension of the quantum state.\n",
    "        - state_vector (optional): The state vector of the quantum state.\n",
    "        \"\"\"\n",
    "\n",
    "        self.amplitudes = amplitudes\n",
    "        self.num_qubits = num_qubits\n",
    "        self.dimension = dimension\n",
    "        self.state_vector = state_vector\n",
    "\n",
    "        # Calculate phases\n",
    "        self.phases = [np.angle(a) for a in amplitudes]\n",
    "        self.global_phase = np.angle(np.prod(amplitudes))\n",
    "        self.relative_phase = [phase - self.global_phase for phase in self.phases]\n",
    "        self.zero_phase = [phase - self.phases[0] for phase in self.phases]\n",
    "\n",
    "        # Calculate probabilities\n",
    "        self.probabilities = [abs(a) ** 2 for a in amplitudes]\n",
    "\n",
    "    def __str__(self):\n",
    "        \"\"\"\n",
    "        Return a string representation of the QuantumState instance.\n",
    "\n",
    "        Returns:\n",
    "        - str: String representation of the QuantumState.\n",
    "        \"\"\"\n",
    "        return (\n",
    "            f\"Amplitudes: {self.amplitudes}, \\nNum Qubits: {self.num_qubits}, \"\n",
    "            f\"\\nDimension: {self.dimension}, \\nGlobal Phase: {self.global_phase}, \"\n",
    "            f\"\\nRelative Phase: {self.relative_phase}, \\nProbabilities: {self.probabilities}, \"\n",
    "            f\"\\nPhases: {self.phases}\"\n",
    "        )\n",
    "\n",
    "    def is_state_vector_valid(self, amplitudes):\n",
    "        \"\"\"\n",
    "        Check if the given amplitudes form a valid quantum state.\n",
    "\n",
    "        Parameters:\n",
    "        - amplitudes (list): List of amplitudes.\n",
    "\n",
    "        Returns:\n",
    "        - bool: True if valid, False otherwise.\n",
    "        \"\"\"\n",
    "        tolerance = 1e-10\n",
    "        square_sum = sum(abs(amplitude) ** 2 for amplitude in amplitudes)\n",
    "        return abs(square_sum - 1) < tolerance\n",
    "\n",
    "    @classmethod\n",
    "    def from_complex_numbers(cls, complex_numbers: list) -> \"QuantumState\":\n",
    "        \"\"\"\n",
    "        Create a QuantumState instance from a list of complex numbers.\n",
    "\n",
    "        Parameters:\n",
    "        - complex_numbers (list): List of complex numbers representing the quantum state.\n",
    "\n",
    "        Returns:\n",
    "        - QuantumState: The created instance.\n",
    "        \"\"\"\n",
    "        # Check if state vector is valid\n",
    "        if not cls.is_state_vector_valid(cls, complex_numbers):\n",
    "            raise QuantumError(\"Invalid quantum state.\")\n",
    "\n",
    "        num_qubits = int(np.log2(len(complex_numbers)))\n",
    "        dimension = len(complex_numbers)\n",
    "\n",
    "        return cls(complex_numbers, num_qubits, dimension)\n",
    "    \n",
    "    @classmethod\n",
    "    def from_string(cls, string: str) -> \"QuantumState\":\n",
    "        \"\"\"\n",
    "        Create a QuantumState instance from a string representation.\n",
    "\n",
    "        Parameters:\n",
    "        - string (str): String representation of the quantum state.\n",
    "\n",
    "        Returns:\n",
    "        - QuantumState: The created instance.\n",
    "        \"\"\"\n",
    "        # Extracting the complex numbers from the string\n",
    "        match = re.match(r\"\\[?(.*?)\\]?$\", string, re.DOTALL)\n",
    "\n",
    "        if not match:\n",
    "            raise QuantumError(\"Invalid state vector: invalid string representation.\")\n",
    "\n",
    "        complex_numbers_str = match.group(1)\n",
    "\n",
    "        # Converting the complex numbers string to a list of complex numbers\n",
    "        complex_numbers = [complex(val) for val in complex_numbers_str.split(\",\")]\n",
    "\n",
    "        # Check if state vector is valid\n",
    "        if not cls.is_state_vector_valid(cls, complex_numbers):\n",
    "            raise QuantumError(\"Invalid quantum state.\")\n",
    "\n",
    "        # Assuming num_qubits and dimension can be derived from the length of the state vector\n",
    "        num_qubits = int(np.log2(len(complex_numbers)))\n",
    "        dimension = len(complex_numbers)\n",
    "\n",
    "        # Check if num_qubits is a power of 2\n",
    "        if not (num_qubits and not num_qubits & (num_qubits - 1)):\n",
    "            raise QuantumError(\n",
    "                \"Invalid state vector: Number of qubits must be a power of 2.\"\n",
    "            )\n",
    "\n",
    "        # Creating a QuantumState instance\n",
    "        return cls(complex_numbers, num_qubits, dimension)\n",
    "\n",
    "    @classmethod\n",
    "    def from_statevector(cls, sv: \"StateVector\") -> \"QuantumState\":\n",
    "        \"\"\"\n",
    "        Create a QuantumState instance from a StateVector instance.\n",
    "\n",
    "        Parameters:\n",
    "        - sv (StateVector): The StateVector instance.\n",
    "\n",
    "        Returns:\n",
    "        - QuantumState: The created instance.\n",
    "        \"\"\"\n",
    "        # Check if state vector is valid\n",
    "        if not cls.is_state_vector_valid(cls, sv.data):\n",
    "            raise QuantumError(\"Invalid quantum state.\")\n",
    "\n",
    "        return cls(sv.data, sv.num_qubits, sv.dim, sv)\n",
    "\n",
    "    def rgb_gradient_from_pi(self, angle: float) -> np.ndarray:\n",
    "        \"\"\"\n",
    "        Convert an angle to an RGB color in the range [0, 2*pi].\n",
    "\n",
    "        Parameters:\n",
    "        - angle (float): The angle to convert.\n",
    "\n",
    "        Returns:\n",
    "        - np.array: RGB color representation in the range [0, 1].\n",
    "        \"\"\"\n",
    "        # Map the angle to the range [0, 1]\n",
    "        normalized_angle = (angle % (2 * np.pi)) / (2 * np.pi)\n",
    "\n",
    "        # Map the angle to the hue value in the HSV color space\n",
    "        hue = normalized_angle\n",
    "        saturation = 0.8\n",
    "        value = 1.0\n",
    "\n",
    "        # Convert HSV to RGB\n",
    "        rgb = colorsys.hsv_to_rgb(hue, saturation, value)\n",
    "        return np.array(rgb)\n",
    "\n",
    "    def draw_circle_notation(\n",
    "        self,\n",
    "        use_zero_phase=DEFAULT_CN_USE_ZERO_PHASE,\n",
    "        outer_color=DEFAULT_CN_OUTER_COLOR,\n",
    "        len_outer_circle=DEFAULT_CN_LEN_OUTER_CIRCLE,\n",
    "        circles_per_line=DEFAULT_CN_CIRCLES_PER_LINE,\n",
    "        x_distance_per_circle=DEFAULT_CN_X_DISTANCE_PER_CIRCLE,\n",
    "        y_distance_per_circle=DEFAULT_CN_Y_DISTANCE_PER_CIRCLE,\n",
    "    ):\n",
    "        \"\"\"\n",
    "        Draw circle notation for the quantum state.\n",
    "\n",
    "        Parameters:\n",
    "        - use_zero_phase (bool): Flag indicating whether to use 0 phase in Circle Notation.\n",
    "        - outer_color (str): Color for outer circles in Circle Notation.\n",
    "        - len_outer_circle (float): Length of outer circles in Circle Notation.\n",
    "        - circles_per_line (int): Number of circles per line in Circle Notation.\n",
    "        - x_distance_per_circle (float): X-distance between circles in Circle Notation.\n",
    "        - y_distance_per_circle (float): Y-distance between circles in Circle Notation.\n",
    "        \"\"\"\n",
    "\n",
    "        label = [\n",
    "            f\"|{bin(i)[2:].zfill(int(math.sqrt(self.dimension)))}⟩\"\n",
    "            for i in range(2**self.dimension)\n",
    "        ]\n",
    "\n",
    "        angle = self.zero_phase if use_zero_phase else self.phases\n",
    "        \n",
    "        inner_color = [\n",
    "            self.rgb_gradient_from_pi(phase)\n",
    "            for phase in (self.zero_phase if use_zero_phase else self.phases)\n",
    "        ]\n",
    "        \n",
    "        len_inner_circle = [prob for prob in self.probabilities]\n",
    "        omit_line = [probability == 0 for probability in self.probabilities]\n",
    "\n",
    "        x_offset = [\n",
    "            (i % circles_per_line) * x_distance_per_circle\n",
    "            for i in range(self.dimension)\n",
    "        ]\n",
    "        \n",
    "        y_offset = [\n",
    "            (i // circles_per_line) * y_distance_per_circle\n",
    "            for i in range(self.dimension)\n",
    "        ]\n",
    "\n",
    "        cn = CircleNotation(\n",
    "            label=label,\n",
    "            inner_color=inner_color,\n",
    "            outer_color=[outer_color] * self.dimension,\n",
    "            angle=angle,\n",
    "            x_offset=x_offset,\n",
    "            y_offset=y_offset,\n",
    "            omit_line=omit_line,\n",
    "            len_outer_circle=[len_outer_circle] * self.dimension,\n",
    "            len_inner_circle=len_inner_circle,\n",
    "        )\n",
    "        cn.draw_all()\n"
   ]
  },
  {
   "cell_type": "markdown",
   "metadata": {},
   "source": [
    "### Code explanation: "
   ]
  },
  {
   "cell_type": "markdown",
   "metadata": {
    "tags": []
   },
   "source": [
    "#### **Quantum State Representation**\n",
    "\n",
    "The quantum state is represented by a set of probability amplitudes where it ranges over all possible states of the quantum system:\n",
    "\n",
    "$$P_i = |\\psi_i|^2$$\n",
    "\n",
    "Amplitudes are given in class initialization.\n",
    "\n",
    "#### **Phases and Global Phase**\n",
    "\n",
    "The code calculates the phase of each amplitude using the NumPy function np.angle(a):\n",
    "\n",
    "$$\\phi_i = \\text{arg}(a_i)$$\n",
    "\n",
    "\n",
    "The global phase of the quantum state is calculated as the phase of the product of all amplitudes.\n",
    "\n",
    "$$\\Phi = \\arg\\left(\\prod_{i} \\psi_i\\right)$$\n",
    "\n",
    "\n",
    "The relative phase of each amplitude is then computed as the difference between its phase and the global phase:\n",
    "$$\\Delta\\phi_i = \\phi_i - \\Phi$$"
   ]
  },
  {
   "cell_type": "markdown",
   "metadata": {},
   "source": [
    "#### **Checking if a quantum state is valid**\n",
    "In quantum systems, the state vector must adhere to the normalization requirement, stating that the sum of the squared magnitudes of its probability amplitudes should equal 1.\n",
    "\n",
    "This condition is expressed mathematically as:\n",
    "\n",
    "$$\\sum_{i} \\lvert \\psi_i \\rvert^2 = 1$$\n",
    "\n",
    "The code calculates the square sum of the absolute values of the amplitudes and checks whether it approximates 1 within a specified tolerance."
   ]
  },
  {
   "cell_type": "markdown",
   "metadata": {
    "tags": []
   },
   "source": [
    "#### **Converting an angle to a color**\n",
    " \n",
    "The code snippet in `rgb_gradient_from_pi` performs color mapping for visualizing angles in the range [0, 2*pi]. It transforms angles into corresponding RGB colors. The process involves two main steps:\n",
    "\n",
    "**Normalization:**\n",
    "The angle is first normalized to the range [0, 1] using modulo arithmetic with `2 * np.pi`.\n",
    "\n",
    "**Conversion to RGB:**\n",
    "The normalized angle is then mapped to the hue value in the HSV (Hue, Saturation, Value) color space. Additional parameters, such as saturation and value, are set to constant values (0.8 and 1.0, respectively). The HSV color representation is finally converted to RGB using the `colorsys.hsv_to_rgb` function. The resulting RGB color is returned as a NumPy array."
   ]
  },
  {
   "cell_type": "markdown",
   "metadata": {
    "tags": []
   },
   "source": [
    "# Trying circle notation\n",
    "Let's create a QuantumState object from a Qiskit StateVector from the previous execution and draw the circle notation:"
   ]
  },
  {
   "cell_type": "code",
   "execution_count": 10,
   "metadata": {
    "tags": []
   },
   "outputs": [
    {
     "data": {
      "image/png": "[encoded data removed]",
      "text/plain": [
       "<Figure size 640x480 with 1 Axes>"
      ]
     },
     "metadata": {},
     "output_type": "display_data"
    }
   ],
   "source": [
    "qs = QuantumState.from_statevector(sv)\n",
    "qs.draw_circle_notation()"
   ]
  },
  {
   "cell_type": "markdown",
   "metadata": {},
   "source": [
    "Let's try setting `use_zero_phase` to True:"
   ]
  },
  {
   "cell_type": "code",
   "execution_count": 11,
   "metadata": {
    "tags": []
   },
   "outputs": [
    {
     "data": {
      "image/png": "[encoded data removed]",
      "text/plain": [
       "<Figure size 640x480 with 1 Axes>"
      ]
     },
     "metadata": {},
     "output_type": "display_data"
    }
   ],
   "source": [
    "qs = QuantumState.from_statevector(sv)\n",
    "qs.draw_circle_notation(use_zero_phase=True)"
   ]
  },
  {
   "cell_type": "markdown",
   "metadata": {},
   "source": [
    "Printing can provide more information about the quantum state:"
   ]
  },
  {
   "cell_type": "code",
   "execution_count": 12,
   "metadata": {
    "tags": []
   },
   "outputs": [
    {
     "name": "stdout",
     "output_type": "stream",
     "text": [
      "Amplitudes: [-0.25+1.5308085e-17j -0.25+1.5308085e-17j  0.25-1.5308085e-17j\n",
      "  0.25-1.5308085e-17j  0.25-1.5308085e-17j  0.25-1.5308085e-17j\n",
      " -0.25+1.5308085e-17j -0.25+1.5308085e-17j  0.  +2.5000000e-01j\n",
      "  0.  +2.5000000e-01j -0.  -2.5000000e-01j -0.  -2.5000000e-01j\n",
      " -0.  -2.5000000e-01j -0.  -2.5000000e-01j  0.  +2.5000000e-01j\n",
      "  0.  +2.5000000e-01j], \n",
      "Num Qubits: 4, \n",
      "Dimension: 16, \n",
      "Global Phase: -4.898587196589412e-16, \n",
      "Relative Phase: [3.1415926535897936, 3.1415926535897936, 4.286263797015735e-16, 4.286263797015735e-16, 4.286263797015735e-16, 4.286263797015735e-16, 3.1415926535897936, 3.1415926535897936, 1.570796326794897, 1.570796326794897, -1.5707963267948961, -1.5707963267948961, -1.5707963267948961, -1.5707963267948961, 1.570796326794897, 1.570796326794897], \n",
      "Probabilities: [0.06250000000000003, 0.06250000000000003, 0.06250000000000003, 0.06250000000000003, 0.06250000000000003, 0.06250000000000003, 0.06250000000000003, 0.06250000000000003, 0.06250000000000003, 0.06250000000000003, 0.06250000000000003, 0.06250000000000003, 0.06250000000000003, 0.06250000000000003, 0.06250000000000003, 0.06250000000000003], \n",
      "Phases: [3.141592653589793, 3.141592653589793, -6.123233995736766e-17, -6.123233995736766e-17, -6.123233995736766e-17, -6.123233995736766e-17, 3.141592653589793, 3.141592653589793, 1.5707963267948966, 1.5707963267948966, -1.5707963267948966, -1.5707963267948966, -1.5707963267948966, -1.5707963267948966, 1.5707963267948966, 1.5707963267948966]\n"
     ]
    }
   ],
   "source": [
    "print(qs)"
   ]
  },
  {
   "cell_type": "markdown",
   "metadata": {},
   "source": [
    "QuantumState can also be initialized from a string:"
   ]
  },
  {
   "cell_type": "code",
   "execution_count": 13,
   "metadata": {
    "tags": []
   },
   "outputs": [
    {
     "name": "stdout",
     "output_type": "stream",
     "text": [
      "Amplitudes: [(1+0j), 0j], \n",
      "Num Qubits: 1, \n",
      "Dimension: 2, \n",
      "Global Phase: 0.0, \n",
      "Relative Phase: [0.0, 0.0], \n",
      "Probabilities: [1.0, 0.0], \n",
      "Phases: [0.0, 0.0]\n"
     ]
    },
    {
     "data": {
      "image/png": "[encoded data removed]",
      "text/plain": [
       "<Figure size 640x480 with 1 Axes>"
      ]
     },
     "metadata": {},
     "output_type": "display_data"
    }
   ],
   "source": [
    "qs = QuantumState.from_string('[ 1+0j, 0+0j ]')\n",
    "print(qs)\n",
    "qs.draw_circle_notation()"
   ]
  },
  {
   "cell_type": "markdown",
   "metadata": {},
   "source": [
    "It can also be initialized from a list of complex numbers:"
   ]
  },
  {
   "cell_type": "code",
   "execution_count": 14,
   "metadata": {
    "tags": []
   },
   "outputs": [
    {
     "name": "stdout",
     "output_type": "stream",
     "text": [
      "Amplitudes: [(0.7071067811865475+0j), 0.7071067811865475j], \n",
      "Num Qubits: 1, \n",
      "Dimension: 2, \n",
      "Global Phase: 1.5707963267948966, \n",
      "Relative Phase: [-1.5707963267948966, 0.0], \n",
      "Probabilities: [0.4999999999999999, 0.4999999999999999], \n",
      "Phases: [0.0, 1.5707963267948966]\n"
     ]
    },
    {
     "data": {
      "image/png": "[encoded data removed]",
      "text/plain": [
       "<Figure size 640x480 with 1 Axes>"
      ]
     },
     "metadata": {},
     "output_type": "display_data"
    }
   ],
   "source": [
    "complex_number_0 = complex(1 / np.sqrt(2), 0)  # Amplitude for |0⟩\n",
    "complex_number_1 = complex(0, 1 / np.sqrt(2))  # Amplitude for |1⟩\n",
    "\n",
    "combined_amplitudes = [complex_number_0, complex_number_1]\n",
    "\n",
    "qs = QuantumState.from_complex_numbers(combined_amplitudes)\n",
    "print(qs)\n",
    "qs.draw_circle_notation()"
   ]
  },
  {
   "cell_type": "markdown",
   "metadata": {},
   "source": [
    "Error example showing what happens is a state vector is wrong:"
   ]
  },
  {
   "cell_type": "code",
   "execution_count": 17,
   "metadata": {
    "tags": []
   },
   "outputs": [
    {
     "ename": "QuantumError",
     "evalue": "Invalid quantum state.",
     "output_type": "error",
     "traceback": [
      "\u001b[1;31m---------------------------------------------------------------------------\u001b[0m",
      "\u001b[1;31mQuantumError\u001b[0m                              Traceback (most recent call last)",
      "Cell \u001b[1;32mIn[17], line 2\u001b[0m\n\u001b[0;32m      1\u001b[0m complex_number \u001b[38;5;241m=\u001b[39m \u001b[38;5;28mcomplex\u001b[39m(\u001b[38;5;241m0.707\u001b[39m, \u001b[38;5;241m0.707\u001b[39m)  \u001b[38;5;66;03m# Example complex number\u001b[39;00m\n\u001b[1;32m----> 2\u001b[0m qs \u001b[38;5;241m=\u001b[39m \u001b[43mQuantumState\u001b[49m\u001b[38;5;241;43m.\u001b[39;49m\u001b[43mfrom_complex_numbers\u001b[49m\u001b[43m(\u001b[49m\u001b[43m[\u001b[49m\u001b[43mcomplex_number\u001b[49m\u001b[43m,\u001b[49m\u001b[43mcomplex_number\u001b[49m\u001b[43m]\u001b[49m\u001b[43m)\u001b[49m\n",
      "Cell \u001b[1;32mIn[9], line 94\u001b[0m, in \u001b[0;36mQuantumState.from_complex_numbers\u001b[1;34m(cls, complex_numbers)\u001b[0m\n\u001b[0;32m     92\u001b[0m \u001b[38;5;66;03m# Check if state vector is valid\u001b[39;00m\n\u001b[0;32m     93\u001b[0m \u001b[38;5;28;01mif\u001b[39;00m \u001b[38;5;129;01mnot\u001b[39;00m \u001b[38;5;28mcls\u001b[39m\u001b[38;5;241m.\u001b[39mis_state_vector_valid(\u001b[38;5;28mcls\u001b[39m, complex_numbers):\n\u001b[1;32m---> 94\u001b[0m     \u001b[38;5;28;01mraise\u001b[39;00m QuantumError(\u001b[38;5;124m\"\u001b[39m\u001b[38;5;124mInvalid quantum state.\u001b[39m\u001b[38;5;124m\"\u001b[39m)\n\u001b[0;32m     96\u001b[0m num_qubits \u001b[38;5;241m=\u001b[39m \u001b[38;5;28mint\u001b[39m(np\u001b[38;5;241m.\u001b[39mlog2(\u001b[38;5;28mlen\u001b[39m(complex_numbers)))\n\u001b[0;32m     97\u001b[0m dimension \u001b[38;5;241m=\u001b[39m \u001b[38;5;28mlen\u001b[39m(complex_numbers)\n",
      "\u001b[1;31mQuantumError\u001b[0m: Invalid quantum state."
     ]
    }
   ],
   "source": [
    "complex_number = complex(0.707, 0.707)  # Example complex number\n",
    "qs = QuantumState.from_complex_numbers([complex_number, complex_number])"
   ]
  }
 ],
 "metadata": {
  "kernelspec": {
   "display_name": "Python 3 (ipykernel)",
   "language": "python",
   "name": "python3"
  },
  "language_info": {
   "codemirror_mode": {
    "name": "ipython",
    "version": 3
   },
   "file_extension": ".py",
   "mimetype": "text/x-python",
   "name": "python",
   "nbconvert_exporter": "python",
   "pygments_lexer": "ipython3",
   "version": "3.10.8"
  },
  "widgets": {
   "application/vnd.jupyter.widget-state+json": {
    "state": {
     "0010185afeed46daa4b3dd7b8f8a5133": {
      "model_module": "@jupyter-widgets/controls",
      "model_module_version": "2.0.0",
      "model_name": "HTMLStyleModel",
      "state": {
       "description_width": "",
       "font_size": null,
       "text_color": null
      }
     },
     "09a201663acd497084980b5a3463dd76": {
      "model_module": "@jupyter-widgets/controls",
      "model_module_version": "2.0.0",
      "model_name": "HTMLModel",
      "state": {
       "layout": "IPY_MODEL_2feb4636d84548498000cd6e76426e20",
       "style": "IPY_MODEL_b8035c752b4f4b0f814a9e5bbe7c7aa3",
       "value": "<h5>Queue</h5>"
      }
     },
     "11c5b40f4ada4651bb6a836cbe86deca": {
      "model_module": "@jupyter-widgets/controls",
      "model_module_version": "2.0.0",
      "model_name": "ButtonModel",
      "state": {
       "button_style": "primary",
       "description": "Clear",
       "layout": "IPY_MODEL_473edb09f0324a1287f5cdb0091de2d8",
       "style": "IPY_MODEL_304cb59605754a60a5c72e6bbea2e4de",
       "tooltip": null
      }
     },
     "22c2caf1c1084500b20e0cac05fe8286": {
      "model_module": "@jupyter-widgets/base",
      "model_module_version": "2.0.0",
      "model_name": "LayoutModel",
      "state": {}
     },
     "22f39f4968dc44ff9f2cddb254e836f3": {
      "model_module": "@jupyter-widgets/controls",
      "model_module_version": "2.0.0",
      "model_name": "HTMLModel",
      "state": {
       "layout": "IPY_MODEL_b4080d66006844789d4d8f5168e9bb01",
       "style": "IPY_MODEL_43f95d9354f6427aa8f6d769b1ff9ef2",
       "value": "<h5>Status</h5>"
      }
     },
     "281638e27d6442a2b5df28cc6fb2a865": {
      "model_module": "@jupyter-widgets/base",
      "model_module_version": "2.0.0",
      "model_name": "LayoutModel",
      "state": {
       "width": "190px"
      }
     },
     "2feb4636d84548498000cd6e76426e20": {
      "model_module": "@jupyter-widgets/base",
      "model_module_version": "2.0.0",
      "model_name": "LayoutModel",
      "state": {
       "width": "70px"
      }
     },
     "304cb59605754a60a5c72e6bbea2e4de": {
      "model_module": "@jupyter-widgets/controls",
      "model_module_version": "2.0.0",
      "model_name": "ButtonStyleModel",
      "state": {
       "font_family": null,
       "font_size": null,
       "font_style": null,
       "font_variant": null,
       "font_weight": null,
       "text_color": null,
       "text_decoration": null
      }
     },
     "388e5c3978b8493d9505c900087bb8bf": {
      "model_module": "@jupyter-widgets/controls",
      "model_module_version": "2.0.0",
      "model_name": "HTMLModel",
      "state": {
       "layout": "IPY_MODEL_aa39aaf0d73048aeaeb851374fe9d07b",
       "style": "IPY_MODEL_0010185afeed46daa4b3dd7b8f8a5133",
       "value": "<p style='font-family: IBM Plex Sans, Arial, Helvetica, sans-serif; font-size: 20px; font-weight: medium;'>Circuit Properties</p>"
      }
     },
     "43f95d9354f6427aa8f6d769b1ff9ef2": {
      "model_module": "@jupyter-widgets/controls",
      "model_module_version": "2.0.0",
      "model_name": "HTMLStyleModel",
      "state": {
       "description_width": "",
       "font_size": null,
       "text_color": null
      }
     },
     "473edb09f0324a1287f5cdb0091de2d8": {
      "model_module": "@jupyter-widgets/base",
      "model_module_version": "2.0.0",
      "model_name": "LayoutModel",
      "state": {
       "grid_area": "right",
       "padding": "0px 0px 0px 0px",
       "width": "70px"
      }
     },
     "52132f347d2c40279fe7bd1791b125b5": {
      "model_module": "@jupyter-widgets/controls",
      "model_module_version": "2.0.0",
      "model_name": "HTMLStyleModel",
      "state": {
       "description_width": "",
       "font_size": null,
       "text_color": null
      }
     },
     "6a4a3e0620264c30ab22bde6298e0016": {
      "model_module": "@jupyter-widgets/base",
      "model_module_version": "2.0.0",
      "model_name": "LayoutModel",
      "state": {
       "grid_template_areas": "\n                                       \". . . . right \"\n                                        ",
       "grid_template_columns": "20% 20% 20% 20% 20%",
       "width": "100%"
      }
     },
     "83fb0eafe1bb4fd6b178239b20b9db46": {
      "model_module": "@jupyter-widgets/base",
      "model_module_version": "2.0.0",
      "model_name": "LayoutModel",
      "state": {
       "width": "145px"
      }
     },
     "a994aa33ff214021a1e0c6eb052dbfb5": {
      "model_module": "@jupyter-widgets/controls",
      "model_module_version": "2.0.0",
      "model_name": "HTMLStyleModel",
      "state": {
       "description_width": "",
       "font_size": null,
       "text_color": null
      }
     },
     "aa39aaf0d73048aeaeb851374fe9d07b": {
      "model_module": "@jupyter-widgets/base",
      "model_module_version": "2.0.0",
      "model_name": "LayoutModel",
      "state": {
       "margin": "0px 0px 10px 0px"
      }
     },
     "b2b87a2e52604dee8ca735fb28bac0e8": {
      "model_module": "@jupyter-widgets/controls",
      "model_module_version": "2.0.0",
      "model_name": "HTMLModel",
      "state": {
       "layout": "IPY_MODEL_22c2caf1c1084500b20e0cac05fe8286",
       "style": "IPY_MODEL_e0ae732de65742fc8357e9d6b822316e",
       "value": "<h5>Message</h5>"
      }
     },
     "b4080d66006844789d4d8f5168e9bb01": {
      "model_module": "@jupyter-widgets/base",
      "model_module_version": "2.0.0",
      "model_name": "LayoutModel",
      "state": {
       "width": "95px"
      }
     },
     "b8035c752b4f4b0f814a9e5bbe7c7aa3": {
      "model_module": "@jupyter-widgets/controls",
      "model_module_version": "2.0.0",
      "model_name": "HTMLStyleModel",
      "state": {
       "description_width": "",
       "font_size": null,
       "text_color": null
      }
     },
     "bab5546cc7584c9aad857e8b241c72dc": {
      "model_module": "@jupyter-widgets/controls",
      "model_module_version": "2.0.0",
      "model_name": "HTMLModel",
      "state": {
       "layout": "IPY_MODEL_83fb0eafe1bb4fd6b178239b20b9db46",
       "style": "IPY_MODEL_52132f347d2c40279fe7bd1791b125b5",
       "value": "<h5>Backend</h5>"
      }
     },
     "c256505f93974a95b9bd2282319326a8": {
      "model_module": "@jupyter-widgets/controls",
      "model_module_version": "2.0.0",
      "model_name": "HTMLModel",
      "state": {
       "layout": "IPY_MODEL_281638e27d6442a2b5df28cc6fb2a865",
       "style": "IPY_MODEL_a994aa33ff214021a1e0c6eb052dbfb5",
       "value": "<h5>Job ID</h5>"
      }
     },
     "c585d71877914d08ab19f7e6001142c9": {
      "model_module": "@jupyter-widgets/controls",
      "model_module_version": "2.0.0",
      "model_name": "GridBoxModel",
      "state": {
       "children": [
        "IPY_MODEL_11c5b40f4ada4651bb6a836cbe86deca"
       ],
       "layout": "IPY_MODEL_6a4a3e0620264c30ab22bde6298e0016"
      }
     },
     "cec6042a7f844aa4b21a234d4d730732": {
      "model_module": "@jupyter-widgets/controls",
      "model_module_version": "2.0.0",
      "model_name": "HBoxModel",
      "state": {
       "children": [
        "IPY_MODEL_c256505f93974a95b9bd2282319326a8",
        "IPY_MODEL_bab5546cc7584c9aad857e8b241c72dc",
        "IPY_MODEL_22f39f4968dc44ff9f2cddb254e836f3",
        "IPY_MODEL_09a201663acd497084980b5a3463dd76",
        "IPY_MODEL_b2b87a2e52604dee8ca735fb28bac0e8"
       ],
       "layout": "IPY_MODEL_f1b620d78fd54961ad20383c2345e6fc"
      }
     },
     "e0ae732de65742fc8357e9d6b822316e": {
      "model_module": "@jupyter-widgets/controls",
      "model_module_version": "2.0.0",
      "model_name": "HTMLStyleModel",
      "state": {
       "description_width": "",
       "font_size": null,
       "text_color": null
      }
     },
     "f1b620d78fd54961ad20383c2345e6fc": {
      "model_module": "@jupyter-widgets/base",
      "model_module_version": "2.0.0",
      "model_name": "LayoutModel",
      "state": {
       "margin": "0px 0px 0px 37px",
       "width": "600px"
      }
     }
    },
    "version_major": 2,
    "version_minor": 0
   }
  }
 },
 "nbformat": 4,
 "nbformat_minor": 4
}
